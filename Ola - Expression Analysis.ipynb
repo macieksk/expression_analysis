{
 "cells": [
  {
   "cell_type": "code",
   "execution_count": 1,
   "metadata": {
    "collapsed": false
   },
   "outputs": [
    {
     "data": {
      "text/html": [
       "'R version 3.2.2 (2015-08-14)'"
      ],
      "text/latex": [
       "'R version 3.2.2 (2015-08-14)'"
      ],
      "text/markdown": [
       "'R version 3.2.2 (2015-08-14)'"
      ],
      "text/plain": [
       "[1] \"R version 3.2.2 (2015-08-14)\""
      ]
     },
     "execution_count": 1,
     "metadata": {},
     "output_type": "execute_result"
    },
    {
     "name": "stdout",
     "output_type": "stream",
     "text": [
      "[1] \"email: 'Maciek Sykulski'<macieksk@gmail.com>\"\n"
     ]
    },
    {
     "data": {
      "text/html": [
       "0"
      ],
      "text/latex": [
       "0"
      ],
      "text/markdown": [
       "0"
      ],
      "text/plain": [
       "[1] 0"
      ]
     },
     "execution_count": 1,
     "metadata": {},
     "output_type": "execute_result"
    }
   ],
   "source": [
    "R.version.string\n",
    "print(\"email: 'Maciek Sykulski'<macieksk@gmail.com>\")\n",
    "length(ls())"
   ]
  },
  {
   "cell_type": "code",
   "execution_count": 16,
   "metadata": {
    "collapsed": false
   },
   "outputs": [],
   "source": [
    "projDir<-\"./\"\n",
    "projectPrefix<-\"R_supervised_analysis_MP_cTCC_Project\"\n",
    "\n",
    "#\n",
    "load.sources<-function(){\n",
    "    for (f in  c(\"utils.R\", #Contains inpar, save_new_image, etc\n",
    "                 \"heatmap.clust.R\",\n",
    "                 \"Choi.et.al.genes.R\",\n",
    "                 \"iterative.unsup.sup.R\",\n",
    "                 \"clustcompare.R\"\n",
    "                 #\"circos.R\"\n",
    "                 #...  \n",
    "                 ) \n",
    "        ){\n",
    "    source(paste(projDir,\"/src/\",f,sep=\"\"))\n",
    "   }\n",
    "}\n",
    "load.sources()"
   ]
  },
  {
   "cell_type": "code",
   "execution_count": 18,
   "metadata": {
    "collapsed": false
   },
   "outputs": [
    {
     "name": "stderr",
     "output_type": "stream",
     "text": [
      "Warning message:\n",
      ": namespace ‘pROC’ is not available and has been replaced\n",
      "by .GlobalEnv when processing object ‘roc1’"
     ]
    },
    {
     "data": {
      "text/plain": [
       "   user  system elapsed \n",
       " 92.500   1.890  94.517 "
      ]
     },
     "execution_count": 18,
     "metadata": {},
     "output_type": "execute_result"
    },
    {
     "name": "stderr",
     "output_type": "stream",
     "text": [
      "Loading required package: lumi\n",
      "Warning message:\n",
      "In library(package, lib.loc = lib.loc, character.only = TRUE, logical.return = TRUE, : there is no package called ‘lumi’"
     ]
    },
    {
     "ename": "ERROR",
     "evalue": "Error in .requirePackage(package): unable to find required package ‘lumi’\n",
     "output_type": "error",
     "traceback": [
      "Error in .requirePackage(package): unable to find required package ‘lumi’\n"
     ]
    },
    {
     "data": {
      "text/html": [
       "<table>\n",
       "<thead><tr><th></th><th scope=col>used</th><th scope=col>(Mb)</th><th scope=col>gc trigger</th><th scope=col>(Mb)</th><th scope=col>max used</th><th scope=col>(Mb)</th></tr></thead>\n",
       "<tbody>\n",
       "\t<tr><th scope=row>Ncells</th><td>11713563.0</td><td>     625.6</td><td>17371378.0</td><td>     927.8</td><td>12931886.0</td><td>     690.7</td></tr>\n",
       "\t<tr><th scope=row>Vcells</th><td>597949653.0</td><td>     4562.0</td><td>797004094.0</td><td>     6080.7</td><td>664081033.0</td><td>     5066.6</td></tr>\n",
       "</tbody>\n",
       "</table>\n"
      ],
      "text/latex": [
       "\\begin{tabular}{r|llllll}\n",
       "  & used & (Mb) & gc trigger & (Mb) & max used & (Mb)\\\\\n",
       "\\hline\n",
       "\tNcells & 11713563.0 &      625.6 & 17371378.0 &      927.8 & 12931886.0 &      690.7\\\\\n",
       "\tVcells & 597949653.0 &      4562.0 & 797004094.0 &      6080.7 & 664081033.0 &      5066.6\\\\\n",
       "\\end{tabular}\n"
      ],
      "text/markdown": [
       "1. 11713563\n",
       "2. 597949653\n",
       "3. 625.6\n",
       "4. 4562\n",
       "5. 17371378\n",
       "6. 797004094\n",
       "7. 927.8\n",
       "8. 6080.7\n",
       "9. 12931886\n",
       "10. 664081033\n",
       "11. 690.7\n",
       "12. 5066.6\n",
       "\n",
       "\n"
      ],
      "text/plain": [
       "            used   (Mb) gc trigger   (Mb)  max used   (Mb)\n",
       "Ncells  11713563  625.6   17371378  927.8  12931886  690.7\n",
       "Vcells 597949653 4562.0  797004094 6080.7 664081033 5066.6"
      ]
     },
     "execution_count": 18,
     "metadata": {},
     "output_type": "execute_result"
    }
   ],
   "source": [
    "#Load project from .Rdata\n",
    "system.time(load(paste(projDir,\"/r_saved_images/\",projectPrefix,\".Rdata\",sep=\"\")))\n",
    "lsos(n=30)\n",
    "gc()"
   ]
  },
  {
   "cell_type": "code",
   "execution_count": 7,
   "metadata": {
    "collapsed": false
   },
   "outputs": [
    {
     "data": {
      "text/html": [
       "<table>\n",
       "<thead><tr><th></th><th scope=col>used</th><th scope=col>(Mb)</th><th scope=col>gc trigger</th><th scope=col>(Mb)</th><th scope=col>max used</th><th scope=col>(Mb)</th></tr></thead>\n",
       "<tbody>\n",
       "\t<tr><th scope=row>Ncells</th><td>329183.0</td><td>    17.6</td><td>592000.0</td><td>    31.7</td><td>550603.0</td><td>    29.5</td></tr>\n",
       "\t<tr><th scope=row>Vcells</th><td> 544411.0</td><td>      4.2</td><td>1023718.0</td><td>      7.9</td><td> 785564.0</td><td>      6.0</td></tr>\n",
       "</tbody>\n",
       "</table>\n"
      ],
      "text/latex": [
       "\\begin{tabular}{r|llllll}\n",
       "  & used & (Mb) & gc trigger & (Mb) & max used & (Mb)\\\\\n",
       "\\hline\n",
       "\tNcells & 329183.0 &     17.6 & 592000.0 &     31.7 & 550603.0 &     29.5\\\\\n",
       "\tVcells &  544411.0 &       4.2 & 1023718.0 &       7.9 &  785564.0 &       6.0\\\\\n",
       "\\end{tabular}\n"
      ],
      "text/markdown": [
       "1. 329183\n",
       "2. 544411\n",
       "3. 17.6\n",
       "4. 4.2\n",
       "5. 592000\n",
       "6. 1023718\n",
       "7. 31.7\n",
       "8. 7.9\n",
       "9. 550603\n",
       "10. 785564\n",
       "11. 29.5\n",
       "12. 6\n",
       "\n",
       "\n"
      ],
      "text/plain": [
       "         used (Mb) gc trigger (Mb) max used (Mb)\n",
       "Ncells 329183 17.6     592000 31.7   550603 29.5\n",
       "Vcells 544411  4.2    1023718  7.9   785564  6.0"
      ]
     },
     "execution_count": 7,
     "metadata": {},
     "output_type": "execute_result"
    }
   ],
   "source": [
    "#Save project .Rdata\n",
    "gc()\n",
    "#system.time(save_new_image())"
   ]
  },
  {
   "cell_type": "code",
   "execution_count": null,
   "metadata": {
    "collapsed": true
   },
   "outputs": [],
   "source": [
    "library(cluster)\n",
    "library(MASS)\n",
    "\n",
    "#library(lumi)\n",
    "#library(lumiHumanIDMapping)\n",
    "#library(lumiHumanAll.db)\n",
    "\n",
    "#install.packages(\"./src/mylimma_3.18.13.tar.gz\")\n",
    "# Modyfikowałem pakiet limma, bo był w nim bug, którego zgłosiłem.\n",
    "# Może już jest poprawiony w nowej wersji?\n",
    "library(limma)\n",
    "\n",
    "library(rpca)\n",
    "\n",
    "library(gplots)\n",
    "library(png)\n",
    "\n",
    "#library(multicore)\n",
    "library(annotate)\n",
    "library(GOstats)\n",
    "\n",
    "library(pamr)\n",
    "library(flare)\n",
    "\n",
    "library(lattice)\n",
    "library(multtest)\n",
    "library(matrixStats)\n",
    "library(extrafont)\n",
    "library(enrichvs)\n",
    "library(statmod)\n",
    "\n",
    "load.sources()\n",
    "\n",
    "sessionInfo()"
   ]
  },
  {
   "cell_type": "code",
   "execution_count": null,
   "metadata": {
    "collapsed": true
   },
   "outputs": [],
   "source": []
  },
  {
   "cell_type": "code",
   "execution_count": null,
   "metadata": {
    "collapsed": true
   },
   "outputs": [],
   "source": []
  },
  {
   "cell_type": "code",
   "execution_count": null,
   "metadata": {
    "collapsed": true
   },
   "outputs": [],
   "source": []
  },
  {
   "cell_type": "code",
   "execution_count": null,
   "metadata": {
    "collapsed": true
   },
   "outputs": [],
   "source": []
  },
  {
   "cell_type": "code",
   "execution_count": null,
   "metadata": {
    "collapsed": true
   },
   "outputs": [],
   "source": []
  },
  {
   "cell_type": "code",
   "execution_count": null,
   "metadata": {
    "collapsed": true
   },
   "outputs": [],
   "source": []
  },
  {
   "cell_type": "code",
   "execution_count": null,
   "metadata": {
    "collapsed": true
   },
   "outputs": [],
   "source": []
  },
  {
   "cell_type": "code",
   "execution_count": null,
   "metadata": {
    "collapsed": true
   },
   "outputs": [],
   "source": []
  },
  {
   "cell_type": "code",
   "execution_count": null,
   "metadata": {
    "collapsed": true
   },
   "outputs": [],
   "source": []
  },
  {
   "cell_type": "code",
   "execution_count": null,
   "metadata": {
    "collapsed": true
   },
   "outputs": [],
   "source": []
  },
  {
   "cell_type": "code",
   "execution_count": null,
   "metadata": {
    "collapsed": true
   },
   "outputs": [],
   "source": []
  },
  {
   "cell_type": "code",
   "execution_count": null,
   "metadata": {
    "collapsed": true
   },
   "outputs": [],
   "source": []
  }
 ],
 "metadata": {
  "kernelspec": {
   "display_name": "R",
   "language": "R",
   "name": "ir"
  },
  "language_info": {
   "codemirror_mode": "r",
   "file_extension": ".r",
   "mimetype": "text/x-r-source",
   "name": "R",
   "pygments_lexer": "r",
   "version": "3.2.2"
  }
 },
 "nbformat": 4,
 "nbformat_minor": 0
}
