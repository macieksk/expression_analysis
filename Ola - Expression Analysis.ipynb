{
 "cells": [
  {
   "cell_type": "code",
   "execution_count": 4,
   "metadata": {
    "collapsed": false
   },
   "outputs": [
    {
     "data": {
      "text/html": [
       "'R version 3.2.0 (2015-04-16)'"
      ],
      "text/latex": [
       "'R version 3.2.0 (2015-04-16)'"
      ],
      "text/markdown": [
       "'R version 3.2.0 (2015-04-16)'"
      ],
      "text/plain": [
       "[1] \"R version 3.2.0 (2015-04-16)\""
      ]
     },
     "metadata": {},
     "output_type": "display_data"
    },
    {
     "name": "stdout",
     "output_type": "stream",
     "text": [
      "[1] \"email: 'Maciek Sykulski'<macieksk@gmail.com>\"\n"
     ]
    },
    {
     "data": {
      "text/html": [
       "0"
      ],
      "text/latex": [
       "0"
      ],
      "text/markdown": [
       "0"
      ],
      "text/plain": [
       "[1] 0"
      ]
     },
     "metadata": {},
     "output_type": "display_data"
    }
   ],
   "source": [
    "R.version.string\n",
    "print(\"email: 'Maciek Sykulski'<macieksk@gmail.com>\")\n",
    "length(ls())"
   ]
  },
  {
   "cell_type": "code",
   "execution_count": null,
   "metadata": {
    "collapsed": true
   },
   "outputs": [],
   "source": [
    "#install.packages(\"https://cran.r-project.org/src/contrib/rpca_0.2.3.tar.gz\")"
   ]
  },
  {
   "cell_type": "code",
   "execution_count": 38,
   "metadata": {
    "collapsed": false
   },
   "outputs": [],
   "source": [
    "projDir<-\"./\"\n",
    "projectPrefix<-\"R_supervised_analysis_MP_cTCC_Project\"\n",
    "\n",
    "#\n",
    "load.sources<-function(){\n",
    "    for (f in  c(\"utils.R\", #Contains inpar, save_new_image, etc\n",
    "                 \"heatmap.clust.R\",\n",
    "                 \"Choi.et.al.genes.R\",\n",
    "                 \"iterative.unsup.sup.R\",\n",
    "                 \"clustcompare.R\"\n",
    "                 #\"circos.R\"\n",
    "                 #...  \n",
    "                 ) \n",
    "        ){\n",
    "    source(paste(projDir,\"/src/\",f,sep=\"\"))\n",
    "   }\n",
    "}\n",
    "load.sources()"
   ]
  },
  {
   "cell_type": "code",
   "execution_count": 9,
   "metadata": {
    "collapsed": false
   },
   "outputs": [],
   "source": []
  },
  {
   "cell_type": "code",
   "execution_count": 40,
   "metadata": {
    "collapsed": false
   },
   "outputs": [
    {
     "data": {
      "text/html": [
       "<table>\n",
       "<thead><tr><th></th><th scope=col>Type</th><th scope=col>Size</th><th scope=col>Rows</th><th scope=col>Columns</th></tr></thead>\n",
       "<tbody>\n",
       "\t<tr><th scope=row>iterationLoop1000coeffstat300</th><td>list      </td><td>1155935224</td><td>32        </td><td>NA        </td></tr>\n",
       "\t<tr><th scope=row>abscoef2iterations</th><td>list     </td><td>792769040</td><td>3        </td><td>NA       </td></tr>\n",
       "\t<tr><th scope=row>iterationLoopOnlyCTCCPAM</th><td>list     </td><td>759964408</td><td>19       </td><td>NA       </td></tr>\n",
       "\t<tr><th scope=row>ima</th><td>array    </td><td>712800208</td><td>6600     </td><td>4500     </td></tr>\n",
       "\t<tr><th scope=row>iterationLoopOnlyCTCCCPAM</th><td>list     </td><td>640275456</td><td>16       </td><td>NA       </td></tr>\n",
       "\t<tr><th scope=row>iteration.states300</th><td>list     </td><td>493176712</td><td>12       </td><td>NA       </td></tr>\n",
       "\t<tr><th scope=row>iterationLoop1000fstat</th><td>list     </td><td>400588056</td><td>11       </td><td>NA       </td></tr>\n",
       "\t<tr><th scope=row>iterationLoop1000pamlike</th><td>list     </td><td>325487736</td><td>9        </td><td>NA       </td></tr>\n",
       "\t<tr><th scope=row>iterationLoop1000abscoef</th><td>list     </td><td>284998808</td><td>8        </td><td>NA       </td></tr>\n",
       "\t<tr><th scope=row>iteration.states_k2</th><td>list     </td><td>237683040</td><td>6        </td><td>NA       </td></tr>\n",
       "</tbody>\n",
       "</table>\n"
      ],
      "text/latex": [
       "\\begin{tabular}{r|llll}\n",
       "  & Type & Size & Rows & Columns\\\\\n",
       "\\hline\n",
       "\titerationLoop1000coeffstat300 & list       & 1155935224 & 32         & NA        \\\\\n",
       "\tabscoef2iterations & list      & 792769040 & 3         & NA       \\\\\n",
       "\titerationLoopOnlyCTCCPAM & list      & 759964408 & 19        & NA       \\\\\n",
       "\tima & array     & 712800208 & 6600      & 4500     \\\\\n",
       "\titerationLoopOnlyCTCCCPAM & list      & 640275456 & 16        & NA       \\\\\n",
       "\titeration.states300 & list      & 493176712 & 12        & NA       \\\\\n",
       "\titerationLoop1000fstat & list      & 400588056 & 11        & NA       \\\\\n",
       "\titerationLoop1000pamlike & list      & 325487736 & 9         & NA       \\\\\n",
       "\titerationLoop1000abscoef & list      & 284998808 & 8         & NA       \\\\\n",
       "\titeration.states\\_k2 & list      & 237683040 & 6         & NA       \\\\\n",
       "\\end{tabular}\n"
      ],
      "text/plain": [
       "                               Type       Size Rows Columns\n",
       "iterationLoop1000coeffstat300  list 1155935224   32      NA\n",
       "abscoef2iterations             list  792769040    3      NA\n",
       "iterationLoopOnlyCTCCPAM       list  759964408   19      NA\n",
       "ima                           array  712800208 6600    4500\n",
       "iterationLoopOnlyCTCCCPAM      list  640275456   16      NA\n",
       "iteration.states300            list  493176712   12      NA\n",
       "iterationLoop1000fstat         list  400588056   11      NA\n",
       "iterationLoop1000pamlike       list  325487736    9      NA\n",
       "iterationLoop1000abscoef       list  284998808    8      NA\n",
       "iteration.states_k2            list  237683040    6      NA"
      ]
     },
     "metadata": {},
     "output_type": "display_data"
    },
    {
     "data": {
      "text/html": [
       "<table>\n",
       "<thead><tr><th></th><th scope=col>used</th><th scope=col>(Mb)</th><th scope=col>gc trigger</th><th scope=col>(Mb)</th><th scope=col>max used</th><th scope=col>(Mb)</th></tr></thead>\n",
       "<tbody>\n",
       "\t<tr><th scope=row>Ncells</th><td>16052934.0</td><td>     857.4</td><td>25102783.0</td><td>    1340.7</td><td>25102783.0</td><td>    1340.7</td></tr>\n",
       "\t<tr><th scope=row>Vcells</th><td>602727244.0</td><td>     4598.5</td><td>956279554.0</td><td>     7295.9</td><td>847037498.0</td><td>     6462.4</td></tr>\n",
       "</tbody>\n",
       "</table>\n"
      ],
      "text/latex": [
       "\\begin{tabular}{r|llllll}\n",
       "  & used & (Mb) & gc trigger & (Mb) & max used & (Mb)\\\\\n",
       "\\hline\n",
       "\tNcells & 16052934.0 &      857.4 & 25102783.0 &     1340.7 & 25102783.0 &     1340.7\\\\\n",
       "\tVcells & 602727244.0 &      4598.5 & 956279554.0 &      7295.9 & 847037498.0 &      6462.4\\\\\n",
       "\\end{tabular}\n"
      ],
      "text/markdown": [
       "1. 16052934\n",
       "2. 602727244\n",
       "3. 857.4\n",
       "4. 4598.5\n",
       "5. 25102783\n",
       "6. 956279554\n",
       "7. 1340.7\n",
       "8. 7295.9\n",
       "9. 25102783\n",
       "10. 847037498\n",
       "11. 1340.7\n",
       "12. 6462.4\n",
       "\n",
       "\n"
      ],
      "text/plain": [
       "            used   (Mb) gc trigger   (Mb)  max used   (Mb)\n",
       "Ncells  16052934  857.4   25102783 1340.7  25102783 1340.7\n",
       "Vcells 602727244 4598.5  956279554 7295.9 847037498 6462.4"
      ]
     },
     "metadata": {},
     "output_type": "display_data"
    }
   ],
   "source": [
    "#Load project from .Rdata\n",
    "#system.time(load(paste(projDir,\"/r_saved_images/\",projectPrefix,\".Rdata\",sep=\"\")))\n",
    "lsos(n=10)\n",
    "gc()"
   ]
  },
  {
   "cell_type": "code",
   "execution_count": 7,
   "metadata": {
    "collapsed": false
   },
   "outputs": [
    {
     "data": {
      "text/html": [
       "<table>\n",
       "<thead><tr><th></th><th scope=col>used</th><th scope=col>(Mb)</th><th scope=col>gc trigger</th><th scope=col>(Mb)</th><th scope=col>max used</th><th scope=col>(Mb)</th></tr></thead>\n",
       "<tbody>\n",
       "\t<tr><th scope=row>Ncells</th><td>329183.0</td><td>    17.6</td><td>592000.0</td><td>    31.7</td><td>550603.0</td><td>    29.5</td></tr>\n",
       "\t<tr><th scope=row>Vcells</th><td> 544411.0</td><td>      4.2</td><td>1023718.0</td><td>      7.9</td><td> 785564.0</td><td>      6.0</td></tr>\n",
       "</tbody>\n",
       "</table>\n"
      ],
      "text/latex": [
       "\\begin{tabular}{r|llllll}\n",
       "  & used & (Mb) & gc trigger & (Mb) & max used & (Mb)\\\\\n",
       "\\hline\n",
       "\tNcells & 329183.0 &     17.6 & 592000.0 &     31.7 & 550603.0 &     29.5\\\\\n",
       "\tVcells &  544411.0 &       4.2 & 1023718.0 &       7.9 &  785564.0 &       6.0\\\\\n",
       "\\end{tabular}\n"
      ],
      "text/markdown": [
       "1. 329183\n",
       "2. 544411\n",
       "3. 17.6\n",
       "4. 4.2\n",
       "5. 592000\n",
       "6. 1023718\n",
       "7. 31.7\n",
       "8. 7.9\n",
       "9. 550603\n",
       "10. 785564\n",
       "11. 29.5\n",
       "12. 6\n",
       "\n",
       "\n"
      ],
      "text/plain": [
       "         used (Mb) gc trigger (Mb) max used (Mb)\n",
       "Ncells 329183 17.6     592000 31.7   550603 29.5\n",
       "Vcells 544411  4.2    1023718  7.9   785564  6.0"
      ]
     },
     "execution_count": 7,
     "metadata": {},
     "output_type": "execute_result"
    }
   ],
   "source": [
    "#Save project .Rdata\n",
    "gc()\n",
    "#system.time(save_new_image())"
   ]
  },
  {
   "cell_type": "code",
   "execution_count": null,
   "metadata": {
    "collapsed": true
   },
   "outputs": [],
   "source": []
  },
  {
   "cell_type": "code",
   "execution_count": 47,
   "metadata": {
    "collapsed": false
   },
   "outputs": [],
   "source": [
    "library(xlsx)\n",
    "library(cluster)\n",
    "library(MASS)\n",
    "\n",
    "library(lumi)\n",
    "library(lumiHumanIDMapping)\n",
    "library(lumiHumanAll.db)\n",
    "\n",
    "#install.packages(\"./src/mylimma_3.18.13.tar.gz\")\n",
    "# Modyfikowałem pakiet limma, bo był w nim bug, którego zgłosiłem.\n",
    "# Może już jest poprawiony w nowej wersji?\n",
    "library(limma)\n",
    "\n",
    "library(rpca)\n",
    "\n",
    "library(gplots)\n",
    "library(png)\n",
    "\n",
    "#library(multicore)\n",
    "library(annotate)\n",
    "library(GOstats)\n",
    "\n",
    "library(pamr)\n",
    "library(flare)\n",
    "\n",
    "library(lattice)\n",
    "library(multtest)\n",
    "library(matrixStats)\n",
    "library(extrafont)\n",
    "library(enrichvs)\n",
    "library(statmod)\n",
    "\n",
    "load.sources()\n",
    "\n",
    "#sessionInfo()"
   ]
  },
  {
   "cell_type": "markdown",
   "metadata": {},
   "source": [
    "# Macierz ekspresji\n",
    "Okej, w naszym projekcie dane o ekspresji pochodziły z mikromacierzy ekspresji i były wczytane pakietem lumi, a następnie znormalizowane przy użyciu odpowiedniej https://en.wikipedia.org/wiki/Variance-stabilizing_transformation VST (intensywności świecenia sond zostały przetransformowane czymś w rodzaju log2, ktory trochę inaczej traktuje małe wartości). \n",
    "\n",
    "● Variance Stabilization Transformation (VST): was performed by R &quot;lumi&quot; package\n",
    "according to Lin, Simon M., et al. &quot;Model-based variance-stabilizing transformation for\n",
    "Illumina microarray data.&quot; Nucleic acids research 36.2 (2008)\n",
    "\n",
    "● This step is performed to remove undesirable dependency of intensity variance,\n",
    "v, on the signal mean, and has similarities with log2 transform.\n",
    "\n",
    "● Normalization: Robust Spline Normalization (RSN) was performed by R &quot;lumi&quot;\n",
    "package. This step normalizes data between microarrays to have similar variance, and\n",
    "the method is a hybrid approach between quantile and loess normalization.\n",
    "\n",
    "Wynik tych operacji po wyrzuceniu niektórych próbek ze względu na quality control (o quality control jest w dokumentach i prezentacji, ktore Ci wyślę) jest w zmiennej `selDataMatrix`.\n",
    "\n",
    "Podobną macierz pewnie stworzysz z danych RNA-seq, tylko, że będą w niej liczby odczytów, które trzeba jakoś znormalizować. Praca z danymi RNA-seq i pakietem `limma` jest opisana tutaj w rozdziale 15: https://www.bioconductor.org/packages/devel/bioc/vignettes/limma/inst/doc/usersguide.pdf i są tam podane przykłady transformacji normalizujących. Wydaje mi się, że po takiej normalizacji Twoja macierz będzie mogła zostać analizowana w ten sam sposób jak `selDataMatrix`, co przedstawię poniżej.\n"
   ]
  },
  {
   "cell_type": "code",
   "execution_count": 16,
   "metadata": {
    "collapsed": false
   },
   "outputs": [
    {
     "data": {
      "text/html": [
       "<ol class=list-inline>\n",
       "\t<li>27645</li>\n",
       "\t<li>151</li>\n",
       "</ol>\n"
      ],
      "text/latex": [
       "\\begin{enumerate*}\n",
       "\\item 27645\n",
       "\\item 151\n",
       "\\end{enumerate*}\n"
      ],
      "text/markdown": [
       "1. 27645\n",
       "2. 151\n",
       "\n",
       "\n"
      ],
      "text/plain": [
       "[1] 27645   151"
      ]
     },
     "metadata": {},
     "output_type": "display_data"
    },
    {
     "data": {
      "text/html": [
       "<table>\n",
       "<thead><tr><th></th><th scope=col>7656774068_A</th><th scope=col>7656774068_B</th><th scope=col>7656774068_C</th><th scope=col>7656774068_D</th><th scope=col>7656774068_E</th></tr></thead>\n",
       "<tbody>\n",
       "\t<tr><th scope=row>Ku8QhfS0n_hIOABXuE</th><td> 9.277933</td><td>10.807275</td><td>10.281965</td><td> 8.637120</td><td> 9.066208</td></tr>\n",
       "\t<tr><th scope=row>fqPEquJRRlSVSfL.8A</th><td>8.235855</td><td>8.254479</td><td>8.191368</td><td>8.521740</td><td>8.467335</td></tr>\n",
       "</tbody>\n",
       "</table>\n"
      ],
      "text/latex": [
       "\\begin{tabular}{r|lllll}\n",
       "  & 7656774068\\_A & 7656774068\\_B & 7656774068\\_C & 7656774068\\_D & 7656774068\\_E\\\\\n",
       "\\hline\n",
       "\tKu8QhfS0n\\_hIOABXuE &  9.277933 & 10.807275 & 10.281965 &  8.637120 &  9.066208\\\\\n",
       "\tfqPEquJRRlSVSfL.8A & 8.235855 & 8.254479 & 8.191368 & 8.521740 & 8.467335\\\\\n",
       "\\end{tabular}\n"
      ],
      "text/markdown": [
       "1. 9.27793286613843\n",
       "2. 8.23585517004509\n",
       "3. 10.8072754922905\n",
       "4. 8.25447921096768\n",
       "5. 10.2819647633807\n",
       "6. 8.19136803897451\n",
       "7. 8.63712027643085\n",
       "8. 8.5217403627215\n",
       "9. 9.06620818803617\n",
       "10. 8.46733545294519\n",
       "\n",
       "\n"
      ],
      "text/plain": [
       "                   7656774068_A 7656774068_B 7656774068_C 7656774068_D\n",
       "Ku8QhfS0n_hIOABXuE     9.277933    10.807275    10.281965      8.63712\n",
       "fqPEquJRRlSVSfL.8A     8.235855     8.254479     8.191368      8.52174\n",
       "                   7656774068_E\n",
       "Ku8QhfS0n_hIOABXuE     9.066208\n",
       "fqPEquJRRlSVSfL.8A     8.467335"
      ]
     },
     "metadata": {},
     "output_type": "display_data"
    }
   ],
   "source": [
    "dim(selDataMatrix)\n",
    "selDataMatrix[1:2,1:5]"
   ]
  },
  {
   "cell_type": "markdown",
   "metadata": {},
   "source": [
    "W `selDataMatrix` kolumny to próbki, a wiersze to sondy odpowiadające genom, zdażają się geny do których jest przypisane więcej niż jedna sonda/wiersz. Nazwy wierszy to nazwy sond, z których można w następujący sposób odczytać m.in. nazwy genów `geneSymbol`. U Ciebie nie będzie nazw sond, więc będziesz musiała sama dostarczyć te nazwy, bo są one używane przez niektóre funkcje.\n",
    "\n",
    "Jednak dla działania limmy chyba dość istotne jest to, by nazwy wierszy w `selDataMatrix` były unikalne. Nazwy genów powinny być dostarczane przez funkcję mapującą ID wiersza na nazwę."
   ]
  },
  {
   "cell_type": "code",
   "execution_count": 21,
   "metadata": {
    "collapsed": false
   },
   "outputs": [
    {
     "data": {
      "text/html": [
       "<table>\n",
       "<thead><tr><th></th><th scope=col>geneSymbol</th><th scope=col>probe.to.gene.count</th></tr></thead>\n",
       "<tbody>\n",
       "\t<tr><th scope=row>Ku8QhfS0n_hIOABXuE</th><td>MACC1</td><td>2    </td></tr>\n",
       "\t<tr><th scope=row>fqPEquJRRlSVSfL.8A</th><td>A1BG</td><td>1   </td></tr>\n",
       "\t<tr><th scope=row>x57Vw5B5Fbt5JUnQkI</th><td>A1CF</td><td>3   </td></tr>\n",
       "\t<tr><th scope=row>ritxUH.kuHlYqjozpE</th><td>A1CF</td><td>3   </td></tr>\n",
       "\t<tr><th scope=row>QpE5UiUgmJOJEkPXpc</th><td>A1CF</td><td>3   </td></tr>\n",
       "\t<tr><th scope=row>ZtOcIegchMOATSJScI</th><td>POTEH</td><td>2    </td></tr>\n",
       "</tbody>\n",
       "</table>\n"
      ],
      "text/latex": [
       "\\begin{tabular}{r|ll}\n",
       "  & geneSymbol & probe.to.gene.count\\\\\n",
       "\\hline\n",
       "\tKu8QhfS0n\\_hIOABXuE & MACC1 & 2    \\\\\n",
       "\tfqPEquJRRlSVSfL.8A & A1BG & 1   \\\\\n",
       "\tx57Vw5B5Fbt5JUnQkI & A1CF & 3   \\\\\n",
       "\tritxUH.kuHlYqjozpE & A1CF & 3   \\\\\n",
       "\tQpE5UiUgmJOJEkPXpc & A1CF & 3   \\\\\n",
       "\tZtOcIegchMOATSJScI & POTEH & 2    \\\\\n",
       "\\end{tabular}\n"
      ],
      "text/plain": [
       "                   geneSymbol probe.to.gene.count\n",
       "Ku8QhfS0n_hIOABXuE      MACC1                   2\n",
       "fqPEquJRRlSVSfL.8A       A1BG                   1\n",
       "x57Vw5B5Fbt5JUnQkI       A1CF                   3\n",
       "ritxUH.kuHlYqjozpE       A1CF                   3\n",
       "QpE5UiUgmJOJEkPXpc       A1CF                   3\n",
       "ZtOcIegchMOATSJScI      POTEH                   2"
      ]
     },
     "metadata": {},
     "output_type": "display_data"
    },
    {
     "data": {
      "text/plain": [
       "\n",
       "    1     2     3     4     5     6     7     8   Sum \n",
       "13793  7080  4644  1556   430    78    35    16 27632 "
      ]
     },
     "metadata": {},
     "output_type": "display_data"
    }
   ],
   "source": [
    "## Compute duplication number for genes\n",
    "probeList <- rownames(selDataMatrix)\n",
    "geneSymbol <- getSYMBOL(probeList, 'lumiHumanAll.db')\n",
    "#length(geneSymbol)\n",
    "cnts<-table(geneSymbol)\n",
    "geneSymbolCounts<-data.frame(geneSymbol,probe.to.gene.count=cnts[geneSymbol],stringsAsFactors=FALSE)\n",
    "head(geneSymbolCounts)\n",
    "addmargins(table(geneSymbolCounts$probe.to.gene.count))"
   ]
  },
  {
   "cell_type": "markdown",
   "metadata": {},
   "source": [
    "Tak jak widać powyżej, są i geny, do których pasuje nawet 8 wierszy.\n",
    "\n",
    "Poza tym próbki (kolumny) były podzielone na 2 grupy różniące się typem raka pęcherza w następujący sposób:"
   ]
  },
  {
   "cell_type": "code",
   "execution_count": 26,
   "metadata": {
    "collapsed": false
   },
   "outputs": [
    {
     "data": {
      "text/html": [
       "<dl class=dl-horizontal>\n",
       "\t<dt>Micropap</dt>\n",
       "\t\t<dd>41</dd>\n",
       "\t<dt>Conv.TCC</dt>\n",
       "\t\t<dd>110</dd>\n",
       "</dl>\n"
      ],
      "text/latex": [
       "\\begin{description*}\n",
       "\\item[Micropap] 41\n",
       "\\item[Conv.TCC] 110\n",
       "\\end{description*}\n"
      ],
      "text/markdown": [
       "Micropap\n",
       ":   41Conv.TCC\n",
       ":   110\n",
       "\n"
      ],
      "text/plain": [
       "Micropap Conv.TCC \n",
       "      41      110 "
      ]
     },
     "metadata": {},
     "output_type": "display_data"
    }
   ],
   "source": [
    "summary(orig.sample.labels)"
   ]
  },
  {
   "cell_type": "code",
   "execution_count": 23,
   "metadata": {
    "collapsed": false
   },
   "outputs": [
    {
     "data": {
      "text/plain": []
     },
     "metadata": {},
     "output_type": "display_data"
    },
    {
     "data": {
      "image/png": "[encoded data removed]"
     },
     "metadata": {},
     "output_type": "display_data"
    }
   ],
   "source": [
    "options(repr.plot.width=4, repr.plot.height=4)\n",
    "options(jupyter.plot_mimetypes = 'image/png')\n",
    "# Histogram znormalizowanych danych\n",
    "histogram(~as.vector(selDataMatrix))"
   ]
  },
  {
   "cell_type": "markdown",
   "metadata": {
    "collapsed": false
   },
   "source": [
    "# Podstawowa analiza limma\n",
    "\n",
    "Czyli wybór top N genów różnicujących przy danym klastrowaniu, tfu, przepraszam, grupowaniu próbek."
   ]
  },
  {
   "cell_type": "code",
   "execution_count": 43,
   "metadata": {
    "collapsed": false
   },
   "outputs": [
    {
     "data": {
      "text/html": [
       "151"
      ],
      "text/latex": [
       "151"
      ],
      "text/markdown": [
       "151"
      ],
      "text/plain": [
       "[1] 151"
      ]
     },
     "metadata": {},
     "output_type": "display_data"
    },
    {
     "data": {
      "text/html": [
       "<ol class=list-inline>\n",
       "\t<li>27645</li>\n",
       "\t<li>151</li>\n",
       "</ol>\n"
      ],
      "text/latex": [
       "\\begin{enumerate*}\n",
       "\\item 27645\n",
       "\\item 151\n",
       "\\end{enumerate*}\n"
      ],
      "text/markdown": [
       "1. 27645\n",
       "2. 151\n",
       "\n",
       "\n"
      ],
      "text/plain": [
       "[1] 27645   151"
      ]
     },
     "metadata": {},
     "output_type": "display_data"
    }
   ],
   "source": [
    "length(orig.sample.labels)\n",
    "dim(selDataMatrix)"
   ]
  },
  {
   "cell_type": "code",
   "execution_count": 9,
   "metadata": {
    "collapsed": false
   },
   "outputs": [
    {
     "data": {
      "text/html": [
       "<ol class=list-inline>\n",
       "\t<li>'(Intercept)'</li>\n",
       "\t<li>'sampleTypeConv.TCC'</li>\n",
       "</ol>\n"
      ],
      "text/latex": [
       "\\begin{enumerate*}\n",
       "\\item '(Intercept)'\n",
       "\\item 'sampleTypeConv.TCC'\n",
       "\\end{enumerate*}\n"
      ],
      "text/markdown": [
       "1. '(Intercept)'\n",
       "2. 'sampleTypeConv.TCC'\n",
       "\n",
       "\n"
      ],
      "text/plain": [
       "[1] \"(Intercept)\"        \"sampleTypeConv.TCC\""
      ]
     },
     "metadata": {},
     "output_type": "display_data"
    }
   ],
   "source": [
    "sampleType <- orig.sample.labels\n",
    "design <- model.matrix(~ sampleType)\n",
    "colnames(design)"
   ]
  },
  {
   "cell_type": "code",
   "execution_count": 10,
   "metadata": {
    "collapsed": false
   },
   "outputs": [],
   "source": [
    "#Tricky to get the right sample type: reverse the indicator column\n",
    "design[,2]<-1-design[,2]\n",
    "colnames(design)[2]<-\"Micropap\""
   ]
  },
  {
   "cell_type": "code",
   "execution_count": 11,
   "metadata": {
    "collapsed": false
   },
   "outputs": [
    {
     "data": {
      "text/html": [
       "<table>\n",
       "<thead><tr><th></th><th scope=col>(Intercept)</th><th scope=col>Micropap</th></tr></thead>\n",
       "<tbody>\n",
       "\t<tr><th scope=row>1</th><td>1</td><td>1</td></tr>\n",
       "\t<tr><th scope=row>2</th><td>1</td><td>1</td></tr>\n",
       "\t<tr><th scope=row>3</th><td>1</td><td>1</td></tr>\n",
       "\t<tr><th scope=row>4</th><td>1</td><td>1</td></tr>\n",
       "\t<tr><th scope=row>5</th><td>1</td><td>1</td></tr>\n",
       "\t<tr><th scope=row>6</th><td>1</td><td>1</td></tr>\n",
       "</tbody>\n",
       "</table>\n"
      ],
      "text/latex": [
       "\\begin{tabular}{r|ll}\n",
       "  & (Intercept) & Micropap\\\\\n",
       "\\hline\n",
       "\t1 & 1 & 1\\\\\n",
       "\t2 & 1 & 1\\\\\n",
       "\t3 & 1 & 1\\\\\n",
       "\t4 & 1 & 1\\\\\n",
       "\t5 & 1 & 1\\\\\n",
       "\t6 & 1 & 1\\\\\n",
       "\\end{tabular}\n"
      ],
      "text/markdown": [
       "1. 1\n",
       "2. 1\n",
       "3. 1\n",
       "4. 1\n",
       "5. 1\n",
       "6. 1\n",
       "7. 1\n",
       "8. 1\n",
       "9. 1\n",
       "10. 1\n",
       "11. 1\n",
       "12. 1\n",
       "\n",
       "\n"
      ],
      "text/plain": [
       "  (Intercept) Micropap\n",
       "1           1        1\n",
       "2           1        1\n",
       "3           1        1\n",
       "4           1        1\n",
       "5           1        1\n",
       "6           1        1"
      ]
     },
     "metadata": {},
     "output_type": "display_data"
    },
    {
     "data": {
      "text/plain": [
       "\n",
       "  1 \n",
       "151 "
      ]
     },
     "metadata": {},
     "output_type": "display_data"
    },
    {
     "data": {
      "text/plain": [
       "\n",
       "  0   1 \n",
       "110  41 "
      ]
     },
     "metadata": {},
     "output_type": "display_data"
    }
   ],
   "source": [
    "head(design)\n",
    "table(design[,1])\n",
    "table(design[,2])"
   ]
  },
  {
   "cell_type": "code",
   "execution_count": 96,
   "metadata": {
    "collapsed": true
   },
   "outputs": [],
   "source": [
    "#?rlm"
   ]
  },
  {
   "cell_type": "code",
   "execution_count": null,
   "metadata": {
    "collapsed": false
   },
   "outputs": [
    {
     "name": "stderr",
     "output_type": "stream",
     "text": [
      "Warning message:\n",
      "In rlm.default(x = X, y = y, weights = w, ...): 'rlm' failed to converge in 50 stepsWarning message:\n",
      "In rlm.default(x = X, y = y, weights = w, ...): 'rlm' failed to converge in 50 stepsWarning message:\n",
      "In rlm.default(x = X, y = y, weights = w, ...): 'rlm' failed to converge in 50 stepsWarning message:\n",
      "In rlm.default(x = X, y = y, weights = w, ...): 'rlm' failed to converge in 50 stepsWarning message:\n",
      "In rlm.default(x = X, y = y, weights = w, ...): 'rlm' failed to converge in 50 stepsWarning message:\n",
      "In rlm.default(x = X, y = y, weights = w, ...): 'rlm' failed to converge in 50 stepsWarning message:\n",
      "In rlm.default(x = X, y = y, weights = w, ...): 'rlm' failed to converge in 50 stepsWarning message:\n",
      "In rlm.default(x = X, y = y, weights = w, ...): 'rlm' failed to converge in 50 stepsWarning message:\n",
      "In rlm.default(x = X, y = y, weights = w, ...): 'rlm' failed to converge in 50 steps"
     ]
    }
   ],
   "source": [
    "system.time(fit <- lmFit(selDataMatrix, design,method=\"robust\", maxit = 50))\n",
    "system.time(fit <- eBayes(fit))"
   ]
  },
  {
   "cell_type": "code",
   "execution_count": null,
   "metadata": {
    "collapsed": false
   },
   "outputs": [],
   "source": [
    "class(fit)\n",
    "names(fit[1])"
   ]
  },
  {
   "cell_type": "code",
   "execution_count": null,
   "metadata": {
    "collapsed": false
   },
   "outputs": [],
   "source": [
    "names(fit)\n",
    "head(fit$coefficients)"
   ]
  },
  {
   "cell_type": "code",
   "execution_count": null,
   "metadata": {
    "collapsed": true
   },
   "outputs": [],
   "source": [
    "## Add gene symbols to gene properties\n",
    "geneSymbol <- getSYMBOL(probeList, 'lumiHumanAll.db')\n",
    "geneName <- sapply(lookUp(probeList, 'lumiHumanAll.db', 'GENENAME'), function(x) x[1])\n",
    "fit$genes <- data.frame(ID= probeList, geneSymbol=geneSymbol, geneName=geneName, stringsAsFactors=FALSE)"
   ]
  },
  {
   "cell_type": "code",
   "execution_count": null,
   "metadata": {
    "collapsed": true
   },
   "outputs": [],
   "source": [
    "#?topTable\n",
    "#\n",
    "#sort.by: character string specifying statistic to rank genes by.\n",
    "#          Possible values for ‘topTable’ and ‘toptable’ are ‘\"logFC\"’,\n",
    "#          ‘\"AveExpr\"’, ‘\"t\"’, ‘\"P\"’, ‘\"p\"’, ‘\"B\"’ or ‘\"none\"’.\n",
    "#          (Permitted synonyms are ‘\"M\"’ for ‘\"logFC\"’, ‘\"A\"’ or\n",
    "#          ‘\"Amean\"’ for ‘\"AveExpr\"’, ‘\"T\"’ for ‘\"t\"’ and ‘\"p\"’ for\n",
    "#          ‘\"P\"’.)  Possibilities for ‘topTableF’ are ‘\"F\"’ or ‘\"none\"’.\n",
    "#\n",
    "#The ‘sort.by’ argument specifies the criterion used to select the\n",
    "#     top genes. The choices are: ‘\"logFC\"’ to sort by the (absolute)\n",
    "#     coefficient representing the log-fold-change; ‘\"A\"’ to sort by\n",
    "#     average expression level (over all arrays) in descending order;\n",
    "#     ‘\"T\"’ or ‘\"t\"’ for absolute t-statistic; ‘\"P\"’ or ‘\"p\"’ for\n",
    "#     p-values; or ‘\"B\"’ for the ‘lods’ or B-statistic."
   ]
  },
  {
   "cell_type": "markdown",
   "metadata": {},
   "source": [
    "Wybór 1500 najważniejszych genów, sortowanych po współczynnikach z modeli liniowych odpowiadających log-FoldChange, \n",
    "czyli zmianie intensywności. Wyliczane jest False Discovery Rate adjusted p-value (czasem chyba zwane q-value)."
   ]
  },
  {
   "cell_type": "code",
   "execution_count": null,
   "metadata": {
    "collapsed": false
   },
   "outputs": [],
   "source": [
    "ttab<-topTable(fit, coef='Micropap', adjust='fdr', number=1500,sort.by=\"M\")\n",
    "\n",
    "ttab<-ttab[ttab$adj.P.Val<0.01,]  #Filter out based on weak FDR q-values\n",
    "NROW(ttab)\n",
    "#Since IDs are the same as rows, we add ENTREZ genes ids basing on them\n",
    "ttab<-cbind(ttab,entrezID=unlist(lookUp(ttab$ID,'lumiHumanAll.db','ENTREZID')))\n",
    "\n",
    "print(\"AbsLogFoldChange summary:\")\n",
    "summary(abs(ttab$logFC))\n",
    "print(\"Quantile \")\n",
    "quantile(abs(ttab$logFC),0.05)\n",
    "print(\"LogFoldChange summary:\")\n",
    "summary(ttab$logFC)\n",
    "print(\"log(Adj.PVal) summary:\")\n",
    "summary(log(ttab$adj.P.Val))\n",
    "print(\"Quantile \")\n",
    "quantile(log(ttab$adj.P.Val),0.95)"
   ]
  },
  {
   "cell_type": "code",
   "execution_count": 124,
   "metadata": {
    "collapsed": false
   },
   "outputs": [
    {
     "data": {
      "text/html": [
       "901"
      ],
      "text/latex": [
       "901"
      ],
      "text/markdown": [
       "901"
      ],
      "text/plain": [
       "[1] 901"
      ]
     },
     "metadata": {},
     "output_type": "display_data"
    },
    {
     "data": {
      "text/html": [
       "577"
      ],
      "text/latex": [
       "577"
      ],
      "text/markdown": [
       "577"
      ],
      "text/plain": [
       "[1] 577"
      ]
     },
     "metadata": {},
     "output_type": "display_data"
    },
    {
     "data": {
      "text/plain": [
       "    Min.  1st Qu.   Median     Mean  3rd Qu.     Max. \n",
       "-123.500  -37.710  -25.520  -28.770  -16.080   -4.866 "
      ]
     },
     "metadata": {},
     "output_type": "display_data"
    },
    {
     "data": {
      "text/plain": [
       "    Min.  1st Qu.   Median     Mean  3rd Qu.     Max. \n",
       "-135.600  -28.240  -19.160  -21.540  -13.300   -4.671 "
      ]
     },
     "metadata": {},
     "output_type": "display_data"
    },
    {
     "name": "stdout",
     "output_type": "stream",
     "text": [
      "[1] \"LogFoldChange summary:\"\n"
     ]
    },
    {
     "data": {
      "text/plain": [
       "   Min. 1st Qu.  Median    Mean 3rd Qu.    Max. \n",
       " 0.8238  0.9399  1.0970  1.1990  1.3360  3.3170 "
      ]
     },
     "metadata": {},
     "output_type": "display_data"
    },
    {
     "data": {
      "text/plain": [
       "   Min. 1st Qu.  Median    Mean 3rd Qu.    Max. \n",
       "-3.3570 -1.2120 -1.0140 -1.1010 -0.9104 -0.8235 "
      ]
     },
     "metadata": {},
     "output_type": "display_data"
    }
   ],
   "source": [
    "ttabUp<-ttab[ttab$logFC>0,]\n",
    "ttabDown<-ttab[ttab$logFC<0,]\n",
    "NROW(ttabUp)\n",
    "NROW(ttabDown)\n",
    "summary(log(ttabUp$adj.P.Val))\n",
    "summary(log(ttabDown$adj.P.Val))\n",
    "\n",
    "print(\"LogFoldChange summary:\")\n",
    "summary(ttabUp$logFC)\n",
    "summary(ttabDown$logFC)"
   ]
  },
  {
   "cell_type": "code",
   "execution_count": 125,
   "metadata": {
    "collapsed": false
   },
   "outputs": [
    {
     "data": {
      "text/html": [
       "587"
      ],
      "text/latex": [
       "587"
      ],
      "text/markdown": [
       "587"
      ],
      "text/plain": [
       "[1] 587"
      ]
     },
     "metadata": {},
     "output_type": "display_data"
    },
    {
     "data": {
      "text/html": [
       "309"
      ],
      "text/latex": [
       "309"
      ],
      "text/markdown": [
       "309"
      ],
      "text/plain": [
       "[1] 309"
      ]
     },
     "metadata": {},
     "output_type": "display_data"
    }
   ],
   "source": [
    "#Significant logFoldChanges\n",
    "sum(ttab$logFC>1)\n",
    "sum(ttab$logFC< (-1))"
   ]
  },
  {
   "cell_type": "code",
   "execution_count": 126,
   "metadata": {
    "collapsed": false
   },
   "outputs": [
    {
     "data": {
      "text/html": [
       "<ol class=list-inline>\n",
       "\t<li>'ID'</li>\n",
       "\t<li>'geneSymbol'</li>\n",
       "\t<li>'geneName'</li>\n",
       "\t<li>'logFC'</li>\n",
       "\t<li>'AveExpr'</li>\n",
       "\t<li>'t'</li>\n",
       "\t<li>'P.Value'</li>\n",
       "\t<li>'adj.P.Val'</li>\n",
       "\t<li>'B'</li>\n",
       "\t<li>'entrezID'</li>\n",
       "</ol>\n"
      ],
      "text/latex": [
       "\\begin{enumerate*}\n",
       "\\item 'ID'\n",
       "\\item 'geneSymbol'\n",
       "\\item 'geneName'\n",
       "\\item 'logFC'\n",
       "\\item 'AveExpr'\n",
       "\\item 't'\n",
       "\\item 'P.Value'\n",
       "\\item 'adj.P.Val'\n",
       "\\item 'B'\n",
       "\\item 'entrezID'\n",
       "\\end{enumerate*}\n"
      ],
      "text/markdown": [
       "1. 'ID'\n",
       "2. 'geneSymbol'\n",
       "3. 'geneName'\n",
       "4. 'logFC'\n",
       "5. 'AveExpr'\n",
       "6. 't'\n",
       "7. 'P.Value'\n",
       "8. 'adj.P.Val'\n",
       "9. 'B'\n",
       "10. 'entrezID'\n",
       "\n",
       "\n"
      ],
      "text/plain": [
       " [1] \"ID\"         \"geneSymbol\" \"geneName\"   \"logFC\"      \"AveExpr\"   \n",
       " [6] \"t\"          \"P.Value\"    \"adj.P.Val\"  \"B\"          \"entrezID\"  "
      ]
     },
     "metadata": {},
     "output_type": "display_data"
    }
   ],
   "source": [
    "names(ttab)"
   ]
  },
  {
   "cell_type": "code",
   "execution_count": 127,
   "metadata": {
    "collapsed": false
   },
   "outputs": [
    {
     "data": {
      "text/html": [
       "'R_supervised_analysis_MP_cTCC_Project_topGenes_FC_upreg_gt1_alpha.txt'"
      ],
      "text/latex": [
       "'R\\_supervised\\_analysis\\_MP\\_cTCC\\_Project\\_topGenes\\_FC\\_upreg\\_gt1\\_alpha.txt'"
      ],
      "text/markdown": [
       "'R_supervised_analysis_MP_cTCC_Project_topGenes_FC_upreg_gt1_alpha.txt'"
      ],
      "text/plain": [
       "[1] \"R_supervised_analysis_MP_cTCC_Project_topGenes_FC_upreg_gt1_alpha.txt\""
      ]
     },
     "metadata": {},
     "output_type": "display_data"
    }
   ],
   "source": [
    "with(ttabUp[ttabUp$logFC>1,],{\n",
    "#print(head(sort(geneSymbol)))\n",
    "write.table(sort(geneSymbol),file=plotName(\"topGenes_FC_upreg_gt1_alpha.txt\"),quote=FALSE,row.names=FALSE,col.names=FALSE)\n",
    "})\n",
    "plotName(\"topGenes_FC_upreg_gt1_alpha.txt\")"
   ]
  },
  {
   "cell_type": "code",
   "execution_count": 128,
   "metadata": {
    "collapsed": false
   },
   "outputs": [
    {
     "name": "stdout",
     "output_type": "stream",
     "text": [
      "     entrezID    logFC\n",
      "[1,]      525 3.316740\n",
      "[2,]      544 2.760992\n",
      "[3,]      164 2.709186\n",
      "[4,]      800 2.692823\n",
      "[5,]       12 2.679728\n",
      "[6,]     1025 2.542547\n"
     ]
    },
    {
     "data": {
      "text/html": [
       "'R_supervised_analysis_MP_cTCC_Project_topGenes_FC_upreg_gt1_FCsort.txt'"
      ],
      "text/latex": [
       "'R\\_supervised\\_analysis\\_MP\\_cTCC\\_Project\\_topGenes\\_FC\\_upreg\\_gt1\\_FCsort.txt'"
      ],
      "text/markdown": [
       "'R_supervised_analysis_MP_cTCC_Project_topGenes_FC_upreg_gt1_FCsort.txt'"
      ],
      "text/plain": [
       "[1] \"R_supervised_analysis_MP_cTCC_Project_topGenes_FC_upreg_gt1_FCsort.txt\""
      ]
     },
     "metadata": {},
     "output_type": "display_data"
    }
   ],
   "source": [
    "with(ttabUp[ttabUp$logFC>1,],{\n",
    "or<-order(-logFC)\n",
    "print(head(cbind(entrezID,logFC)[or,]))\n",
    "write.table(entrezID[or],file=plotName(\"topGenes_FC_upreg_gt1_FCsort.txt\"),quote=FALSE,row.names=FALSE,col.names=FALSE)\n",
    "})\n",
    "plotName(\"topGenes_FC_upreg_gt1_FCsort.txt\")"
   ]
  },
  {
   "cell_type": "code",
   "execution_count": 129,
   "metadata": {
    "collapsed": false
   },
   "outputs": [
    {
     "name": "stdout",
     "output_type": "stream",
     "text": [
      "[1] \"ABCA3\"  \"ABHD12\" \"ACACB\"  \"ACKR2\"  \"ACOT11\" \"ACP6\"  \n"
     ]
    },
    {
     "data": {
      "text/html": [
       "'R_supervised_analysis_MP_cTCC_Project_topGenes_FC_downreg_gt1_alpha.txt'"
      ],
      "text/latex": [
       "'R\\_supervised\\_analysis\\_MP\\_cTCC\\_Project\\_topGenes\\_FC\\_downreg\\_gt1\\_alpha.txt'"
      ],
      "text/markdown": [
       "'R_supervised_analysis_MP_cTCC_Project_topGenes_FC_downreg_gt1_alpha.txt'"
      ],
      "text/plain": [
       "[1] \"R_supervised_analysis_MP_cTCC_Project_topGenes_FC_downreg_gt1_alpha.txt\""
      ]
     },
     "metadata": {},
     "output_type": "display_data"
    }
   ],
   "source": [
    "with(ttabDown[ttabDown$logFC<(-1),],{\n",
    "print(head(sort(geneSymbol)))\n",
    "write.table(sort(geneSymbol),file=plotName(\"topGenes_FC_downreg_gt1_alpha.txt\"),quote=FALSE,row.names=FALSE,col.names=FALSE)\n",
    "})\n",
    "plotName(\"topGenes_FC_downreg_gt1_alpha.txt\")"
   ]
  },
  {
   "cell_type": "code",
   "execution_count": 130,
   "metadata": {
    "collapsed": false
   },
   "outputs": [
    {
     "name": "stdout",
     "output_type": "stream",
     "text": [
      "     geneSymbol logFC              \n",
      "[1,] \"PROM1\"    \"-3.35687081616985\"\n",
      "[2,] \"IGDCC3\"   \"-3.04184512900755\"\n",
      "[3,] \"TRPV6\"    \"-2.69033620295423\"\n",
      "[4,] \"MUC1\"     \"-2.33872541712067\"\n",
      "[5,] \"MESP1\"    \"-2.23612499010657\"\n",
      "[6,] \"CLDN3\"    \"-2.17693188842061\"\n"
     ]
    },
    {
     "data": {
      "text/html": [
       "'R_supervised_analysis_MP_cTCC_Project_topGenes_FC_downreg_gt1_FCsort.txt'"
      ],
      "text/latex": [
       "'R\\_supervised\\_analysis\\_MP\\_cTCC\\_Project\\_topGenes\\_FC\\_downreg\\_gt1\\_FCsort.txt'"
      ],
      "text/markdown": [
       "'R_supervised_analysis_MP_cTCC_Project_topGenes_FC_downreg_gt1_FCsort.txt'"
      ],
      "text/plain": [
       "[1] \"R_supervised_analysis_MP_cTCC_Project_topGenes_FC_downreg_gt1_FCsort.txt\""
      ]
     },
     "metadata": {},
     "output_type": "display_data"
    }
   ],
   "source": [
    "with(ttabDown[ttabDown$logFC<(-1),],{\n",
    "or<-order(logFC)\n",
    "print(head(cbind(geneSymbol,logFC)[or,]))\n",
    "write.table(geneSymbol[or],file=plotName(\"topGenes_FC_downreg_gt1_FCsort.txt\"),quote=FALSE,row.names=FALSE,col.names=FALSE)\n",
    "})\n",
    "plotName(\"topGenes_FC_downreg_gt1_FCsort.txt\")"
   ]
  },
  {
   "cell_type": "code",
   "execution_count": null,
   "metadata": {
    "collapsed": true
   },
   "outputs": [],
   "source": []
  },
  {
   "cell_type": "markdown",
   "metadata": {},
   "source": [
    "# GO ontology\n",
    "Mam też kod używający pakiety require(GOstats), który generował istotnie reprezentowane GO terms w zbiorze top genów. Powiedz, jeśli jesteś zainteresowana."
   ]
  },
  {
   "cell_type": "markdown",
   "metadata": {
    "collapsed": true
   },
   "source": [
    "#Podstawowe heatmapy\n",
    "\n",
    "Funkcja, która rysuje heatmapy wybranego podzbioru genów klastruje wiersze i kolumny macierzy. Klastrowanie można ew. wymusić na własne. Klastrowanie odbywa się, przy użyciu kilku(dziesięciu) największych wartości singularnych z rozkładu, który przypomina rozkład SVD, tylko, że odporny na outliery (RobustPCA - więcej o metodzie w prezentacji). Poza tym niektóre geny są zaznaczane na kolorowo, wg kodu kolorów (z pliku \"src/Choi.et.al.genes.R\"). Wykres można zrobić w 2 wersjach: jeden panel, tylko macierz ekspresji, lub 3 panele obrazujące rozkład RobustPCA.\n",
    "\n",
    "Gdybyś potrzebowała dopieścić obrazek, to pytaj, trzeba kombinować opcjami hm.hprop itp.\n"
   ]
  },
  {
   "cell_type": "code",
   "execution_count": 33,
   "metadata": {
    "collapsed": false
   },
   "outputs": [
    {
     "name": "stdout",
     "output_type": "stream",
     "text": [
      "Note: no visible global function definition for 'gpuSvd' \n",
      "Note: no visible global function definition for 'gpuMatMult' \n",
      "[1] \"rpca converged: TRUE in:\"\n",
      "   user  system elapsed \n",
      "  1.190   0.010   1.176 \n",
      "            robust.rank rank.used.in.clustering \n",
      "                     57                      41 \n"
     ]
    },
    {
     "name": "stderr",
     "output_type": "stream",
     "text": [
      "Warning message:\n",
      "In acos(corgi): NaNs producedWarning message:\n",
      "In acos(corpi): NaNs produced"
     ]
    },
    {
     "name": "stdout",
     "output_type": "stream",
     "text": [
      "[1] 151  41 100  41\n"
     ]
    },
    {
     "data": {
      "text/html": [
       "'plots/R_supervised_analysis_MP_cTCC_Project_heatmap_top100_example1.png'"
      ],
      "text/latex": [
       "'plots/R\\_supervised\\_analysis\\_MP\\_cTCC\\_Project\\_heatmap\\_top100\\_example1.png'"
      ],
      "text/markdown": [
       "'plots/R_supervised_analysis_MP_cTCC_Project_heatmap_top100_example1.png'"
      ],
      "text/plain": [
       "[1] \"plots/R_supervised_analysis_MP_cTCC_Project_heatmap_top100_example1.png\""
      ]
     },
     "metadata": {},
     "output_type": "display_data"
    }
   ],
   "source": [
    "load.sources()\n",
    "N<-100\n",
    "\n",
    "pname<-paste(\"plots/\",plotName(paste(\"heatmap_top\",N,\"_example1.png\",sep=\"\")),sep=\"\")\n",
    "\n",
    "res<-with(ttab[1:min(N,NROW(ttab)),],{\n",
    "     \n",
    "     genedata<-selDataMatrix[ID,]\n",
    "     \n",
    "     heatmap.clust(pname,genedata,geneSymbol,\n",
    "                   pca.type=\"robust.pca\",#pca.type=\"svd\",                   \n",
    "                   plot.only.raw=TRUE, # only 1 or 3 panels \n",
    "                   dend.both=TRUE, # dendrograms\n",
    "                   #nv=length, #select all singular values\n",
    "                   nv=function(d){d2<-d^2   # select as many singular values so their sum is over 0.XXX total sum\n",
    "                                  cs<-cumsum(d2/sum(d2))\n",
    "                                  head(which(cs>=0.999),1) \n",
    "                                  },\n",
    "                   main.title=\"log(FoldChange) relative to median gene expression\",\n",
    "                   #sample.labels=c(\"violet\",\"lightblue\",\"green\",\"purple\")[sample.labels],\n",
    "                   #sample.labels.marks=orig.sample.labels==\"Micropap\",\n",
    "                   sample.labels=c(\"violet\",\"lightblue\")[orig.sample.labels],\n",
    "                   sample.labels.marks=suspicious.samples,#sample.labels==1,\n",
    "                   gene.colors=get.color.for.gene(geneSymbol), # defined in \"src/Choi.et.al.genes.R\"\n",
    "                   centralize=TRUE, #Median centralize        \n",
    "                   normalize=FALSE, \n",
    "                   normalize.for.plot=FALSE, # for plot, but not for clustering\n",
    "                   do.plot=TRUE,\n",
    "                   clustering.distance=\"angular\",\n",
    "                   absolute.gene.clustering=FALSE,\n",
    "                   rect.column=3,\n",
    "                   rect.row=2,\n",
    "                   sample.method=\"ward\",\n",
    "                   genes.method=\"ward\",\n",
    "                   hm.width=2000,\n",
    "                   hm.height=1200,\n",
    "                   hm.hprop=c(2,1,10))\n",
    "})\n",
    "pname"
   ]
  },
  {
   "cell_type": "markdown",
   "metadata": {
    "collapsed": false
   },
   "source": [
    "<img src='plots/R_supervised_analysis_MP_cTCC_Project_heatmap_top100_example1.png'>"
   ]
  },
  {
   "cell_type": "code",
   "execution_count": 37,
   "metadata": {
    "collapsed": false
   },
   "outputs": [
    {
     "name": "stdout",
     "output_type": "stream",
     "text": [
      "Note: no visible global function definition for 'gpuSvd' \n",
      "Note: no visible global function definition for 'gpuMatMult' \n",
      "[1] \"rpca converged: TRUE in:\"\n",
      "   user  system elapsed \n",
      "  3.050   0.120   2.707 \n",
      "            robust.rank rank.used.in.clustering \n",
      "                     85                      61 \n"
     ]
    },
    {
     "name": "stderr",
     "output_type": "stream",
     "text": [
      "Warning message:\n",
      "In acos(corgi): NaNs producedWarning message:\n",
      "In acos(corpi): NaNs produced"
     ]
    },
    {
     "name": "stdout",
     "output_type": "stream",
     "text": [
      "[1] 151  61 200  61\n"
     ]
    },
    {
     "data": {
      "text/html": [
       "'plots/R_supervised_analysis_MP_cTCC_Project_heatmap_top200_example2_wide.png'"
      ],
      "text/latex": [
       "'plots/R\\_supervised\\_analysis\\_MP\\_cTCC\\_Project\\_heatmap\\_top200\\_example2\\_wide.png'"
      ],
      "text/markdown": [
       "'plots/R_supervised_analysis_MP_cTCC_Project_heatmap_top200_example2_wide.png'"
      ],
      "text/plain": [
       "[1] \"plots/R_supervised_analysis_MP_cTCC_Project_heatmap_top200_example2_wide.png\""
      ]
     },
     "metadata": {},
     "output_type": "display_data"
    }
   ],
   "source": [
    "load.sources()\n",
    "N<-200\n",
    "\n",
    "pname<-paste(\"plots/\",plotName(paste(\"heatmap_top\",N,\"_example2_wide.png\",sep=\"\")),sep=\"\")\n",
    "\n",
    "res<-with(ttab[1:min(N,NROW(ttab)),],{\n",
    "     \n",
    "     genedata<-selDataMatrix[ID,]\n",
    "     \n",
    "     heatmap.clust(pname,genedata,geneSymbol,\n",
    "                   pca.type=\"robust.pca\",#pca.type=\"svd\",                   \n",
    "                   plot.only.raw=FALSE, # only 1 or 3 panels \n",
    "                   dend.both=TRUE, # dendrograms\n",
    "                   #nv=length, #select all singular values\n",
    "                   nv=function(d){d2<-d^2   # select as many singular values so their sum is over 0.XXX total sum\n",
    "                                  cs<-cumsum(d2/sum(d2))\n",
    "                                  head(which(cs>=0.999),1) \n",
    "                                  },\n",
    "                   main.title=\"log(FoldChange) relative to median gene expression\",\n",
    "                   #sample.labels=c(\"violet\",\"lightblue\",\"green\",\"purple\")[sample.labels],\n",
    "                   #sample.labels.marks=orig.sample.labels==\"Micropap\",\n",
    "                   sample.labels=c(\"violet\",\"lightblue\")[orig.sample.labels],\n",
    "                   sample.labels.marks=suspicious.samples,#sample.labels==1,\n",
    "                   gene.colors=get.color.for.gene(geneSymbol), # defined in \"src/Choi.et.al.genes.R\"\n",
    "                   centralize=TRUE,        \n",
    "                   normalize=FALSE,\n",
    "                   normalize.for.plot=FALSE,                   \n",
    "                   do.plot=TRUE,\n",
    "                   clustering.distance=\"angular\",\n",
    "                   absolute.gene.clustering=FALSE,\n",
    "                   rect.column=3,\n",
    "                   rect.row=2,\n",
    "                   sample.method=\"ward\",\n",
    "                   genes.method=\"ward\",\n",
    "                   hm.width=2200,\n",
    "                   hm.height=2200,\n",
    "                   hm.hprop=c(2,1,20))\n",
    "})\n",
    "pname"
   ]
  },
  {
   "cell_type": "markdown",
   "metadata": {
    "collapsed": false
   },
   "source": [
    "A tak wygląda w szczegółach rozkład RobustPCA (kliknij prawym i otwórz w nowej zakładce)\n",
    "<img src='plots/R_supervised_analysis_MP_cTCC_Project_heatmap_top200_example2_wide.png'>"
   ]
  },
  {
   "cell_type": "markdown",
   "metadata": {
    "collapsed": false
   },
   "source": [
    "# Iteracyjne poprawianie klastrowania\n",
    "\n",
    "Nie wiem, czy to Ci się przyda, ale w naszym projekcie wykonaliśmy następującą procedurę.\n",
    "Na początku mieliśmy dane klastrowanie próbek na 2 klastry. Po pierwsze, podejrzewaliśmy, że to klastrowanie nie jest idealne (próbki mogły być źle sklasyfikowane), po drugie hipotezą było istnienie więcej niż 2 podtypów raka, co najmniej 4. Dlatego wykonaliśmy iteracyjnie:\n",
    "1.znajdź top 1000 najważniejszych genów dla bieżacego klastrowania\n",
    "(sortując po sumie kwadratów współczynników dla każdego z klastrów)\n",
    "2.znajdź nowe klastrowanie na próbkach na k=4 klastrów używając do tego tych genów\n",
    "3.jeśli klastrowanie różni się od poprzedniego GOTO 1\n",
    "\n",
    "W praktyce klastrowanie i wybór genów stabilizowało się po kilku/kilkunastu iteracjach i pozwoliło odkryć podział na 4 grupy pacjentów. Po przyporządkowaniu tych grup patrząc na genach, które w nich ulegają ekspresji mogliśmy nazwać te grupy. Następnie mogliśmy później wybrać geny, które są ważne *tylko* dla pewnych 2 klastrów."
   ]
  },
  {
   "cell_type": "code",
   "execution_count": null,
   "metadata": {
    "collapsed": false
   },
   "outputs": [],
   "source": [
    "load.sources()\n",
    "inpar(iterationLoop1000abscoef,\n",
    "#iterationLoop1000rerun<-eval(\n",
    "expression({\n",
    "  #perform.iterative.clustering(iterationLoop1000coeffstat300,\n",
    "  iterative.clustering(\n",
    "    selDataMatrix,\n",
    "    sample.labels=orig.sample.labels,                      \n",
    "    N=1000, k=4, \n",
    "    gene.order=\"abscoef\",\n",
    "    p.abscoef=2,  \n",
    "    #coef.fstat.pvweight=300,\n",
    "    plotname.core=\"abscoefstart_lfc1.5\",#match.arg(gene.order),\n",
    "    maxit=32,\n",
    "    #startit=24,\n",
    "    avail.colors=c(\"violet\",\"lightblue\",\"green\",\"purple\",\"red\",\"yellow\"),\n",
    "    sample.labels.marks=orig.sample.labels==\"Micropap\",\n",
    "    pval.threshold=0.005,\n",
    "    lfc.threshold=log2(1.5),\n",
    "    explained.variance.for.clustering.thr=0.999,\n",
    "    obligatory.genes=obligatory.genes\n",
    "    )\n",
    "}))"
   ]
  },
  {
   "cell_type": "code",
   "execution_count": 44,
   "metadata": {
    "collapsed": false
   },
   "outputs": [],
   "source": [
    "#"
   ]
  },
  {
   "cell_type": "code",
   "execution_count": 41,
   "metadata": {
    "collapsed": false
   },
   "outputs": [
    {
     "data": {
      "text/html": [
       "1896"
      ],
      "text/latex": [
       "1896"
      ],
      "text/markdown": [
       "1896"
      ],
      "text/plain": [
       "[1] 1896"
      ]
     },
     "metadata": {},
     "output_type": "display_data"
    },
    {
     "data": {
      "text/html": [
       "1896"
      ],
      "text/latex": [
       "1896"
      ],
      "text/markdown": [
       "1896"
      ],
      "text/plain": [
       "[1] 1896"
      ]
     },
     "metadata": {},
     "output_type": "display_data"
    },
    {
     "data": {
      "text/html": [],
      "text/latex": [],
      "text/markdown": [],
      "text/plain": [
       "character(0)"
      ]
     },
     "metadata": {},
     "output_type": "display_data"
    },
    {
     "data": {
      "text/html": [
       "<ol class=list-inline>\n",
       "\t<li>'MT2A'</li>\n",
       "\t<li>'ERBB2'</li>\n",
       "\t<li>'TBX2'</li>\n",
       "\t<li>'ALOX5AP'</li>\n",
       "\t<li>'EMP3'</li>\n",
       "</ol>\n"
      ],
      "text/latex": [
       "\\begin{enumerate*}\n",
       "\\item 'MT2A'\n",
       "\\item 'ERBB2'\n",
       "\\item 'TBX2'\n",
       "\\item 'ALOX5AP'\n",
       "\\item 'EMP3'\n",
       "\\end{enumerate*}\n"
      ],
      "text/markdown": [
       "1. 'MT2A'\n",
       "2. 'ERBB2'\n",
       "3. 'TBX2'\n",
       "4. 'ALOX5AP'\n",
       "5. 'EMP3'\n",
       "\n",
       "\n"
      ],
      "text/plain": [
       "[1] \"MT2A\"    \"ERBB2\"   \"TBX2\"    \"ALOX5AP\" \"EMP3\"   "
      ]
     },
     "metadata": {},
     "output_type": "display_data"
    }
   ],
   "source": [
    "itstate<-last(iterationLoop1000abscoef)\n",
    "sample.labels<-itstate$sample.labels\n",
    "k<-length(levels(factor(sample.labels)))\n",
    "\n",
    "ttab<-select.genes.from.log.odds(last(iterationLoop1000abscoef),all.col=2:4,to.sel.col=2)\n",
    "NROW(ttab)\n",
    "\n",
    "Nsel<-20\n",
    "#ttab<-itstate$ttab\n",
    "ttab<-ttab[ttab$adj.P.Val<0.005,]\n",
    "NROW(ttab)\n",
    "ttab<-ttab[order(abs(ttab$cluster.2)^2,decreasing=TRUE),]\n",
    "#ttab<-ttab[order(0.7*abs(ttab$cluster.2)^2-(abs(ttab$cluster.3)^2+abs(ttab$cluster.4)^2),decreasing=TRUE),]\n",
    "\n",
    "obid<-which(ttab$ID%in%obligatory.genes)\n",
    "obid<-obid[obid<500]\n",
    "ttab[obid[obid<=Nsel],\"geneSymbol\"]\n",
    "ttab[obid[obid>Nsel],\"geneSymbol\"]\n",
    "ttab<-rbind(ttab[obid,],ttab[-obid,])\n",
    "N<-Nsel+length(obid)-sum(obid<=Nsel)"
   ]
  },
  {
   "cell_type": "code",
   "execution_count": 42,
   "metadata": {
    "collapsed": false
   },
   "outputs": [
    {
     "name": "stdout",
     "output_type": "stream",
     "text": [
      "[1] \"rpca converged: TRUE in:\"\n",
      "   user  system elapsed \n",
      "  0.280   0.000   0.278 \n",
      "            robust.rank rank.used.in.clustering \n",
      "                     13                      13 \n"
     ]
    },
    {
     "name": "stderr",
     "output_type": "stream",
     "text": [
      "Warning message:\n",
      "In acos(corgi): NaNs producedWarning message:\n",
      "In acos(corpi): NaNs produced"
     ]
    },
    {
     "name": "stdout",
     "output_type": "stream",
     "text": [
      "[1] 151  13  25  13\n"
     ]
    },
    {
     "data": {
      "text/html": [
       "'plots/R_supervised_analysis_MP_cTCC_Project_heatmap_top25_from_top1000abscoef_k4_minpval0.005.png'"
      ],
      "text/latex": [
       "'plots/R\\_supervised\\_analysis\\_MP\\_cTCC\\_Project\\_heatmap\\_top25\\_from\\_top1000abscoef\\_k4\\_minpval0.005.png'"
      ],
      "text/markdown": [
       "'plots/R_supervised_analysis_MP_cTCC_Project_heatmap_top25_from_top1000abscoef_k4_minpval0.005.png'"
      ],
      "text/plain": [
       "[1] \"plots/R_supervised_analysis_MP_cTCC_Project_heatmap_top25_from_top1000abscoef_k4_minpval0.005.png\""
      ]
     },
     "metadata": {},
     "output_type": "display_data"
    }
   ],
   "source": [
    "load.sources()\n",
    "pname<-paste(\"plots/\",plotName(paste(\"heatmap_top\",N,\"_from_top1000abscoef_k\",k,\"_minpval0.005.png\",sep=\"\")),sep=\"\")\n",
    "\n",
    "hmplot<-with(ttab[1:min(N,NROW(ttab)),],{\n",
    "     \n",
    "     genedata<-selDataMatrix[ID,]\n",
    "     \n",
    "     heatmap.clust(pname,genedata,geneSymbol,\n",
    "                   pca.type=\"robust.pca\",#pca.type=\"svd\",                   \n",
    "                   plot.only.raw=TRUE,\n",
    "                   dend.both=TRUE,\n",
    "                   nv=length,\n",
    "                   #nv=function(d){d2<-d^2\n",
    "                   #               cs<-cumsum(d2/sum(d2))\n",
    "                   #               head(which(cs>=0.999),1)\n",
    "                   #               },\n",
    "                   main.title=\"log(FoldChange) relative to median gene expression\",\n",
    "                   #sample.labels=c(\"violet\",\"lightblue\",\"green\",\"purple\")[sample.labels],\n",
    "                   #sample.labels.marks=orig.sample.labels==\"Micropap\",\n",
    "                   sample.labels=c(\"violet\",\"lightblue\")[orig.sample.labels],\n",
    "                   sample.labels.marks=suspicious.samples,#sample.labels==1,\n",
    "                   gene.colors=get.color.for.gene(geneSymbol),\n",
    "                   centralize=TRUE,        \n",
    "                   normalize=FALSE,\n",
    "                   normalize.for.plot=FALSE,                   \n",
    "                   do.plot=TRUE,\n",
    "                   clustering.distance=\"angular\",\n",
    "                   absolute.gene.clustering=FALSE,\n",
    "                   rect.column=3,\n",
    "                   rect.row=2,\n",
    "                   sample.method=\"ward\",\n",
    "                   genes.method=\"ward\",\n",
    "                   hm.width=2000,\n",
    "                   hm.height=1200,\n",
    "                   hm.hprop=c(2,1,10))\n",
    "})\n",
    "pname"
   ]
  },
  {
   "cell_type": "markdown",
   "metadata": {
    "collapsed": true
   },
   "source": [
    "<img src='plots/R_supervised_analysis_MP_cTCC_Project_heatmap_top25_from_top1000abscoef_k4_minpval0.005.png'>"
   ]
  },
  {
   "cell_type": "code",
   "execution_count": 48,
   "metadata": {
    "collapsed": false
   },
   "outputs": [
    {
     "name": "stdout",
     "output_type": "stream",
     "text": [
      "[1] 1000\n",
      "         1.1.1.1.1.1.1.1.1.1.1.1.1.1.1.1.1 \n",
      "                                        59 \n",
      "         1.1.1.1.1.1.1.1.1.1.3.3.3.3.3.3.3 \n",
      "                                        50 \n",
      "   1.1.1.1.1.1.1.7.8.8.9.10.10.10.10.10.10 \n",
      "                                        60 \n",
      "1.1.1.1.1.1.8.9.10.11.12.13.14.14.15.16.16 \n",
      "                                        37 \n",
      "      1.1.1.1.5.5.5.5.6.6.7.8.8.8.12.12.12 \n",
      "                                        20 \n",
      "       1.1.1.1.5.5.5.5.6.6.7.8.8.8.8.15.15 \n",
      "                                        22 \n",
      "         1.1.1.1.5.5.5.5.6.6.7.8.8.8.8.8.8 \n",
      "                                        45 \n",
      "     1.1.4.5.6.6.6.6.7.7.8.9.9.15.16.17.17 \n",
      "                                        89 \n",
      "         1.1.4.5.6.6.6.6.7.7.8.9.9.9.9.9.9 \n",
      "                                        66 \n",
      "  1.1.4.5.6.7.7.8.9.9.10.11.11.11.11.11.11 \n",
      "                                        49 \n",
      "         2.2.2.2.2.2.2.2.2.2.2.2.2.2.2.2.2 \n",
      "                                        91 \n",
      "        2.2.2.2.2.2.2.2.2.2.2.5.5.5.5.5.18 \n",
      "                                        17 \n",
      "         2.2.2.2.2.2.2.2.2.2.2.5.5.5.5.5.5 \n",
      "                                        54 \n",
      "         2.2.2.3.3.3.3.3.3.3.4.4.4.4.4.4.4 \n",
      "                                        72 \n",
      "    2.2.2.3.3.3.3.3.5.5.6.7.13.13.14.14.14 \n",
      "                                        29 \n",
      "         2.2.2.3.3.3.3.3.5.5.6.7.7.7.7.7.7 \n",
      "                                        88 \n",
      " 2.3.3.4.4.4.4.4.4.10.11.12.12.12.13.13.13 \n",
      "                                        53 \n",
      "         2.3.3.4.4.4.4.4.4.4.5.6.6.6.6.6.6 \n",
      "                                        99 \n",
      "The provided names of filterTh does not match the field names of nuID_MappingInfo table.\n",
      " No filtering will be performed.\n"
     ]
    }
   ],
   "source": [
    "#Save table of 1000 genes with clusterings to Excel file\n",
    "df<-genes.cluster.table.save(plotName(\"genes_table_top1000_abscoef\"),\n",
    "                             tail(iterationLoop1000abscoef,1)[[1]],1000,4,k.genes=18)"
   ]
  },
  {
   "cell_type": "markdown",
   "metadata": {
    "collapsed": true
   },
   "source": [
    "`R_supervised_analysis_MP_cTCC_Project_genes_table_top1000_abscoef_top1000_k4.xls`"
   ]
  },
  {
   "cell_type": "code",
   "execution_count": 52,
   "metadata": {
    "collapsed": false
   },
   "outputs": [
    {
     "data": {
      "text/html": [
       "<strong>png:</strong> 3"
      ],
      "text/latex": [
       "\\textbf{png:} 3"
      ],
      "text/markdown": [
       "**png:** 3"
      ],
      "text/plain": [
       "png \n",
       "  3 "
      ]
     },
     "metadata": {},
     "output_type": "display_data"
    },
    {
     "data": {
      "image/png": "[encoded data removed]",
      "image/svg+xml": [
       "<?xml version=\"1.0\" encoding=\"UTF-8\"?>\n",
       "<svg xmlns=\"http://www.w3.org/2000/svg\" xmlns:xlink=\"http://www.w3.org/1999/xlink\" width=\"504pt\" height=\"504pt\" viewBox=\"0 0 504 504\" version=\"1.1\">\n",
       "<defs>\n",
       "<g>\n",
       "<symbol overflow=\"visible\" id=\"glyph0-0\">\n",
       "<path style=\"stroke:none;\" d=\"\"/>\n",
       "</symbol>\n",
       "<symbol overflow=\"visible\" id=\"glyph0-1\">\n",
       "<path style=\"stroke:none;\" d=\"M 7.453125 -2.40625 C 7.453125 -3.484375 6.78125 -4.265625 5.59375 -4.59375 L 3.390625 -5.1875 C 2.34375 -5.453125 1.953125 -5.8125 1.953125 -6.484375 C 1.953125 -7.375 2.734375 -8.03125 3.90625 -8.03125 C 5.296875 -8.03125 6.09375 -7.390625 6.09375 -6.25 L 7.15625 -6.25 C 7.15625 -7.96875 5.96875 -8.96875 3.953125 -8.96875 C 2.03125 -8.96875 0.84375 -7.90625 0.84375 -6.328125 C 0.84375 -5.25 1.40625 -4.578125 2.5625 -4.28125 L 4.734375 -3.703125 C 5.828125 -3.421875 6.34375 -2.96875 6.34375 -2.296875 C 6.34375 -1.328125 5.609375 -0.765625 4.109375 -0.765625 C 2.453125 -0.765625 1.625 -1.59375 1.625 -2.84375 L 0.578125 -2.84375 C 0.578125 -0.78125 1.96875 0.21875 4.03125 0.21875 C 6.25 0.21875 7.453125 -0.84375 7.453125 -2.40625 Z M 7.453125 -2.40625 \"/>\n",
       "</symbol>\n",
       "<symbol overflow=\"visible\" id=\"glyph0-2\">\n",
       "<path style=\"stroke:none;\" d=\"M 1.84375 0 L 1.84375 -6.28125 L 0.84375 -6.28125 L 0.84375 0 Z M 1.96875 -7.234375 L 1.96875 -8.484375 L 0.71875 -8.484375 L 0.71875 -7.234375 Z M 1.96875 -7.234375 \"/>\n",
       "</symbol>\n",
       "<symbol overflow=\"visible\" id=\"glyph0-3\">\n",
       "<path style=\"stroke:none;\" d=\"M 1.8125 0 L 1.8125 -8.75 L 0.8125 -8.75 L 0.8125 0 Z M 1.8125 0 \"/>\n",
       "</symbol>\n",
       "<symbol overflow=\"visible\" id=\"glyph0-4\">\n",
       "<path style=\"stroke:none;\" d=\"M 5.828125 0 L 5.828125 -4.75 C 5.828125 -5.8125 5.078125 -6.46875 3.859375 -6.46875 C 2.96875 -6.46875 2.421875 -6.1875 1.84375 -5.421875 L 1.84375 -8.75 L 0.84375 -8.75 L 0.84375 0 L 1.84375 0 L 1.84375 -3.46875 C 1.84375 -4.75 2.515625 -5.59375 3.546875 -5.59375 C 4.25 -5.59375 4.84375 -5.1875 4.84375 -4.359375 L 4.84375 0 Z M 5.828125 0 \"/>\n",
       "</symbol>\n",
       "<symbol overflow=\"visible\" id=\"glyph0-5\">\n",
       "<path style=\"stroke:none;\" d=\"M 6.125 -3.09375 C 6.125 -5.265625 5.078125 -6.46875 3.265625 -6.46875 C 1.5 -6.46875 0.4375 -5.25 0.4375 -3.140625 C 0.4375 -1.03125 1.484375 0.1875 3.28125 0.1875 C 5.046875 0.1875 6.125 -1.03125 6.125 -3.09375 Z M 5.078125 -3.109375 C 5.078125 -1.625 4.375 -0.75 3.28125 -0.75 C 2.15625 -0.75 1.46875 -1.625 1.46875 -3.140625 C 1.46875 -4.65625 2.15625 -5.546875 3.28125 -5.546875 C 4.40625 -5.546875 5.078125 -4.671875 5.078125 -3.109375 Z M 5.078125 -3.109375 \"/>\n",
       "</symbol>\n",
       "<symbol overflow=\"visible\" id=\"glyph0-6\">\n",
       "<path style=\"stroke:none;\" d=\"M 5.78125 0 L 5.78125 -6.28125 L 4.78125 -6.28125 L 4.78125 -2.8125 C 4.78125 -1.53125 4.109375 -0.703125 3.078125 -0.703125 C 2.28125 -0.703125 1.78125 -1.171875 1.78125 -1.9375 L 1.78125 -6.28125 L 0.78125 -6.28125 L 0.78125 -1.53125 C 0.78125 -0.484375 1.5625 0.1875 2.78125 0.1875 C 3.703125 0.1875 4.296875 -0.140625 4.890625 -0.96875 L 4.890625 0 Z M 5.78125 0 \"/>\n",
       "</symbol>\n",
       "<symbol overflow=\"visible\" id=\"glyph0-7\">\n",
       "<path style=\"stroke:none;\" d=\"M 6.15625 -2.859375 C 6.15625 -3.765625 6.078125 -4.34375 5.90625 -4.8125 C 5.5 -5.84375 4.53125 -6.46875 3.359375 -6.46875 C 1.609375 -6.46875 0.484375 -5.171875 0.484375 -3.109375 C 0.484375 -1.046875 1.578125 0.1875 3.34375 0.1875 C 4.78125 0.1875 5.765625 -0.640625 6.03125 -1.90625 L 5.015625 -1.90625 C 4.734375 -1.078125 4.171875 -0.75 3.375 -0.75 C 2.328125 -0.75 1.546875 -1.421875 1.53125 -2.859375 Z M 5.09375 -3.75 C 5.09375 -3.75 5.09375 -3.703125 5.078125 -3.671875 L 1.546875 -3.671875 C 1.625 -4.78125 2.34375 -5.546875 3.34375 -5.546875 C 4.328125 -5.546875 5.09375 -4.734375 5.09375 -3.75 Z M 5.09375 -3.75 \"/>\n",
       "</symbol>\n",
       "<symbol overflow=\"visible\" id=\"glyph0-8\">\n",
       "<path style=\"stroke:none;\" d=\"M 3.046875 0 L 3.046875 -0.84375 C 2.921875 -0.796875 2.765625 -0.796875 2.5625 -0.796875 C 2.140625 -0.796875 2.015625 -0.90625 2.015625 -1.359375 L 2.015625 -5.46875 L 3.046875 -5.46875 L 3.046875 -6.28125 L 2.015625 -6.28125 L 2.015625 -8.015625 L 1.015625 -8.015625 L 1.015625 -6.28125 L 0.171875 -6.28125 L 0.171875 -5.46875 L 1.015625 -5.46875 L 1.015625 -0.90625 C 1.015625 -0.28125 1.453125 0.078125 2.234375 0.078125 C 2.46875 0.078125 2.71875 0.0625 3.046875 0 Z M 3.046875 0 \"/>\n",
       "</symbol>\n",
       "<symbol overflow=\"visible\" id=\"glyph0-9\">\n",
       "<path style=\"stroke:none;\" d=\"\"/>\n",
       "</symbol>\n",
       "<symbol overflow=\"visible\" id=\"glyph0-10\">\n",
       "<path style=\"stroke:none;\" d=\"M 8.5 -6.28125 L 7.375 -6.28125 L 6.125 -1.390625 L 4.890625 -6.28125 L 3.65625 -6.28125 L 2.453125 -1.390625 L 1.171875 -6.28125 L 0.078125 -6.28125 L 1.890625 0 L 3.03125 0 L 4.234375 -4.9375 L 5.515625 0 L 6.640625 0 Z M 8.5 -6.28125 \"/>\n",
       "</symbol>\n",
       "<symbol overflow=\"visible\" id=\"glyph0-11\">\n",
       "<path style=\"stroke:none;\" d=\"M 5.9375 0 L 5.9375 -8.75 L 4.9375 -8.75 L 4.9375 -5.5 C 4.53125 -6.125 3.859375 -6.46875 3.015625 -6.46875 C 1.375 -6.46875 0.3125 -5.203125 0.3125 -3.203125 C 0.3125 -1.078125 1.359375 0.1875 3.046875 0.1875 C 3.90625 0.1875 4.515625 -0.140625 5.046875 -0.921875 L 5.046875 0 Z M 4.9375 -3.125 C 4.9375 -1.671875 4.25 -0.75 3.1875 -0.75 C 2.09375 -0.75 1.359375 -1.6875 1.359375 -3.140625 C 1.359375 -4.609375 2.09375 -5.53125 3.1875 -5.53125 C 4.265625 -5.53125 4.9375 -4.578125 4.9375 -3.125 Z M 4.9375 -3.125 \"/>\n",
       "</symbol>\n",
       "<symbol overflow=\"visible\" id=\"glyph0-12\">\n",
       "<path style=\"stroke:none;\" d=\"M 5.515625 -1.765625 C 5.515625 -2.703125 4.984375 -3.171875 3.734375 -3.46875 L 2.765625 -3.703125 C 1.953125 -3.890625 1.609375 -4.15625 1.609375 -4.59375 C 1.609375 -5.171875 2.125 -5.546875 2.9375 -5.546875 C 3.75 -5.546875 4.171875 -5.203125 4.203125 -4.53125 L 5.25 -4.53125 C 5.25 -5.765625 4.421875 -6.46875 2.96875 -6.46875 C 1.515625 -6.46875 0.5625 -5.71875 0.5625 -4.546875 C 0.5625 -3.5625 1.0625 -3.09375 2.5625 -2.734375 L 3.484375 -2.515625 C 4.1875 -2.34375 4.46875 -2.140625 4.46875 -1.6875 C 4.46875 -1.09375 3.875 -0.75 3 -0.75 C 2.09375 -0.75 1.59375 -0.953125 1.46875 -1.921875 L 0.40625 -1.921875 C 0.453125 -0.46875 1.265625 0.1875 2.921875 0.1875 C 4.5 0.1875 5.515625 -0.546875 5.515625 -1.765625 Z M 5.515625 -1.765625 \"/>\n",
       "</symbol>\n",
       "<symbol overflow=\"visible\" id=\"glyph0-13\">\n",
       "<path style=\"stroke:none;\" d=\"M 3.40625 -2.875 L 3.40625 -3.75 L 0.546875 -3.75 L 0.546875 -2.875 Z M 3.40625 -2.875 \"/>\n",
       "</symbol>\n",
       "<symbol overflow=\"visible\" id=\"glyph0-14\">\n",
       "<path style=\"stroke:none;\" d=\"M 6.078125 -4.09375 C 6.078125 -7.046875 5.140625 -8.515625 3.296875 -8.515625 C 1.46875 -8.515625 0.515625 -7.015625 0.515625 -4.15625 C 0.515625 -1.296875 1.46875 0.1875 3.296875 0.1875 C 5.09375 0.1875 6.078125 -1.296875 6.078125 -4.09375 Z M 5 -4.1875 C 5 -1.78125 4.453125 -0.703125 3.28125 -0.703125 C 2.15625 -0.703125 1.59375 -1.828125 1.59375 -4.15625 C 1.59375 -6.484375 2.15625 -7.578125 3.296875 -7.578125 C 4.4375 -7.578125 5 -6.46875 5 -4.1875 Z M 5 -4.1875 \"/>\n",
       "</symbol>\n",
       "<symbol overflow=\"visible\" id=\"glyph0-15\">\n",
       "<path style=\"stroke:none;\" d=\"M 2.296875 0 L 2.296875 -1.25 L 1.046875 -1.25 L 1.046875 0 Z M 2.296875 0 \"/>\n",
       "</symbol>\n",
       "<symbol overflow=\"visible\" id=\"glyph0-16\">\n",
       "<path style=\"stroke:none;\" d=\"M 6.125 -6.015625 C 6.125 -7.453125 5.015625 -8.515625 3.40625 -8.515625 C 1.671875 -8.515625 0.65625 -7.625 0.59375 -5.5625 L 1.65625 -5.5625 C 1.734375 -6.984375 2.328125 -7.578125 3.375 -7.578125 C 4.328125 -7.578125 5.046875 -6.90625 5.046875 -5.984375 C 5.046875 -5.3125 4.65625 -4.734375 3.90625 -4.3125 L 2.796875 -3.6875 C 1.015625 -2.671875 0.5 -1.875 0.40625 0 L 6.078125 0 L 6.078125 -1.046875 L 1.59375 -1.046875 C 1.703125 -1.734375 2.09375 -2.1875 3.125 -2.796875 L 4.328125 -3.4375 C 5.515625 -4.078125 6.125 -4.96875 6.125 -6.015625 Z M 6.125 -6.015625 \"/>\n",
       "</symbol>\n",
       "<symbol overflow=\"visible\" id=\"glyph0-17\">\n",
       "<path style=\"stroke:none;\" d=\"M 6.234375 -2.046875 L 6.234375 -2.984375 L 4.984375 -2.984375 L 4.984375 -8.515625 L 4.203125 -8.515625 L 0.34375 -3.15625 L 0.34375 -2.046875 L 3.921875 -2.046875 L 3.921875 0 L 4.984375 0 L 4.984375 -2.046875 Z M 3.921875 -2.984375 L 1.265625 -2.984375 L 3.921875 -6.703125 Z M 3.921875 -2.984375 \"/>\n",
       "</symbol>\n",
       "<symbol overflow=\"visible\" id=\"glyph0-18\">\n",
       "<path style=\"stroke:none;\" d=\"M 6.15625 -2.640625 C 6.15625 -4.21875 5.078125 -5.296875 3.546875 -5.296875 C 2.71875 -5.296875 2.046875 -4.96875 1.59375 -4.34375 C 1.609375 -6.421875 2.28125 -7.578125 3.484375 -7.578125 C 4.234375 -7.578125 4.75 -7.109375 4.921875 -6.28125 L 5.96875 -6.28125 C 5.765625 -7.6875 4.859375 -8.515625 3.5625 -8.515625 C 1.578125 -8.515625 0.515625 -6.84375 0.515625 -3.875 C 0.515625 -1.21875 1.421875 0.1875 3.375 0.1875 C 4.984375 0.1875 6.15625 -0.96875 6.15625 -2.640625 Z M 5.078125 -2.5625 C 5.078125 -1.484375 4.359375 -0.75 3.390625 -0.75 C 2.40625 -0.75 1.65625 -1.53125 1.65625 -2.609375 C 1.65625 -3.671875 2.375 -4.359375 3.421875 -4.359375 C 4.4375 -4.359375 5.078125 -3.703125 5.078125 -2.5625 Z M 5.078125 -2.5625 \"/>\n",
       "</symbol>\n",
       "<symbol overflow=\"visible\" id=\"glyph0-19\">\n",
       "<path style=\"stroke:none;\" d=\"M 6.15625 -2.40625 C 6.15625 -3.34375 5.671875 -4.015625 4.6875 -4.46875 C 5.5625 -5 5.859375 -5.4375 5.859375 -6.234375 C 5.859375 -7.578125 4.8125 -8.515625 3.296875 -8.515625 C 1.796875 -8.515625 0.75 -7.578125 0.75 -6.234375 C 0.75 -5.453125 1.03125 -5.015625 1.890625 -4.46875 C 0.921875 -4.015625 0.4375 -3.34375 0.4375 -2.40625 C 0.4375 -0.859375 1.625 0.1875 3.296875 0.1875 C 4.984375 0.1875 6.15625 -0.859375 6.15625 -2.40625 Z M 4.78125 -6.21875 C 4.78125 -5.421875 4.1875 -4.890625 3.296875 -4.890625 C 2.40625 -4.890625 1.828125 -5.421875 1.828125 -6.234375 C 1.828125 -7.046875 2.40625 -7.578125 3.296875 -7.578125 C 4.203125 -7.578125 4.78125 -7.046875 4.78125 -6.21875 Z M 5.078125 -2.390625 C 5.078125 -1.375 4.359375 -0.75 3.28125 -0.75 C 2.25 -0.75 1.53125 -1.390625 1.53125 -2.390625 C 1.53125 -3.390625 2.25 -4.015625 3.296875 -4.015625 C 4.359375 -4.015625 5.078125 -3.390625 5.078125 -2.390625 Z M 5.078125 -2.390625 \"/>\n",
       "</symbol>\n",
       "<symbol overflow=\"visible\" id=\"glyph0-20\">\n",
       "<path style=\"stroke:none;\" d=\"M 4.15625 0 L 4.15625 -8.515625 L 3.46875 -8.515625 C 3.09375 -7.203125 2.859375 -7.015625 1.21875 -6.8125 L 1.21875 -6.0625 L 3.109375 -6.0625 L 3.109375 0 Z M 4.15625 0 \"/>\n",
       "</symbol>\n",
       "<symbol overflow=\"visible\" id=\"glyph0-21\">\n",
       "<path style=\"stroke:none;\" d=\"M 7.84375 0 L 4.765625 -8.75 L 3.328125 -8.75 L 0.203125 0 L 1.390625 0 L 2.3125 -2.625 L 5.6875 -2.625 L 6.59375 0 Z M 5.375 -3.5625 L 2.59375 -3.5625 L 4.03125 -7.546875 Z M 5.375 -3.5625 \"/>\n",
       "</symbol>\n",
       "<symbol overflow=\"visible\" id=\"glyph0-22\">\n",
       "<path style=\"stroke:none;\" d=\"M 5.828125 -6.28125 L 4.703125 -6.28125 L 2.921875 -1.1875 L 1.25 -6.28125 L 0.125 -6.28125 L 2.328125 0 L 3.421875 0 Z M 5.828125 -6.28125 \"/>\n",
       "</symbol>\n",
       "<symbol overflow=\"visible\" id=\"glyph0-23\">\n",
       "<path style=\"stroke:none;\" d=\"M 3.859375 -5.40625 L 3.859375 -6.4375 C 3.6875 -6.453125 3.59375 -6.46875 3.46875 -6.46875 C 2.8125 -6.46875 2.328125 -6.078125 1.75 -5.140625 L 1.75 -6.28125 L 0.84375 -6.28125 L 0.84375 0 L 1.84375 0 L 1.84375 -3.265625 C 1.84375 -4.6875 2.296875 -5.390625 3.859375 -5.40625 Z M 3.859375 -5.40625 \"/>\n",
       "</symbol>\n",
       "<symbol overflow=\"visible\" id=\"glyph0-24\">\n",
       "<path style=\"stroke:none;\" d=\"M 6.421875 -0.03125 L 6.421875 -0.78125 C 6.3125 -0.75 6.265625 -0.75 6.203125 -0.75 C 5.859375 -0.75 5.65625 -0.9375 5.65625 -1.25 L 5.65625 -4.75 C 5.65625 -5.875 4.84375 -6.46875 3.296875 -6.46875 C 1.78125 -6.46875 0.84375 -5.875 0.78125 -4.421875 L 1.78125 -4.421875 C 1.875 -5.203125 2.328125 -5.546875 3.265625 -5.546875 C 4.15625 -5.546875 4.671875 -5.203125 4.671875 -4.609375 L 4.671875 -4.34375 C 4.671875 -3.921875 4.421875 -3.75 3.625 -3.640625 C 2.203125 -3.46875 1.984375 -3.421875 1.609375 -3.265625 C 0.875 -2.96875 0.5 -2.40625 0.5 -1.625 C 0.5 -0.484375 1.296875 0.1875 2.5625 0.1875 C 3.375 0.1875 4.15625 -0.15625 4.703125 -0.75 C 4.8125 -0.265625 5.25 0.078125 5.734375 0.078125 C 5.9375 0.078125 6.09375 0.0625 6.421875 -0.03125 Z M 4.671875 -2.171875 C 4.671875 -1.265625 3.75 -0.703125 2.78125 -0.703125 C 2 -0.703125 1.546875 -0.96875 1.546875 -1.65625 C 1.546875 -2.3125 1.984375 -2.609375 3.0625 -2.765625 C 4.109375 -2.90625 4.328125 -2.953125 4.671875 -3.109375 Z M 4.671875 -2.171875 \"/>\n",
       "</symbol>\n",
       "<symbol overflow=\"visible\" id=\"glyph0-25\">\n",
       "<path style=\"stroke:none;\" d=\"M 5.875 -1.03125 L 5.875 -6.28125 L 4.9375 -6.28125 L 4.9375 -5.375 C 4.4375 -6.125 3.828125 -6.46875 3.03125 -6.46875 C 1.421875 -6.46875 0.34375 -5.125 0.34375 -3.078125 C 0.34375 -1.109375 1.46875 0.1875 2.9375 0.1875 C 3.734375 0.1875 4.28125 -0.15625 4.9375 -0.953125 L 4.9375 -0.53125 C 4.9375 1.140625 4.265625 1.78125 3.09375 1.78125 C 2.296875 1.78125 1.6875 1.484375 1.578125 0.71875 L 0.546875 0.71875 C 0.65625 1.90625 1.578125 2.609375 3.0625 2.609375 C 5.03125 2.609375 5.875 1.734375 5.875 -1.03125 Z M 4.84375 -3.109375 C 4.84375 -1.609375 4.203125 -0.75 3.140625 -0.75 C 2.046875 -0.75 1.390625 -1.625 1.390625 -3.140625 C 1.390625 -4.65625 2.0625 -5.546875 3.125 -5.546875 C 4.21875 -5.546875 4.84375 -4.625 4.84375 -3.109375 Z M 4.84375 -3.109375 \"/>\n",
       "</symbol>\n",
       "<symbol overflow=\"visible\" id=\"glyph0-26\">\n",
       "<path style=\"stroke:none;\" d=\"M 2.296875 0 L 2.296875 -1.25 L 1.046875 -1.25 L 1.046875 0 Z M 2.296875 -5.046875 L 2.296875 -6.28125 L 1.046875 -6.28125 L 1.046875 -5.046875 Z M 2.296875 -5.046875 \"/>\n",
       "</symbol>\n",
       "<symbol overflow=\"visible\" id=\"glyph0-27\">\n",
       "<path style=\"stroke:none;\" d=\"M 6.078125 -2.46875 C 6.078125 -3.5 5.65625 -4.109375 4.625 -4.453125 C 5.421875 -4.765625 5.8125 -5.3125 5.8125 -6.171875 C 5.8125 -7.625 4.84375 -8.515625 3.234375 -8.515625 C 1.515625 -8.515625 0.59375 -7.578125 0.5625 -5.765625 L 1.625 -5.765625 C 1.640625 -7.015625 2.15625 -7.578125 3.234375 -7.578125 C 4.171875 -7.578125 4.734375 -7.03125 4.734375 -6.125 C 4.734375 -5.21875 4.34375 -4.84375 2.65625 -4.84375 L 2.65625 -3.953125 L 3.234375 -3.953125 C 4.390625 -3.953125 4.984375 -3.40625 4.984375 -2.453125 C 4.984375 -1.390625 4.328125 -0.75 3.234375 -0.75 C 2.078125 -0.75 1.515625 -1.328125 1.4375 -2.5625 L 0.390625 -2.5625 C 0.515625 -0.671875 1.453125 0.1875 3.1875 0.1875 C 4.9375 0.1875 6.078125 -0.859375 6.078125 -2.46875 Z M 6.078125 -2.46875 \"/>\n",
       "</symbol>\n",
       "<symbol overflow=\"visible\" id=\"glyph0-28\">\n",
       "<path style=\"stroke:none;\" d=\"M 5.84375 0 L 5.84375 -4.75 C 5.84375 -5.796875 5.0625 -6.46875 3.859375 -6.46875 C 2.921875 -6.46875 2.3125 -6.109375 1.765625 -5.234375 L 1.765625 -6.28125 L 0.84375 -6.28125 L 0.84375 0 L 1.84375 0 L 1.84375 -3.46875 C 1.84375 -4.75 2.53125 -5.59375 3.546875 -5.59375 C 4.34375 -5.59375 4.84375 -5.109375 4.84375 -4.359375 L 4.84375 0 Z M 5.84375 0 \"/>\n",
       "</symbol>\n",
       "<symbol overflow=\"visible\" id=\"glyph0-29\">\n",
       "<path style=\"stroke:none;\" d=\"M 6.1875 -3.6875 L 6.1875 -4.5 L 0.8125 -4.5 L 0.8125 -3.6875 Z M 6.1875 -1.5 L 6.1875 -2.3125 L 0.8125 -2.3125 L 0.8125 -1.5 Z M 6.1875 -1.5 \"/>\n",
       "</symbol>\n",
       "<symbol overflow=\"visible\" id=\"glyph0-30\">\n",
       "<path style=\"stroke:none;\" d=\"M 6.15625 -2.8125 C 6.15625 -4.5 5.046875 -5.609375 3.40625 -5.609375 C 2.8125 -5.609375 2.328125 -5.453125 1.84375 -5.09375 L 2.171875 -7.28125 L 5.71875 -7.28125 L 5.71875 -8.328125 L 1.3125 -8.328125 L 0.6875 -3.875 L 1.65625 -3.875 C 2.140625 -4.46875 2.5625 -4.671875 3.21875 -4.671875 C 4.359375 -4.671875 5.078125 -3.9375 5.078125 -2.671875 C 5.078125 -1.453125 4.375 -0.75 3.21875 -0.75 C 2.296875 -0.75 1.734375 -1.21875 1.46875 -2.1875 L 0.421875 -2.1875 C 0.765625 -0.484375 1.734375 0.1875 3.234375 0.1875 C 4.953125 0.1875 6.15625 -1.015625 6.15625 -2.8125 Z M 6.15625 -2.8125 \"/>\n",
       "</symbol>\n",
       "<symbol overflow=\"visible\" id=\"glyph0-31\">\n",
       "<path style=\"stroke:none;\" d=\"M 5.71875 -2.15625 L 4.71875 -2.15625 C 4.546875 -1.15625 4.03125 -0.75 3.1875 -0.75 C 2.078125 -0.75 1.421875 -1.59375 1.421875 -3.078125 C 1.421875 -4.65625 2.0625 -5.546875 3.15625 -5.546875 C 4 -5.546875 4.53125 -5.046875 4.640625 -4.171875 L 5.65625 -4.171875 C 5.53125 -5.71875 4.578125 -6.46875 3.171875 -6.46875 C 1.46875 -6.46875 0.375 -5.171875 0.375 -3.078125 C 0.375 -1.0625 1.453125 0.1875 3.15625 0.1875 C 4.65625 0.1875 5.609375 -0.71875 5.71875 -2.15625 Z M 5.71875 -2.15625 \"/>\n",
       "</symbol>\n",
       "<symbol overflow=\"visible\" id=\"glyph0-32\">\n",
       "<path style=\"stroke:none;\" d=\"M 8.125 -3.1875 L 6.96875 -3.1875 C 6.703125 -1.53125 6.015625 -0.765625 4.53125 -0.765625 C 2.796875 -0.765625 1.6875 -2.09375 1.6875 -4.28125 C 1.6875 -6.53125 2.75 -7.984375 4.4375 -7.984375 C 5.8125 -7.984375 6.53125 -7.375 6.796875 -6.03125 L 7.9375 -6.03125 C 7.59375 -7.953125 6.484375 -8.96875 4.578125 -8.96875 C 1.921875 -8.96875 0.578125 -6.828125 0.578125 -4.265625 C 0.578125 -1.71875 1.953125 0.21875 4.53125 0.21875 C 6.65625 0.21875 7.859375 -0.90625 8.125 -3.1875 Z M 8.125 -3.1875 \"/>\n",
       "</symbol>\n",
       "<symbol overflow=\"visible\" id=\"glyph0-33\">\n",
       "<path style=\"stroke:none;\" d=\"M 1.84375 1.3125 L 1.84375 -6.28125 L 0.84375 -6.28125 L 0.84375 0.90625 C 0.84375 1.515625 0.640625 1.78125 0.03125 1.734375 L -0.21875 1.734375 L -0.21875 2.578125 C -0.09375 2.609375 -0.03125 2.609375 0.125 2.609375 C 1.25 2.609375 1.84375 2.15625 1.84375 1.3125 Z M 1.96875 -7.234375 L 1.96875 -8.484375 L 0.71875 -8.484375 L 0.71875 -7.234375 Z M 1.96875 -7.234375 \"/>\n",
       "</symbol>\n",
       "<symbol overflow=\"visible\" id=\"glyph0-34\">\n",
       "<path style=\"stroke:none;\" d=\"M 1.96875 2.546875 L 1.96875 -8.75 L 1.15625 -8.75 L 1.15625 2.546875 Z M 1.96875 2.546875 \"/>\n",
       "</symbol>\n",
       "<symbol overflow=\"visible\" id=\"glyph0-35\">\n",
       "<path style=\"stroke:none;\" d=\"M 6.109375 -4.453125 C 6.109375 -7.109375 5.1875 -8.515625 3.234375 -8.515625 C 1.625 -8.515625 0.453125 -7.359375 0.453125 -5.6875 C 0.453125 -4.109375 1.53125 -3.03125 3.078125 -3.03125 C 3.875 -3.03125 4.46875 -3.328125 5.015625 -3.984375 C 5 -1.90625 4.328125 -0.75 3.125 -0.75 C 2.375 -0.75 1.859375 -1.21875 1.6875 -2.046875 L 0.640625 -2.046875 C 0.84375 -0.640625 1.75 0.1875 3.046875 0.1875 C 5.046875 0.1875 6.109375 -1.515625 6.109375 -4.453125 Z M 4.953125 -5.71875 C 4.953125 -4.671875 4.21875 -3.96875 3.1875 -3.96875 C 2.171875 -3.96875 1.53125 -4.625 1.53125 -5.765625 C 1.53125 -6.859375 2.25 -7.578125 3.234375 -7.578125 C 4.21875 -7.578125 4.953125 -6.8125 4.953125 -5.71875 Z M 4.953125 -5.71875 \"/>\n",
       "</symbol>\n",
       "<symbol overflow=\"visible\" id=\"glyph0-36\">\n",
       "<path style=\"stroke:none;\" d=\"M 6.234375 -7.4375 L 6.234375 -8.328125 L 0.546875 -8.328125 L 0.546875 -7.28125 L 5.140625 -7.28125 C 3.453125 -5.140625 2.25 -2.65625 1.65625 0 L 2.78125 0 C 3.25 -2.75 4.453125 -5.3125 6.234375 -7.4375 Z M 6.234375 -7.4375 \"/>\n",
       "</symbol>\n",
       "<symbol overflow=\"visible\" id=\"glyph1-0\">\n",
       "<path style=\"stroke:none;\" d=\"\"/>\n",
       "</symbol>\n",
       "<symbol overflow=\"visible\" id=\"glyph1-1\">\n",
       "<path style=\"stroke:none;\" d=\"M 1.28125 0 L 1.28125 -4.40625 L 0.59375 -4.40625 L 0.59375 0 Z M 1.375 -5.0625 L 1.375 -5.9375 L 0.5 -5.9375 L 0.5 -5.0625 Z M 1.375 -5.0625 \"/>\n",
       "</symbol>\n",
       "<symbol overflow=\"visible\" id=\"glyph1-2\">\n",
       "<path style=\"stroke:none;\" d=\"M 1.28125 0.921875 L 1.28125 -4.40625 L 0.59375 -4.40625 L 0.59375 0.640625 C 0.59375 1.0625 0.453125 1.25 0.015625 1.21875 L -0.15625 1.203125 L -0.15625 1.8125 C -0.0625 1.828125 -0.03125 1.828125 0.078125 1.828125 C 0.875 1.828125 1.28125 1.515625 1.28125 0.921875 Z M 1.375 -5.0625 L 1.375 -5.9375 L 0.5 -5.9375 L 0.5 -5.0625 Z M 1.375 -5.0625 \"/>\n",
       "</symbol>\n",
       "<symbol overflow=\"visible\" id=\"glyph1-3\">\n",
       "<path style=\"stroke:none;\" d=\"M 5.6875 -2.234375 L 4.890625 -2.234375 C 4.703125 -1.078125 4.21875 -0.53125 3.171875 -0.53125 C 1.953125 -0.53125 1.1875 -1.46875 1.1875 -3 C 1.1875 -4.578125 1.921875 -5.59375 3.109375 -5.59375 C 4.0625 -5.59375 4.578125 -5.15625 4.765625 -4.234375 L 5.5625 -4.234375 C 5.328125 -5.578125 4.546875 -6.28125 3.203125 -6.28125 C 1.34375 -6.28125 0.40625 -4.78125 0.40625 -3 C 0.40625 -1.203125 1.375 0.15625 3.171875 0.15625 C 4.671875 0.15625 5.5 -0.640625 5.6875 -2.234375 Z M 5.6875 -2.234375 \"/>\n",
       "</symbol>\n",
       "<symbol overflow=\"visible\" id=\"glyph2-0\">\n",
       "<path style=\"stroke:none;\" d=\"\"/>\n",
       "</symbol>\n",
       "<symbol overflow=\"visible\" id=\"glyph2-1\">\n",
       "<path style=\"stroke:none;\" d=\"M 9.125 -3.15625 C 9.125 -4.8125 8.28125 -5.59375 6.34375 -5.96875 L 4.703125 -6.28125 C 3.15625 -6.578125 2.703125 -6.890625 2.703125 -7.65625 C 2.703125 -8.4375 3.421875 -8.953125 4.53125 -8.953125 C 5.890625 -8.953125 6.734375 -8.375 6.734375 -7.296875 L 8.75 -7.296875 C 8.75 -9.515625 7.1875 -10.671875 4.625 -10.671875 C 2.109375 -10.671875 0.640625 -9.5 0.640625 -7.453125 C 0.640625 -5.8125 1.46875 -5.046875 3.59375 -4.625 L 5.078125 -4.34375 C 6.515625 -4.046875 7.046875 -3.75 7.046875 -2.890625 C 7.046875 -2.015625 6.234375 -1.5625 4.921875 -1.5625 C 3.453125 -1.5625 2.5625 -2.171875 2.5625 -3.296875 L 0.46875 -3.296875 C 0.46875 -1.046875 2.125 0.171875 4.8125 0.171875 C 7.515625 0.171875 9.125 -1.015625 9.125 -3.15625 Z M 9.125 -3.15625 \"/>\n",
       "</symbol>\n",
       "<symbol overflow=\"visible\" id=\"glyph2-2\">\n",
       "<path style=\"stroke:none;\" d=\"M 2.984375 0 L 2.984375 -7.78125 L 0.96875 -7.78125 L 0.96875 0 Z M 3.015625 -8.71875 L 3.015625 -10.734375 L 1 -10.734375 L 1 -8.71875 Z M 3.015625 -8.71875 \"/>\n",
       "</symbol>\n",
       "<symbol overflow=\"visible\" id=\"glyph2-3\">\n",
       "<path style=\"stroke:none;\" d=\"M 2.984375 0 L 2.984375 -10.5 L 0.96875 -10.5 L 0.96875 0 Z M 2.984375 0 \"/>\n",
       "</symbol>\n",
       "<symbol overflow=\"visible\" id=\"glyph2-4\">\n",
       "<path style=\"stroke:none;\" d=\"M 7.796875 0 L 7.796875 -5.21875 C 7.796875 -7.03125 6.734375 -7.90625 5.265625 -7.90625 C 4.265625 -7.90625 3.546875 -7.5 2.984375 -6.65625 L 2.984375 -10.5 L 0.96875 -10.5 L 0.96875 0 L 2.984375 0 L 2.984375 -4.671875 C 2.984375 -5.5625 3.625 -6.1875 4.53125 -6.1875 C 5.265625 -6.1875 5.78125 -5.8125 5.78125 -4.75 L 5.78125 0 Z M 7.796875 0 \"/>\n",
       "</symbol>\n",
       "<symbol overflow=\"visible\" id=\"glyph2-5\">\n",
       "<path style=\"stroke:none;\" d=\"M 8.203125 -3.828125 C 8.203125 -6.46875 6.765625 -7.90625 4.34375 -7.90625 C 1.953125 -7.90625 0.5 -6.4375 0.5 -3.890625 C 0.5 -1.328125 1.953125 0.125 4.34375 0.125 C 6.71875 0.125 8.203125 -1.34375 8.203125 -3.828125 Z M 6.1875 -3.859375 C 6.1875 -2.40625 5.4375 -1.5 4.34375 -1.5 C 3.25 -1.5 2.515625 -2.40625 2.515625 -3.890625 C 2.515625 -5.375 3.25 -6.28125 4.34375 -6.28125 C 5.453125 -6.28125 6.1875 -5.390625 6.1875 -3.859375 Z M 6.1875 -3.859375 \"/>\n",
       "</symbol>\n",
       "<symbol overflow=\"visible\" id=\"glyph2-6\">\n",
       "<path style=\"stroke:none;\" d=\"M 7.796875 0 L 7.796875 -7.78125 L 5.78125 -7.78125 L 5.78125 -3.109375 C 5.78125 -2.1875 5.125 -1.578125 4.15625 -1.578125 C 3.28125 -1.578125 2.859375 -2.046875 2.859375 -2.984375 L 2.859375 -7.78125 L 0.828125 -7.78125 L 0.828125 -2.5625 C 0.828125 -0.84375 1.78125 0.125 3.4375 0.125 C 4.5 0.125 5.203125 -0.265625 5.78125 -1.015625 L 5.78125 0 Z M 7.796875 0 \"/>\n",
       "</symbol>\n",
       "<symbol overflow=\"visible\" id=\"glyph2-7\">\n",
       "<path style=\"stroke:none;\" d=\"M 7.5625 -3.59375 C 7.5625 -6.28125 6.203125 -7.90625 3.921875 -7.90625 C 1.6875 -7.90625 0.3125 -6.390625 0.3125 -3.78125 C 0.3125 -1.296875 1.671875 0.125 3.875 0.125 C 5.625 0.125 7.03125 -0.65625 7.484375 -2.1875 L 5.484375 -2.1875 C 5.3125 -1.625 4.6875 -1.40625 3.953125 -1.40625 C 3 -1.40625 2.390625 -1.84375 2.328125 -3.359375 L 7.546875 -3.359375 Z M 5.453125 -4.703125 L 2.359375 -4.703125 C 2.5 -5.78125 3 -6.375 3.890625 -6.375 C 4.75 -6.375 5.359375 -5.8125 5.453125 -4.703125 Z M 5.453125 -4.703125 \"/>\n",
       "</symbol>\n",
       "<symbol overflow=\"visible\" id=\"glyph2-8\">\n",
       "<path style=\"stroke:none;\" d=\"M 4.34375 0 L 4.34375 -1.40625 C 4.140625 -1.390625 4.015625 -1.375 3.875 -1.375 C 3.34375 -1.375 3.21875 -1.53125 3.21875 -2.21875 L 3.21875 -6.28125 L 4.34375 -6.28125 L 4.34375 -7.625 L 3.21875 -7.625 L 3.21875 -9.703125 L 1.203125 -9.703125 L 1.203125 -7.625 L 0.203125 -7.625 L 0.203125 -6.28125 L 1.203125 -6.28125 L 1.203125 -1.671875 C 1.203125 -0.453125 1.84375 0.0625 3.171875 0.0625 C 3.609375 0.0625 3.96875 0.015625 4.34375 0 Z M 4.34375 0 \"/>\n",
       "</symbol>\n",
       "<symbol overflow=\"visible\" id=\"glyph2-9\">\n",
       "<path style=\"stroke:none;\" d=\"\"/>\n",
       "</symbol>\n",
       "<symbol overflow=\"visible\" id=\"glyph2-10\">\n",
       "<path style=\"stroke:none;\" d=\"M 8.265625 -3.890625 C 8.265625 -6.1875 7.046875 -7.90625 5.015625 -7.90625 C 4.03125 -7.90625 3.34375 -7.484375 2.859375 -6.625 L 2.859375 -7.78125 L 0.828125 -7.78125 L 0.828125 3.140625 L 2.859375 3.140625 L 2.859375 -1.03125 C 3.34375 -0.171875 4.03125 0.125 5.015625 0.125 C 6.890625 0.125 8.265625 -1.53125 8.265625 -3.890625 Z M 6.25 -3.859375 C 6.25 -2.453125 5.546875 -1.5625 4.546875 -1.5625 C 3.546875 -1.5625 2.859375 -2.4375 2.859375 -3.890625 C 2.859375 -5.34375 3.546875 -6.21875 4.546875 -6.21875 C 5.578125 -6.21875 6.25 -5.34375 6.25 -3.859375 Z M 6.25 -3.859375 \"/>\n",
       "</symbol>\n",
       "<symbol overflow=\"visible\" id=\"glyph2-11\">\n",
       "<path style=\"stroke:none;\" d=\"M 4.515625 -6.28125 L 4.515625 -7.625 L 3.3125 -7.625 L 3.3125 -8.390625 C 3.3125 -8.78125 3.484375 -8.984375 3.859375 -8.984375 C 4.03125 -8.984375 4.265625 -8.96875 4.4375 -8.953125 L 4.4375 -10.453125 C 4.0625 -10.484375 3.5625 -10.5 3.28125 -10.5 C 1.9375 -10.5 1.296875 -9.875 1.296875 -8.5625 L 1.296875 -7.625 L 0.203125 -7.625 L 0.203125 -6.28125 L 1.296875 -6.28125 L 1.296875 0 L 3.3125 0 L 3.3125 -6.28125 Z M 4.515625 -6.28125 \"/>\n",
       "</symbol>\n",
       "<symbol overflow=\"visible\" id=\"glyph2-12\">\n",
       "<path style=\"stroke:none;\" d=\"M 5.328125 -5.84375 L 5.328125 -7.890625 C 5.21875 -7.90625 5.140625 -7.90625 5.078125 -7.90625 C 4.15625 -7.90625 3.359375 -7.296875 2.921875 -6.25 L 2.921875 -7.78125 L 0.90625 -7.78125 L 0.90625 0 L 2.921875 0 L 2.921875 -4.140625 C 2.921875 -5.3125 3.515625 -5.90625 4.703125 -5.90625 C 4.90625 -5.90625 5.0625 -5.890625 5.328125 -5.84375 Z M 5.328125 -5.84375 \"/>\n",
       "</symbol>\n",
       "<symbol overflow=\"visible\" id=\"glyph2-13\">\n",
       "<path style=\"stroke:none;\" d=\"M 7.890625 0 L 5.0625 -4.84375 L 7.703125 -7.78125 L 5.421875 -7.78125 L 2.859375 -4.75 L 2.859375 -10.5 L 0.84375 -10.5 L 0.84375 0 L 2.859375 0 L 2.859375 -2.546875 L 3.671875 -3.421875 L 5.53125 0 Z M 7.890625 0 \"/>\n",
       "</symbol>\n",
       "<symbol overflow=\"visible\" id=\"glyph2-14\">\n",
       "<path style=\"stroke:none;\" d=\"M 7.546875 -4.1875 L 7.546875 -5.640625 L 0.859375 -5.640625 L 0.859375 -4.1875 Z M 7.546875 -1.5625 L 7.546875 -3.015625 L 0.859375 -3.015625 L 0.859375 -1.5625 Z M 7.546875 -1.5625 \"/>\n",
       "</symbol>\n",
       "<symbol overflow=\"visible\" id=\"glyph2-15\">\n",
       "<path style=\"stroke:none;\" d=\"M 7.4375 -3.140625 C 7.4375 -4.34375 6.921875 -5.015625 5.765625 -5.578125 C 6.71875 -6.171875 7.109375 -6.71875 7.109375 -7.65625 C 7.109375 -9.34375 5.828125 -10.4375 3.859375 -10.4375 C 1.890625 -10.4375 0.546875 -9.390625 0.546875 -7.171875 L 0.546875 -7 L 2.421875 -7 C 2.421875 -8.265625 2.828125 -8.796875 3.8125 -8.796875 C 4.625 -8.796875 5.078125 -8.3125 5.078125 -7.46875 C 5.078125 -6.4375 4.5 -6.015625 3.296875 -6.015625 L 3.125 -6.015625 L 3.125 -4.671875 C 4.640625 -4.671875 5.421875 -4.234375 5.421875 -3.140625 C 5.421875 -2.25 4.78125 -1.59375 3.90625 -1.59375 C 2.953125 -1.59375 2.375 -2.140625 2.375 -3.203125 L 0.421875 -3.203125 C 0.421875 -1.15625 1.765625 0.125 3.859375 0.125 C 6.03125 0.125 7.4375 -1.15625 7.4375 -3.140625 Z M 7.4375 -3.140625 \"/>\n",
       "</symbol>\n",
       "<symbol overflow=\"visible\" id=\"glyph2-16\">\n",
       "<path style=\"stroke:none;\" d=\"M 7.515625 -2.6875 L 5.59375 -2.6875 C 5.328125 -1.890625 4.921875 -1.5 4.15625 -1.5 C 3.125 -1.5 2.5 -2.3125 2.5 -3.828125 C 2.5 -5.265625 2.875 -6.28125 4.15625 -6.28125 C 4.96875 -6.28125 5.359375 -5.890625 5.59375 -4.875 L 7.515625 -4.875 C 7.375 -6.765625 6.109375 -7.90625 4.15625 -7.90625 C 1.84375 -7.90625 0.484375 -6.484375 0.484375 -3.828125 C 0.484375 -1.265625 1.828125 0.125 4.140625 0.125 C 6.015625 0.125 7.328125 -1.03125 7.515625 -2.6875 Z M 7.515625 -2.6875 \"/>\n",
       "</symbol>\n",
       "<symbol overflow=\"visible\" id=\"glyph2-17\">\n",
       "<path style=\"stroke:none;\" d=\"M 7.484375 -2.3125 L 7.484375 -2.40625 C 7.484375 -3.296875 6.984375 -3.96875 5.96875 -4.265625 L 3.421875 -5 C 2.859375 -5.15625 2.703125 -5.28125 2.703125 -5.609375 C 2.703125 -6.03125 3.171875 -6.328125 3.875 -6.328125 C 4.84375 -6.328125 5.3125 -5.984375 5.328125 -5.265625 L 7.28125 -5.265625 C 7.25 -6.921875 5.984375 -7.90625 3.890625 -7.90625 C 1.921875 -7.90625 0.6875 -6.921875 0.6875 -5.3125 C 0.6875 -4.359375 0.953125 -3.84375 2.390625 -3.40625 L 4.796875 -2.65625 C 5.296875 -2.5 5.46875 -2.328125 5.46875 -2.125 C 5.46875 -1.640625 4.90625 -1.453125 3.96875 -1.453125 C 3.046875 -1.453125 2.5625 -1.625 2.390625 -2.46875 L 0.421875 -2.46875 C 0.46875 -0.765625 1.734375 0.125 4.09375 0.125 C 6.28125 0.125 7.484375 -0.734375 7.484375 -2.3125 Z M 7.484375 -2.3125 \"/>\n",
       "</symbol>\n",
       "<symbol overflow=\"visible\" id=\"glyph2-18\">\n",
       "<path style=\"stroke:none;\" d=\"M 8.28125 -3.78125 C 8.28125 -6 7.0625 -7.90625 5.015625 -7.90625 C 4.046875 -7.90625 3.359375 -7.546875 2.859375 -6.765625 L 2.859375 -10.5 L 0.84375 -10.5 L 0.84375 0 L 2.859375 0 L 2.859375 -0.890625 C 3.359375 -0.234375 4.03125 0.125 5.015625 0.125 C 6.875 0.125 8.28125 -1.4375 8.28125 -3.78125 Z M 6.265625 -3.875 C 6.265625 -2.46875 5.5625 -1.5625 4.5625 -1.5625 C 3.546875 -1.5625 2.859375 -2.4375 2.859375 -3.921875 C 2.859375 -5.328125 3.5625 -6.21875 4.5625 -6.21875 C 5.5625 -6.21875 6.265625 -5.3125 6.265625 -3.875 Z M 6.265625 -3.875 \"/>\n",
       "</symbol>\n",
       "<symbol overflow=\"visible\" id=\"glyph2-19\">\n",
       "<path style=\"stroke:none;\" d=\"M 7.546875 0 L 7.546875 -0.25 C 7.1875 -0.578125 7.09375 -0.796875 7.09375 -1.203125 L 7.09375 -5.515625 C 7.09375 -7.109375 6 -7.90625 3.90625 -7.90625 C 1.796875 -7.90625 0.703125 -7.015625 0.578125 -5.21875 L 2.515625 -5.21875 C 2.625 -6.015625 2.953125 -6.28125 3.953125 -6.28125 C 4.71875 -6.28125 5.109375 -6.015625 5.109375 -5.5 C 5.109375 -4.6875 4.515625 -4.765625 3.5 -4.59375 L 2.6875 -4.453125 C 1.15625 -4.171875 0.40625 -3.515625 0.40625 -2.109375 C 0.40625 -0.59375 1.46875 0.125 2.765625 0.125 C 3.625 0.125 4.421875 -0.25 5.125 -0.984375 C 5.125 -0.578125 5.171875 -0.234375 5.359375 0 Z M 5.109375 -3.328125 C 5.109375 -2.15625 4.53125 -1.5 3.515625 -1.5 C 2.84375 -1.5 2.421875 -1.75 2.421875 -2.328125 C 2.421875 -2.921875 2.734375 -3.140625 3.578125 -3.296875 L 4.265625 -3.421875 C 4.796875 -3.53125 4.890625 -3.5625 5.109375 -3.671875 Z M 5.109375 -3.328125 \"/>\n",
       "</symbol>\n",
       "<symbol overflow=\"visible\" id=\"glyph2-20\">\n",
       "<path style=\"stroke:none;\" d=\"M 7.84375 0 L 7.84375 -10.5 L 5.828125 -10.5 L 5.828125 -6.765625 C 5.328125 -7.546875 4.65625 -7.90625 3.6875 -7.90625 C 1.828125 -7.90625 0.421875 -6.21875 0.421875 -3.875 C 0.421875 -1.671875 1.625 0.125 3.6875 0.125 C 4.65625 0.125 5.328125 -0.234375 5.828125 -0.890625 L 5.828125 0 Z M 5.828125 -3.84375 C 5.828125 -2.4375 5.140625 -1.5625 4.140625 -1.5625 C 3.125 -1.5625 2.4375 -2.453125 2.4375 -3.875 C 2.4375 -5.3125 3.125 -6.21875 4.140625 -6.21875 C 5.15625 -6.21875 5.828125 -5.328125 5.828125 -3.84375 Z M 5.828125 -3.84375 \"/>\n",
       "</symbol>\n",
       "<symbol overflow=\"visible\" id=\"glyph2-21\">\n",
       "<path style=\"stroke:none;\" d=\"M 7.859375 0 L 7.859375 -5.21875 C 7.859375 -6.921875 6.921875 -7.90625 5.265625 -7.90625 C 4.203125 -7.90625 3.5 -7.515625 2.921875 -6.65625 L 2.921875 -7.78125 L 0.90625 -7.78125 L 0.90625 0 L 2.921875 0 L 2.921875 -4.671875 C 2.921875 -5.59375 3.578125 -6.1875 4.546875 -6.1875 C 5.421875 -6.1875 5.84375 -5.71875 5.84375 -4.796875 L 5.84375 0 Z M 7.859375 0 \"/>\n",
       "</symbol>\n",
       "<symbol overflow=\"visible\" id=\"glyph2-22\">\n",
       "<path style=\"stroke:none;\" d=\"M 7.453125 -3.46875 C 7.453125 -5.5625 6.15625 -6.90625 4.265625 -6.90625 C 3.59375 -6.90625 3.078125 -6.734375 2.5 -6.28125 L 2.828125 -8.40625 L 7.046875 -8.40625 L 7.046875 -10.21875 L 1.578125 -10.21875 L 0.671875 -4.53125 L 2.5 -4.53125 C 2.703125 -5.03125 3.171875 -5.296875 3.78125 -5.296875 C 4.8125 -5.296875 5.4375 -4.671875 5.4375 -3.421875 C 5.4375 -2.234375 4.796875 -1.59375 3.78125 -1.59375 C 2.90625 -1.59375 2.375 -2.046875 2.375 -2.859375 L 0.390625 -2.859375 C 0.390625 -1.078125 1.765625 0.125 3.765625 0.125 C 5.953125 0.125 7.453125 -1.265625 7.453125 -3.46875 Z M 7.453125 -3.46875 \"/>\n",
       "</symbol>\n",
       "<symbol overflow=\"visible\" id=\"glyph2-23\">\n",
       "<path style=\"stroke:none;\" d=\"M 7.453125 -5.078125 C 7.453125 -7.984375 6.921875 -10.4375 3.9375 -10.4375 C 1.015625 -10.4375 0.421875 -8.078125 0.421875 -5.140625 C 0.421875 -2.296875 0.984375 0.125 3.9375 0.125 C 6 0.125 7.453125 -1.046875 7.453125 -5.078125 Z M 5.4375 -5.125 C 5.4375 -2.265625 5.015625 -1.59375 3.9375 -1.59375 C 2.90625 -1.59375 2.4375 -2.125 2.4375 -5.15625 C 2.4375 -8.125 2.859375 -8.796875 3.9375 -8.796875 C 4.921875 -8.796875 5.4375 -8.296875 5.4375 -5.125 Z M 5.4375 -5.125 \"/>\n",
       "</symbol>\n",
       "<symbol overflow=\"visible\" id=\"glyph2-24\">\n",
       "<path style=\"stroke:none;\" d=\"M 7.796875 0.265625 L 7.796875 -7.78125 L 5.875 -7.78125 L 5.875 -6.578125 C 5.265625 -7.5 4.609375 -7.90625 3.71875 -7.90625 C 1.875 -7.90625 0.484375 -6.203125 0.484375 -3.796875 C 0.484375 -1.390625 1.75 0.125 3.671875 0.125 C 4.578125 0.125 5.125 -0.140625 5.875 -0.890625 L 5.875 0.265625 C 5.875 1.203125 5.171875 1.84375 4.15625 1.84375 C 3.40625 1.84375 2.890625 1.53125 2.734375 0.9375 L 0.640625 0.9375 C 0.671875 2.203125 1.953125 3.140625 4.09375 3.140625 C 6.4375 3.140625 7.796875 2.09375 7.796875 0.265625 Z M 5.90625 -3.828125 C 5.90625 -2.421875 5.171875 -1.5625 4.125 -1.5625 C 3.171875 -1.5625 2.5 -2.421875 2.5 -3.828125 C 2.5 -5.296875 3.171875 -6.21875 4.15625 -6.21875 C 5.15625 -6.21875 5.90625 -5.265625 5.90625 -3.828125 Z M 5.90625 -3.828125 \"/>\n",
       "</symbol>\n",
       "<symbol overflow=\"visible\" id=\"glyph3-0\">\n",
       "<path style=\"stroke:none;\" d=\"\"/>\n",
       "</symbol>\n",
       "<symbol overflow=\"visible\" id=\"glyph3-1\">\n",
       "<path style=\"stroke:none;\" d=\"\"/>\n",
       "</symbol>\n",
       "<symbol overflow=\"visible\" id=\"glyph4-0\">\n",
       "<path style=\"stroke:none;\" d=\"\"/>\n",
       "</symbol>\n",
       "<symbol overflow=\"visible\" id=\"glyph4-1\">\n",
       "<path style=\"stroke:none;\" d=\"M 0.84375 -2.203125 C 0.9375 -2.734375 1.265625 -3.171875 1.6875 -3.328125 C 2.046875 -3.46875 2.234375 -3.484375 3.28125 -3.484375 L 4.25 -3.484375 L 4.25 -3.953125 L 3.296875 -3.953125 C 2.71875 -3.953125 2.453125 -3.953125 2.296875 -3.9375 C 1.859375 -3.90625 1.53125 -3.8125 1.296875 -3.671875 C 0.734375 -3.296875 0.375 -2.65625 0.375 -1.96875 C 0.375 -1.5625 0.5 -1.15625 0.734375 -0.828125 C 1.046875 -0.390625 1.421875 -0.140625 1.9375 -0.0625 C 2.21875 -0.015625 2.375 0 3.296875 0 L 4.25 0 L 4.25 -0.46875 L 3.28125 -0.46875 C 2.59375 -0.46875 2.421875 -0.484375 2.21875 -0.5 C 1.765625 -0.5625 1.515625 -0.65625 1.265625 -0.90625 C 1.046875 -1.125 0.90625 -1.40625 0.84375 -1.734375 L 4.25 -1.734375 L 4.25 -2.203125 Z M 0.84375 -2.203125 \"/>\n",
       "</symbol>\n",
       "</g>\n",
       "</defs>\n",
       "<g id=\"surface21553\">\n",
       "<rect x=\"0\" y=\"0\" width=\"504\" height=\"504\" style=\"fill:rgb(100%,100%,100%);fill-opacity:1;stroke:none;\"/>\n",
       "<path style=\"fill-rule:nonzero;fill:rgb(93.333333%,50.980392%,93.333333%);fill-opacity:1;stroke-width:0.75;stroke-linecap:round;stroke-linejoin:round;stroke:rgb(100%,100%,100%);stroke-opacity:1;stroke-miterlimit:10;\" d=\"M 161.359375 416.800781 L 207.449219 416.800781 L 207.449219 414.539062 L 161.359375 414.539062 Z M 161.359375 416.800781 \"/>\n",
       "<path style=\"fill-rule:nonzero;fill:rgb(67.843137%,84.705882%,90.196078%);fill-opacity:1;stroke-width:0.75;stroke-linecap:round;stroke-linejoin:round;stroke:rgb(100%,100%,100%);stroke-opacity:1;stroke-miterlimit:10;\" d=\"M 161.359375 414.535156 L 209.121094 414.535156 L 209.121094 412.273438 L 161.359375 412.273438 Z M 161.359375 414.535156 \"/>\n",
       "<path style=\"fill-rule:nonzero;fill:rgb(93.333333%,50.980392%,93.333333%);fill-opacity:1;stroke-width:0.75;stroke-linecap:round;stroke-linejoin:round;stroke:rgb(100%,100%,100%);stroke-opacity:1;stroke-miterlimit:10;\" d=\"M 161.359375 412.273438 L 211.132812 412.273438 L 211.132812 410.011719 L 161.359375 410.011719 Z M 161.359375 412.273438 \"/>\n",
       "<path style=\"fill-rule:nonzero;fill:rgb(67.843137%,84.705882%,90.196078%);fill-opacity:1;stroke-width:0.75;stroke-linecap:round;stroke-linejoin:round;stroke:rgb(100%,100%,100%);stroke-opacity:1;stroke-miterlimit:10;\" d=\"M 161.359375 410.011719 L 237.515625 410.011719 L 237.515625 407.75 L 161.359375 407.75 Z M 161.359375 410.011719 \"/>\n",
       "<path style=\"fill-rule:nonzero;fill:rgb(93.333333%,50.980392%,93.333333%);fill-opacity:1;stroke-width:0.75;stroke-linecap:round;stroke-linejoin:round;stroke:rgb(100%,100%,100%);stroke-opacity:1;stroke-miterlimit:10;\" d=\"M 161.359375 407.746094 L 257.296875 407.746094 L 257.296875 405.484375 L 161.359375 405.484375 Z M 161.359375 407.746094 \"/>\n",
       "<path style=\"fill-rule:nonzero;fill:rgb(67.843137%,84.705882%,90.196078%);fill-opacity:1;stroke-width:0.75;stroke-linecap:round;stroke-linejoin:round;stroke:rgb(100%,100%,100%);stroke-opacity:1;stroke-miterlimit:10;\" d=\"M 161.359375 405.484375 L 261.421875 405.484375 L 261.421875 403.222656 L 161.359375 403.222656 Z M 161.359375 405.484375 \"/>\n",
       "<path style=\"fill-rule:nonzero;fill:rgb(93.333333%,50.980392%,93.333333%);fill-opacity:1;stroke-width:0.75;stroke-linecap:round;stroke-linejoin:round;stroke:rgb(100%,100%,100%);stroke-opacity:1;stroke-miterlimit:10;\" d=\"M 161.359375 403.222656 L 261.953125 403.222656 L 261.953125 400.960938 L 161.359375 400.960938 Z M 161.359375 403.222656 \"/>\n",
       "<path style=\"fill-rule:nonzero;fill:rgb(67.843137%,84.705882%,90.196078%);fill-opacity:1;stroke-width:0.75;stroke-linecap:round;stroke-linejoin:round;stroke:rgb(100%,100%,100%);stroke-opacity:1;stroke-miterlimit:10;\" d=\"M 161.359375 400.957031 L 264.238281 400.957031 L 264.238281 398.695312 L 161.359375 398.695312 Z M 161.359375 400.957031 \"/>\n",
       "<path style=\"fill-rule:nonzero;fill:rgb(93.333333%,50.980392%,93.333333%);fill-opacity:1;stroke-width:0.75;stroke-linecap:round;stroke-linejoin:round;stroke:rgb(100%,100%,100%);stroke-opacity:1;stroke-miterlimit:10;\" d=\"M 161.359375 398.695312 L 268.398438 398.695312 L 268.398438 396.433594 L 161.359375 396.433594 Z M 161.359375 398.695312 \"/>\n",
       "<path style=\"fill-rule:nonzero;fill:rgb(67.843137%,84.705882%,90.196078%);fill-opacity:1;stroke-width:0.75;stroke-linecap:round;stroke-linejoin:round;stroke:rgb(100%,100%,100%);stroke-opacity:1;stroke-miterlimit:10;\" d=\"M 161.359375 396.429688 L 272.703125 396.429688 L 272.703125 394.167969 L 161.359375 394.167969 Z M 161.359375 396.429688 \"/>\n",
       "<path style=\"fill-rule:nonzero;fill:rgb(93.333333%,50.980392%,93.333333%);fill-opacity:1;stroke-width:0.75;stroke-linecap:round;stroke-linejoin:round;stroke:rgb(100%,100%,100%);stroke-opacity:1;stroke-miterlimit:10;\" d=\"M 161.359375 394.167969 L 289.140625 394.167969 L 289.140625 391.90625 L 161.359375 391.90625 Z M 161.359375 394.167969 \"/>\n",
       "<path style=\"fill-rule:nonzero;fill:rgb(67.843137%,84.705882%,90.196078%);fill-opacity:1;stroke-width:0.75;stroke-linecap:round;stroke-linejoin:round;stroke:rgb(100%,100%,100%);stroke-opacity:1;stroke-miterlimit:10;\" d=\"M 161.359375 391.90625 L 295.707031 391.90625 L 295.707031 389.644531 L 161.359375 389.644531 Z M 161.359375 391.90625 \"/>\n",
       "<path style=\"fill-rule:nonzero;fill:rgb(93.333333%,50.980392%,93.333333%);fill-opacity:1;stroke-width:0.75;stroke-linecap:round;stroke-linejoin:round;stroke:rgb(100%,100%,100%);stroke-opacity:1;stroke-miterlimit:10;\" d=\"M 161.359375 389.640625 L 296.210938 389.640625 L 296.210938 387.378906 L 161.359375 387.378906 Z M 161.359375 389.640625 \"/>\n",
       "<path style=\"fill-rule:nonzero;fill:rgb(67.843137%,84.705882%,90.196078%);fill-opacity:1;stroke-width:0.75;stroke-linecap:round;stroke-linejoin:round;stroke:rgb(100%,100%,100%);stroke-opacity:1;stroke-miterlimit:10;\" d=\"M 161.359375 387.378906 L 298.8125 387.378906 L 298.8125 385.117188 L 161.359375 385.117188 Z M 161.359375 387.378906 \"/>\n",
       "<path style=\"fill-rule:nonzero;fill:rgb(93.333333%,50.980392%,93.333333%);fill-opacity:1;stroke-width:0.75;stroke-linecap:round;stroke-linejoin:round;stroke:rgb(100%,100%,100%);stroke-opacity:1;stroke-miterlimit:10;\" d=\"M 161.359375 385.117188 L 299.988281 385.117188 L 299.988281 382.855469 L 161.359375 382.855469 Z M 161.359375 385.117188 \"/>\n",
       "<path style=\"fill-rule:nonzero;fill:rgb(67.843137%,84.705882%,90.196078%);fill-opacity:1;stroke-width:0.75;stroke-linecap:round;stroke-linejoin:round;stroke:rgb(100%,100%,100%);stroke-opacity:1;stroke-miterlimit:10;\" d=\"M 161.359375 382.851562 L 303.4375 382.851562 L 303.4375 380.589844 L 161.359375 380.589844 Z M 161.359375 382.851562 \"/>\n",
       "<path style=\"fill-rule:nonzero;fill:rgb(93.333333%,50.980392%,93.333333%);fill-opacity:1;stroke-width:0.75;stroke-linecap:round;stroke-linejoin:round;stroke:rgb(100%,100%,100%);stroke-opacity:1;stroke-miterlimit:10;\" d=\"M 161.359375 380.589844 L 303.558594 380.589844 L 303.558594 378.328125 L 161.359375 378.328125 Z M 161.359375 380.589844 \"/>\n",
       "<path style=\"fill-rule:nonzero;fill:rgb(67.843137%,84.705882%,90.196078%);fill-opacity:1;stroke-width:0.75;stroke-linecap:round;stroke-linejoin:round;stroke:rgb(100%,100%,100%);stroke-opacity:1;stroke-miterlimit:10;\" d=\"M 161.359375 378.328125 L 303.652344 378.328125 L 303.652344 376.066406 L 161.359375 376.066406 Z M 161.359375 378.328125 \"/>\n",
       "<path style=\"fill-rule:nonzero;fill:rgb(93.333333%,50.980392%,93.333333%);fill-opacity:1;stroke-width:0.75;stroke-linecap:round;stroke-linejoin:round;stroke:rgb(100%,100%,100%);stroke-opacity:1;stroke-miterlimit:10;\" d=\"M 161.359375 376.0625 L 306.257812 376.0625 L 306.257812 373.800781 L 161.359375 373.800781 Z M 161.359375 376.0625 \"/>\n",
       "<path style=\"fill-rule:nonzero;fill:rgb(67.843137%,84.705882%,90.196078%);fill-opacity:1;stroke-width:0.75;stroke-linecap:round;stroke-linejoin:round;stroke:rgb(100%,100%,100%);stroke-opacity:1;stroke-miterlimit:10;\" d=\"M 161.359375 373.800781 L 308.917969 373.800781 L 308.917969 371.539062 L 161.359375 371.539062 Z M 161.359375 373.800781 \"/>\n",
       "<path style=\"fill-rule:nonzero;fill:rgb(93.333333%,50.980392%,93.333333%);fill-opacity:1;stroke-width:0.75;stroke-linecap:round;stroke-linejoin:round;stroke:rgb(100%,100%,100%);stroke-opacity:1;stroke-miterlimit:10;\" d=\"M 161.359375 371.535156 L 309.644531 371.535156 L 309.644531 369.273438 L 161.359375 369.273438 Z M 161.359375 371.535156 \"/>\n",
       "<path style=\"fill-rule:nonzero;fill:rgb(67.843137%,84.705882%,90.196078%);fill-opacity:1;stroke-width:0.75;stroke-linecap:round;stroke-linejoin:round;stroke:rgb(100%,100%,100%);stroke-opacity:1;stroke-miterlimit:10;\" d=\"M 161.359375 369.273438 L 311.0625 369.273438 L 311.0625 367.011719 L 161.359375 367.011719 Z M 161.359375 369.273438 \"/>\n",
       "<path style=\"fill-rule:nonzero;fill:rgb(93.333333%,50.980392%,93.333333%);fill-opacity:1;stroke-width:0.75;stroke-linecap:round;stroke-linejoin:round;stroke:rgb(100%,100%,100%);stroke-opacity:1;stroke-miterlimit:10;\" d=\"M 161.359375 367.011719 L 311.332031 367.011719 L 311.332031 364.75 L 161.359375 364.75 Z M 161.359375 367.011719 \"/>\n",
       "<path style=\"fill-rule:nonzero;fill:rgb(67.843137%,84.705882%,90.196078%);fill-opacity:1;stroke-width:0.75;stroke-linecap:round;stroke-linejoin:round;stroke:rgb(100%,100%,100%);stroke-opacity:1;stroke-miterlimit:10;\" d=\"M 161.359375 364.746094 L 314.046875 364.746094 L 314.046875 362.484375 L 161.359375 362.484375 Z M 161.359375 364.746094 \"/>\n",
       "<path style=\"fill-rule:nonzero;fill:rgb(93.333333%,50.980392%,93.333333%);fill-opacity:1;stroke-width:0.75;stroke-linecap:round;stroke-linejoin:round;stroke:rgb(100%,100%,100%);stroke-opacity:1;stroke-miterlimit:10;\" d=\"M 161.359375 362.484375 L 319.007812 362.484375 L 319.007812 360.222656 L 161.359375 360.222656 Z M 161.359375 362.484375 \"/>\n",
       "<path style=\"fill-rule:nonzero;fill:rgb(67.843137%,84.705882%,90.196078%);fill-opacity:1;stroke-width:0.75;stroke-linecap:round;stroke-linejoin:round;stroke:rgb(100%,100%,100%);stroke-opacity:1;stroke-miterlimit:10;\" d=\"M 161.359375 360.222656 L 322.347656 360.222656 L 322.347656 357.960938 L 161.359375 357.960938 Z M 161.359375 360.222656 \"/>\n",
       "<path style=\"fill-rule:nonzero;fill:rgb(93.333333%,50.980392%,93.333333%);fill-opacity:1;stroke-width:0.75;stroke-linecap:round;stroke-linejoin:round;stroke:rgb(100%,100%,100%);stroke-opacity:1;stroke-miterlimit:10;\" d=\"M 161.359375 357.957031 L 325.753906 357.957031 L 325.753906 355.695312 L 161.359375 355.695312 Z M 161.359375 357.957031 \"/>\n",
       "<path style=\"fill-rule:nonzero;fill:rgb(67.843137%,84.705882%,90.196078%);fill-opacity:1;stroke-width:0.75;stroke-linecap:round;stroke-linejoin:round;stroke:rgb(100%,100%,100%);stroke-opacity:1;stroke-miterlimit:10;\" d=\"M 161.359375 354.5625 L 64.132812 354.5625 L 64.132812 352.300781 L 161.359375 352.300781 Z M 161.359375 354.5625 \"/>\n",
       "<path style=\"fill-rule:nonzero;fill:rgb(93.333333%,50.980392%,93.333333%);fill-opacity:1;stroke-width:0.75;stroke-linecap:round;stroke-linejoin:round;stroke:rgb(100%,100%,100%);stroke-opacity:1;stroke-miterlimit:10;\" d=\"M 161.359375 352.300781 L 90.429688 352.300781 L 90.429688 350.039062 L 161.359375 350.039062 Z M 161.359375 352.300781 \"/>\n",
       "<path style=\"fill-rule:nonzero;fill:rgb(67.843137%,84.705882%,90.196078%);fill-opacity:1;stroke-width:0.75;stroke-linecap:round;stroke-linejoin:round;stroke:rgb(100%,100%,100%);stroke-opacity:1;stroke-miterlimit:10;\" d=\"M 161.359375 350.035156 L 113.761719 350.035156 L 113.761719 347.773438 L 161.359375 347.773438 Z M 161.359375 350.035156 \"/>\n",
       "<path style=\"fill-rule:nonzero;fill:rgb(93.333333%,50.980392%,93.333333%);fill-opacity:1;stroke-width:0.75;stroke-linecap:round;stroke-linejoin:round;stroke:rgb(100%,100%,100%);stroke-opacity:1;stroke-miterlimit:10;\" d=\"M 161.359375 347.773438 L 116.304688 347.773438 L 116.304688 345.511719 L 161.359375 345.511719 Z M 161.359375 347.773438 \"/>\n",
       "<path style=\"fill-rule:nonzero;fill:rgb(67.843137%,84.705882%,90.196078%);fill-opacity:1;stroke-width:0.75;stroke-linecap:round;stroke-linejoin:round;stroke:rgb(100%,100%,100%);stroke-opacity:1;stroke-miterlimit:10;\" d=\"M 161.359375 345.511719 L 118.328125 345.511719 L 118.328125 343.25 L 161.359375 343.25 Z M 161.359375 345.511719 \"/>\n",
       "<path style=\"fill-rule:nonzero;fill:rgb(93.333333%,50.980392%,93.333333%);fill-opacity:1;stroke-width:0.75;stroke-linecap:round;stroke-linejoin:round;stroke:rgb(100%,100%,100%);stroke-opacity:1;stroke-miterlimit:10;\" d=\"M 161.359375 343.246094 L 119.503906 343.246094 L 119.503906 340.984375 L 161.359375 340.984375 Z M 161.359375 343.246094 \"/>\n",
       "<path style=\"fill-rule:nonzero;fill:rgb(67.843137%,84.705882%,90.196078%);fill-opacity:1;stroke-width:0.75;stroke-linecap:round;stroke-linejoin:round;stroke:rgb(100%,100%,100%);stroke-opacity:1;stroke-miterlimit:10;\" d=\"M 161.359375 340.984375 L 123.574219 340.984375 L 123.574219 338.722656 L 161.359375 338.722656 Z M 161.359375 340.984375 \"/>\n",
       "<path style=\"fill-rule:nonzero;fill:rgb(93.333333%,50.980392%,93.333333%);fill-opacity:1;stroke-width:0.75;stroke-linecap:round;stroke-linejoin:round;stroke:rgb(100%,100%,100%);stroke-opacity:1;stroke-miterlimit:10;\" d=\"M 161.359375 338.722656 L 123.75 338.722656 L 123.75 336.460938 L 161.359375 336.460938 Z M 161.359375 338.722656 \"/>\n",
       "<path style=\"fill-rule:nonzero;fill:rgb(67.843137%,84.705882%,90.196078%);fill-opacity:1;stroke-width:0.75;stroke-linecap:round;stroke-linejoin:round;stroke:rgb(100%,100%,100%);stroke-opacity:1;stroke-miterlimit:10;\" d=\"M 161.359375 336.457031 L 142.367188 336.457031 L 142.367188 334.195312 L 161.359375 334.195312 Z M 161.359375 336.457031 \"/>\n",
       "<path style=\"fill-rule:nonzero;fill:rgb(93.333333%,50.980392%,93.333333%);fill-opacity:1;stroke-width:0.75;stroke-linecap:round;stroke-linejoin:round;stroke:rgb(100%,100%,100%);stroke-opacity:1;stroke-miterlimit:10;\" d=\"M 161.359375 334.195312 L 142.648438 334.195312 L 142.648438 331.933594 L 161.359375 331.933594 Z M 161.359375 334.195312 \"/>\n",
       "<path style=\"fill-rule:nonzero;fill:rgb(67.843137%,84.705882%,90.196078%);fill-opacity:1;stroke-width:0.75;stroke-linecap:round;stroke-linejoin:round;stroke:rgb(100%,100%,100%);stroke-opacity:1;stroke-miterlimit:10;\" d=\"M 161.359375 331.929688 L 148.085938 331.929688 L 148.085938 329.667969 L 161.359375 329.667969 Z M 161.359375 331.929688 \"/>\n",
       "<path style=\"fill-rule:nonzero;fill:rgb(93.333333%,50.980392%,93.333333%);fill-opacity:1;stroke-width:0.75;stroke-linecap:round;stroke-linejoin:round;stroke:rgb(100%,100%,100%);stroke-opacity:1;stroke-miterlimit:10;\" d=\"M 161.359375 329.667969 L 150.695312 329.667969 L 150.695312 327.40625 L 161.359375 327.40625 Z M 161.359375 329.667969 \"/>\n",
       "<path style=\"fill-rule:nonzero;fill:rgb(67.843137%,84.705882%,90.196078%);fill-opacity:1;stroke-width:0.75;stroke-linecap:round;stroke-linejoin:round;stroke:rgb(100%,100%,100%);stroke-opacity:1;stroke-miterlimit:10;\" d=\"M 161.359375 327.40625 L 152.796875 327.40625 L 152.796875 325.144531 L 161.359375 325.144531 Z M 161.359375 327.40625 \"/>\n",
       "<path style=\"fill-rule:nonzero;fill:rgb(93.333333%,50.980392%,93.333333%);fill-opacity:1;stroke-width:0.75;stroke-linecap:round;stroke-linejoin:round;stroke:rgb(100%,100%,100%);stroke-opacity:1;stroke-miterlimit:10;\" d=\"M 161.359375 325.140625 L 153.003906 325.140625 L 153.003906 322.878906 L 161.359375 322.878906 Z M 161.359375 325.140625 \"/>\n",
       "<path style=\"fill-rule:nonzero;fill:rgb(67.843137%,84.705882%,90.196078%);fill-opacity:1;stroke-width:0.75;stroke-linecap:round;stroke-linejoin:round;stroke:rgb(100%,100%,100%);stroke-opacity:1;stroke-miterlimit:10;\" d=\"M 161.359375 322.878906 L 156.785156 322.878906 L 156.785156 320.617188 L 161.359375 320.617188 Z M 161.359375 322.878906 \"/>\n",
       "<path style=\"fill-rule:nonzero;fill:rgb(93.333333%,50.980392%,93.333333%);fill-opacity:1;stroke-width:0.75;stroke-linecap:round;stroke-linejoin:round;stroke:rgb(100%,100%,100%);stroke-opacity:1;stroke-miterlimit:10;\" d=\"M 161.359375 320.617188 L 158.53125 320.617188 L 158.53125 318.355469 L 161.359375 318.355469 Z M 161.359375 320.617188 \"/>\n",
       "<path style=\"fill-rule:nonzero;fill:rgb(67.843137%,84.705882%,90.196078%);fill-opacity:1;stroke-width:0.75;stroke-linecap:round;stroke-linejoin:round;stroke:rgb(100%,100%,100%);stroke-opacity:1;stroke-miterlimit:10;\" d=\"M 161.359375 318.351562 L 162.601562 318.351562 L 162.601562 316.089844 L 161.359375 316.089844 Z M 161.359375 318.351562 \"/>\n",
       "<path style=\"fill-rule:nonzero;fill:rgb(93.333333%,50.980392%,93.333333%);fill-opacity:1;stroke-width:0.75;stroke-linecap:round;stroke-linejoin:round;stroke:rgb(100%,100%,100%);stroke-opacity:1;stroke-miterlimit:10;\" d=\"M 161.359375 316.089844 L 164.980469 316.089844 L 164.980469 313.828125 L 161.359375 313.828125 Z M 161.359375 316.089844 \"/>\n",
       "<path style=\"fill-rule:nonzero;fill:rgb(67.843137%,84.705882%,90.196078%);fill-opacity:1;stroke-width:0.75;stroke-linecap:round;stroke-linejoin:round;stroke:rgb(100%,100%,100%);stroke-opacity:1;stroke-miterlimit:10;\" d=\"M 161.359375 313.828125 L 165.980469 313.828125 L 165.980469 311.566406 L 161.359375 311.566406 Z M 161.359375 313.828125 \"/>\n",
       "<path style=\"fill-rule:nonzero;fill:rgb(93.333333%,50.980392%,93.333333%);fill-opacity:1;stroke-width:0.75;stroke-linecap:round;stroke-linejoin:round;stroke:rgb(100%,100%,100%);stroke-opacity:1;stroke-miterlimit:10;\" d=\"M 161.359375 311.5625 L 171.714844 311.5625 L 171.714844 309.300781 L 161.359375 309.300781 Z M 161.359375 311.5625 \"/>\n",
       "<path style=\"fill-rule:nonzero;fill:rgb(67.843137%,84.705882%,90.196078%);fill-opacity:1;stroke-width:0.75;stroke-linecap:round;stroke-linejoin:round;stroke:rgb(100%,100%,100%);stroke-opacity:1;stroke-miterlimit:10;\" d=\"M 161.359375 309.300781 L 177.90625 309.300781 L 177.90625 307.039062 L 161.359375 307.039062 Z M 161.359375 309.300781 \"/>\n",
       "<path style=\"fill-rule:nonzero;fill:rgb(93.333333%,50.980392%,93.333333%);fill-opacity:1;stroke-width:0.75;stroke-linecap:round;stroke-linejoin:round;stroke:rgb(100%,100%,100%);stroke-opacity:1;stroke-miterlimit:10;\" d=\"M 161.359375 307.035156 L 179.394531 307.035156 L 179.394531 304.773438 L 161.359375 304.773438 Z M 161.359375 307.035156 \"/>\n",
       "<path style=\"fill-rule:nonzero;fill:rgb(67.843137%,84.705882%,90.196078%);fill-opacity:1;stroke-width:0.75;stroke-linecap:round;stroke-linejoin:round;stroke:rgb(100%,100%,100%);stroke-opacity:1;stroke-miterlimit:10;\" d=\"M 161.359375 304.773438 L 179.433594 304.773438 L 179.433594 302.511719 L 161.359375 302.511719 Z M 161.359375 304.773438 \"/>\n",
       "<path style=\"fill-rule:nonzero;fill:rgb(93.333333%,50.980392%,93.333333%);fill-opacity:1;stroke-width:0.75;stroke-linecap:round;stroke-linejoin:round;stroke:rgb(100%,100%,100%);stroke-opacity:1;stroke-miterlimit:10;\" d=\"M 161.359375 302.511719 L 184.351562 302.511719 L 184.351562 300.25 L 161.359375 300.25 Z M 161.359375 302.511719 \"/>\n",
       "<path style=\"fill-rule:nonzero;fill:rgb(67.843137%,84.705882%,90.196078%);fill-opacity:1;stroke-width:0.75;stroke-linecap:round;stroke-linejoin:round;stroke:rgb(100%,100%,100%);stroke-opacity:1;stroke-miterlimit:10;\" d=\"M 161.359375 300.246094 L 188.320312 300.246094 L 188.320312 297.984375 L 161.359375 297.984375 Z M 161.359375 300.246094 \"/>\n",
       "<path style=\"fill-rule:nonzero;fill:rgb(93.333333%,50.980392%,93.333333%);fill-opacity:1;stroke-width:0.75;stroke-linecap:round;stroke-linejoin:round;stroke:rgb(100%,100%,100%);stroke-opacity:1;stroke-miterlimit:10;\" d=\"M 161.359375 297.984375 L 191.269531 297.984375 L 191.269531 295.722656 L 161.359375 295.722656 Z M 161.359375 297.984375 \"/>\n",
       "<path style=\"fill-rule:nonzero;fill:rgb(67.843137%,84.705882%,90.196078%);fill-opacity:1;stroke-width:0.75;stroke-linecap:round;stroke-linejoin:round;stroke:rgb(100%,100%,100%);stroke-opacity:1;stroke-miterlimit:10;\" d=\"M 161.359375 295.722656 L 195.507812 295.722656 L 195.507812 293.460938 L 161.359375 293.460938 Z M 161.359375 295.722656 \"/>\n",
       "<path style=\"fill-rule:nonzero;fill:rgb(93.333333%,50.980392%,93.333333%);fill-opacity:1;stroke-width:0.75;stroke-linecap:round;stroke-linejoin:round;stroke:rgb(100%,100%,100%);stroke-opacity:1;stroke-miterlimit:10;\" d=\"M 161.359375 293.457031 L 203.425781 293.457031 L 203.425781 291.195312 L 161.359375 291.195312 Z M 161.359375 293.457031 \"/>\n",
       "<path style=\"fill-rule:nonzero;fill:rgb(67.843137%,84.705882%,90.196078%);fill-opacity:1;stroke-width:0.75;stroke-linecap:round;stroke-linejoin:round;stroke:rgb(100%,100%,100%);stroke-opacity:1;stroke-miterlimit:10;\" d=\"M 161.359375 291.195312 L 204.171875 291.195312 L 204.171875 288.933594 L 161.359375 288.933594 Z M 161.359375 291.195312 \"/>\n",
       "<path style=\"fill-rule:nonzero;fill:rgb(93.333333%,50.980392%,93.333333%);fill-opacity:1;stroke-width:0.75;stroke-linecap:round;stroke-linejoin:round;stroke:rgb(100%,100%,100%);stroke-opacity:1;stroke-miterlimit:10;\" d=\"M 161.359375 288.929688 L 204.746094 288.929688 L 204.746094 286.667969 L 161.359375 286.667969 Z M 161.359375 288.929688 \"/>\n",
       "<path style=\"fill-rule:nonzero;fill:rgb(67.843137%,84.705882%,90.196078%);fill-opacity:1;stroke-width:0.75;stroke-linecap:round;stroke-linejoin:round;stroke:rgb(100%,100%,100%);stroke-opacity:1;stroke-miterlimit:10;\" d=\"M 161.359375 286.667969 L 207.824219 286.667969 L 207.824219 284.40625 L 161.359375 284.40625 Z M 161.359375 286.667969 \"/>\n",
       "<path style=\"fill-rule:nonzero;fill:rgb(93.333333%,50.980392%,93.333333%);fill-opacity:1;stroke-width:0.75;stroke-linecap:round;stroke-linejoin:round;stroke:rgb(100%,100%,100%);stroke-opacity:1;stroke-miterlimit:10;\" d=\"M 161.359375 284.40625 L 208.335938 284.40625 L 208.335938 282.144531 L 161.359375 282.144531 Z M 161.359375 284.40625 \"/>\n",
       "<path style=\"fill-rule:nonzero;fill:rgb(67.843137%,84.705882%,90.196078%);fill-opacity:1;stroke-width:0.75;stroke-linecap:round;stroke-linejoin:round;stroke:rgb(100%,100%,100%);stroke-opacity:1;stroke-miterlimit:10;\" d=\"M 161.359375 282.140625 L 209.832031 282.140625 L 209.832031 279.878906 L 161.359375 279.878906 Z M 161.359375 282.140625 \"/>\n",
       "<path style=\"fill-rule:nonzero;fill:rgb(93.333333%,50.980392%,93.333333%);fill-opacity:1;stroke-width:0.75;stroke-linecap:round;stroke-linejoin:round;stroke:rgb(100%,100%,100%);stroke-opacity:1;stroke-miterlimit:10;\" d=\"M 161.359375 279.878906 L 211.355469 279.878906 L 211.355469 277.617188 L 161.359375 277.617188 Z M 161.359375 279.878906 \"/>\n",
       "<path style=\"fill-rule:nonzero;fill:rgb(67.843137%,84.705882%,90.196078%);fill-opacity:1;stroke-width:0.75;stroke-linecap:round;stroke-linejoin:round;stroke:rgb(100%,100%,100%);stroke-opacity:1;stroke-miterlimit:10;\" d=\"M 161.359375 277.617188 L 212.199219 277.617188 L 212.199219 275.355469 L 161.359375 275.355469 Z M 161.359375 277.617188 \"/>\n",
       "<path style=\"fill-rule:nonzero;fill:rgb(93.333333%,50.980392%,93.333333%);fill-opacity:1;stroke-width:0.75;stroke-linecap:round;stroke-linejoin:round;stroke:rgb(100%,100%,100%);stroke-opacity:1;stroke-miterlimit:10;\" d=\"M 161.359375 275.351562 L 212.652344 275.351562 L 212.652344 273.089844 L 161.359375 273.089844 Z M 161.359375 275.351562 \"/>\n",
       "<path style=\"fill-rule:nonzero;fill:rgb(67.843137%,84.705882%,90.196078%);fill-opacity:1;stroke-width:0.75;stroke-linecap:round;stroke-linejoin:round;stroke:rgb(100%,100%,100%);stroke-opacity:1;stroke-miterlimit:10;\" d=\"M 161.359375 273.089844 L 212.972656 273.089844 L 212.972656 270.828125 L 161.359375 270.828125 Z M 161.359375 273.089844 \"/>\n",
       "<path style=\"fill-rule:nonzero;fill:rgb(93.333333%,50.980392%,93.333333%);fill-opacity:1;stroke-width:0.75;stroke-linecap:round;stroke-linejoin:round;stroke:rgb(100%,100%,100%);stroke-opacity:1;stroke-miterlimit:10;\" d=\"M 161.359375 270.828125 L 217.410156 270.828125 L 217.410156 268.566406 L 161.359375 268.566406 Z M 161.359375 270.828125 \"/>\n",
       "<path style=\"fill-rule:nonzero;fill:rgb(67.843137%,84.705882%,90.196078%);fill-opacity:1;stroke-width:0.75;stroke-linecap:round;stroke-linejoin:round;stroke:rgb(100%,100%,100%);stroke-opacity:1;stroke-miterlimit:10;\" d=\"M 161.359375 268.5625 L 218.394531 268.5625 L 218.394531 266.300781 L 161.359375 266.300781 Z M 161.359375 268.5625 \"/>\n",
       "<path style=\"fill-rule:nonzero;fill:rgb(93.333333%,50.980392%,93.333333%);fill-opacity:1;stroke-width:0.75;stroke-linecap:round;stroke-linejoin:round;stroke:rgb(100%,100%,100%);stroke-opacity:1;stroke-miterlimit:10;\" d=\"M 161.359375 266.300781 L 220.589844 266.300781 L 220.589844 264.039062 L 161.359375 264.039062 Z M 161.359375 266.300781 \"/>\n",
       "<path style=\"fill-rule:nonzero;fill:rgb(67.843137%,84.705882%,90.196078%);fill-opacity:1;stroke-width:0.75;stroke-linecap:round;stroke-linejoin:round;stroke:rgb(100%,100%,100%);stroke-opacity:1;stroke-miterlimit:10;\" d=\"M 161.359375 264.035156 L 226.863281 264.035156 L 226.863281 261.773438 L 161.359375 261.773438 Z M 161.359375 264.035156 \"/>\n",
       "<path style=\"fill-rule:nonzero;fill:rgb(93.333333%,50.980392%,93.333333%);fill-opacity:1;stroke-width:0.75;stroke-linecap:round;stroke-linejoin:round;stroke:rgb(100%,100%,100%);stroke-opacity:1;stroke-miterlimit:10;\" d=\"M 161.359375 261.773438 L 227.761719 261.773438 L 227.761719 259.511719 L 161.359375 259.511719 Z M 161.359375 261.773438 \"/>\n",
       "<path style=\"fill-rule:nonzero;fill:rgb(67.843137%,84.705882%,90.196078%);fill-opacity:1;stroke-width:0.75;stroke-linecap:round;stroke-linejoin:round;stroke:rgb(100%,100%,100%);stroke-opacity:1;stroke-miterlimit:10;\" d=\"M 161.359375 259.511719 L 231.199219 259.511719 L 231.199219 257.25 L 161.359375 257.25 Z M 161.359375 259.511719 \"/>\n",
       "<path style=\"fill-rule:nonzero;fill:rgb(93.333333%,50.980392%,93.333333%);fill-opacity:1;stroke-width:0.75;stroke-linecap:round;stroke-linejoin:round;stroke:rgb(100%,100%,100%);stroke-opacity:1;stroke-miterlimit:10;\" d=\"M 161.359375 257.246094 L 234.558594 257.246094 L 234.558594 254.984375 L 161.359375 254.984375 Z M 161.359375 257.246094 \"/>\n",
       "<path style=\"fill-rule:nonzero;fill:rgb(67.843137%,84.705882%,90.196078%);fill-opacity:1;stroke-width:0.75;stroke-linecap:round;stroke-linejoin:round;stroke:rgb(100%,100%,100%);stroke-opacity:1;stroke-miterlimit:10;\" d=\"M 161.359375 254.984375 L 235.421875 254.984375 L 235.421875 252.722656 L 161.359375 252.722656 Z M 161.359375 254.984375 \"/>\n",
       "<path style=\"fill-rule:nonzero;fill:rgb(93.333333%,50.980392%,93.333333%);fill-opacity:1;stroke-width:0.75;stroke-linecap:round;stroke-linejoin:round;stroke:rgb(100%,100%,100%);stroke-opacity:1;stroke-miterlimit:10;\" d=\"M 161.359375 252.722656 L 236.027344 252.722656 L 236.027344 250.460938 L 161.359375 250.460938 Z M 161.359375 252.722656 \"/>\n",
       "<path style=\"fill-rule:nonzero;fill:rgb(67.843137%,84.705882%,90.196078%);fill-opacity:1;stroke-width:0.75;stroke-linecap:round;stroke-linejoin:round;stroke:rgb(100%,100%,100%);stroke-opacity:1;stroke-miterlimit:10;\" d=\"M 161.359375 250.457031 L 237.8125 250.457031 L 237.8125 248.195312 L 161.359375 248.195312 Z M 161.359375 250.457031 \"/>\n",
       "<path style=\"fill-rule:nonzero;fill:rgb(93.333333%,50.980392%,93.333333%);fill-opacity:1;stroke-width:0.75;stroke-linecap:round;stroke-linejoin:round;stroke:rgb(100%,100%,100%);stroke-opacity:1;stroke-miterlimit:10;\" d=\"M 161.359375 248.195312 L 238.71875 248.195312 L 238.71875 245.933594 L 161.359375 245.933594 Z M 161.359375 248.195312 \"/>\n",
       "<path style=\"fill-rule:nonzero;fill:rgb(67.843137%,84.705882%,90.196078%);fill-opacity:1;stroke-width:0.75;stroke-linecap:round;stroke-linejoin:round;stroke:rgb(100%,100%,100%);stroke-opacity:1;stroke-miterlimit:10;\" d=\"M 161.359375 245.929688 L 239.820312 245.929688 L 239.820312 243.667969 L 161.359375 243.667969 Z M 161.359375 245.929688 \"/>\n",
       "<path style=\"fill-rule:nonzero;fill:rgb(93.333333%,50.980392%,93.333333%);fill-opacity:1;stroke-width:0.75;stroke-linecap:round;stroke-linejoin:round;stroke:rgb(100%,100%,100%);stroke-opacity:1;stroke-miterlimit:10;\" d=\"M 161.359375 243.667969 L 242.339844 243.667969 L 242.339844 241.40625 L 161.359375 241.40625 Z M 161.359375 243.667969 \"/>\n",
       "<path style=\"fill-rule:nonzero;fill:rgb(67.843137%,84.705882%,90.196078%);fill-opacity:1;stroke-width:0.75;stroke-linecap:round;stroke-linejoin:round;stroke:rgb(100%,100%,100%);stroke-opacity:1;stroke-miterlimit:10;\" d=\"M 161.359375 241.40625 L 245.4375 241.40625 L 245.4375 239.144531 L 161.359375 239.144531 Z M 161.359375 241.40625 \"/>\n",
       "<path style=\"fill-rule:nonzero;fill:rgb(93.333333%,50.980392%,93.333333%);fill-opacity:1;stroke-width:0.75;stroke-linecap:round;stroke-linejoin:round;stroke:rgb(100%,100%,100%);stroke-opacity:1;stroke-miterlimit:10;\" d=\"M 161.359375 239.140625 L 246.96875 239.140625 L 246.96875 236.878906 L 161.359375 236.878906 Z M 161.359375 239.140625 \"/>\n",
       "<path style=\"fill-rule:nonzero;fill:rgb(67.843137%,84.705882%,90.196078%);fill-opacity:1;stroke-width:0.75;stroke-linecap:round;stroke-linejoin:round;stroke:rgb(100%,100%,100%);stroke-opacity:1;stroke-miterlimit:10;\" d=\"M 161.359375 236.878906 L 248.378906 236.878906 L 248.378906 234.617188 L 161.359375 234.617188 Z M 161.359375 236.878906 \"/>\n",
       "<path style=\"fill-rule:nonzero;fill:rgb(93.333333%,50.980392%,93.333333%);fill-opacity:1;stroke-width:0.75;stroke-linecap:round;stroke-linejoin:round;stroke:rgb(100%,100%,100%);stroke-opacity:1;stroke-miterlimit:10;\" d=\"M 161.359375 234.617188 L 248.84375 234.617188 L 248.84375 232.355469 L 161.359375 232.355469 Z M 161.359375 234.617188 \"/>\n",
       "<path style=\"fill-rule:nonzero;fill:rgb(67.843137%,84.705882%,90.196078%);fill-opacity:1;stroke-width:0.75;stroke-linecap:round;stroke-linejoin:round;stroke:rgb(100%,100%,100%);stroke-opacity:1;stroke-miterlimit:10;\" d=\"M 161.359375 232.351562 L 251.527344 232.351562 L 251.527344 230.089844 L 161.359375 230.089844 Z M 161.359375 232.351562 \"/>\n",
       "<path style=\"fill-rule:nonzero;fill:rgb(93.333333%,50.980392%,93.333333%);fill-opacity:1;stroke-width:0.75;stroke-linecap:round;stroke-linejoin:round;stroke:rgb(100%,100%,100%);stroke-opacity:1;stroke-miterlimit:10;\" d=\"M 161.359375 230.089844 L 253.824219 230.089844 L 253.824219 227.828125 L 161.359375 227.828125 Z M 161.359375 230.089844 \"/>\n",
       "<path style=\"fill-rule:nonzero;fill:rgb(67.843137%,84.705882%,90.196078%);fill-opacity:1;stroke-width:0.75;stroke-linecap:round;stroke-linejoin:round;stroke:rgb(100%,100%,100%);stroke-opacity:1;stroke-miterlimit:10;\" d=\"M 161.359375 226.695312 L 59.042969 226.695312 L 59.042969 224.433594 L 161.359375 224.433594 Z M 161.359375 226.695312 \"/>\n",
       "<path style=\"fill-rule:nonzero;fill:rgb(93.333333%,50.980392%,93.333333%);fill-opacity:1;stroke-width:0.75;stroke-linecap:round;stroke-linejoin:round;stroke:rgb(100%,100%,100%);stroke-opacity:1;stroke-miterlimit:10;\" d=\"M 161.359375 224.429688 L 93.71875 224.429688 L 93.71875 222.167969 L 161.359375 222.167969 Z M 161.359375 224.429688 \"/>\n",
       "<path style=\"fill-rule:nonzero;fill:rgb(67.843137%,84.705882%,90.196078%);fill-opacity:1;stroke-width:0.75;stroke-linecap:round;stroke-linejoin:round;stroke:rgb(100%,100%,100%);stroke-opacity:1;stroke-miterlimit:10;\" d=\"M 161.359375 222.167969 L 108.703125 222.167969 L 108.703125 219.90625 L 161.359375 219.90625 Z M 161.359375 222.167969 \"/>\n",
       "<path style=\"fill-rule:nonzero;fill:rgb(93.333333%,50.980392%,93.333333%);fill-opacity:1;stroke-width:0.75;stroke-linecap:round;stroke-linejoin:round;stroke:rgb(100%,100%,100%);stroke-opacity:1;stroke-miterlimit:10;\" d=\"M 161.359375 219.90625 L 125.242188 219.90625 L 125.242188 217.644531 L 161.359375 217.644531 Z M 161.359375 219.90625 \"/>\n",
       "<path style=\"fill-rule:nonzero;fill:rgb(67.843137%,84.705882%,90.196078%);fill-opacity:1;stroke-width:0.75;stroke-linecap:round;stroke-linejoin:round;stroke:rgb(100%,100%,100%);stroke-opacity:1;stroke-miterlimit:10;\" d=\"M 161.359375 217.640625 L 138.542969 217.640625 L 138.542969 215.378906 L 161.359375 215.378906 Z M 161.359375 217.640625 \"/>\n",
       "<path style=\"fill-rule:nonzero;fill:rgb(93.333333%,50.980392%,93.333333%);fill-opacity:1;stroke-width:0.75;stroke-linecap:round;stroke-linejoin:round;stroke:rgb(100%,100%,100%);stroke-opacity:1;stroke-miterlimit:10;\" d=\"M 161.359375 215.378906 L 145.398438 215.378906 L 145.398438 213.117188 L 161.359375 213.117188 Z M 161.359375 215.378906 \"/>\n",
       "<path style=\"fill-rule:nonzero;fill:rgb(67.843137%,84.705882%,90.196078%);fill-opacity:1;stroke-width:0.75;stroke-linecap:round;stroke-linejoin:round;stroke:rgb(100%,100%,100%);stroke-opacity:1;stroke-miterlimit:10;\" d=\"M 161.359375 213.117188 L 158.234375 213.117188 L 158.234375 210.855469 L 161.359375 210.855469 Z M 161.359375 213.117188 \"/>\n",
       "<path style=\"fill-rule:nonzero;fill:rgb(93.333333%,50.980392%,93.333333%);fill-opacity:1;stroke-width:0.75;stroke-linecap:round;stroke-linejoin:round;stroke:rgb(100%,100%,100%);stroke-opacity:1;stroke-miterlimit:10;\" d=\"M 161.359375 210.851562 L 168.359375 210.851562 L 168.359375 208.589844 L 161.359375 208.589844 Z M 161.359375 210.851562 \"/>\n",
       "<path style=\"fill-rule:nonzero;fill:rgb(67.843137%,84.705882%,90.196078%);fill-opacity:1;stroke-width:0.75;stroke-linecap:round;stroke-linejoin:round;stroke:rgb(100%,100%,100%);stroke-opacity:1;stroke-miterlimit:10;\" d=\"M 161.359375 208.589844 L 169.628906 208.589844 L 169.628906 206.328125 L 161.359375 206.328125 Z M 161.359375 208.589844 \"/>\n",
       "<path style=\"fill-rule:nonzero;fill:rgb(93.333333%,50.980392%,93.333333%);fill-opacity:1;stroke-width:0.75;stroke-linecap:round;stroke-linejoin:round;stroke:rgb(100%,100%,100%);stroke-opacity:1;stroke-miterlimit:10;\" d=\"M 161.359375 206.328125 L 170.28125 206.328125 L 170.28125 204.066406 L 161.359375 204.066406 Z M 161.359375 206.328125 \"/>\n",
       "<path style=\"fill-rule:nonzero;fill:rgb(67.843137%,84.705882%,90.196078%);fill-opacity:1;stroke-width:0.75;stroke-linecap:round;stroke-linejoin:round;stroke:rgb(100%,100%,100%);stroke-opacity:1;stroke-miterlimit:10;\" d=\"M 161.359375 204.0625 L 177.910156 204.0625 L 177.910156 201.800781 L 161.359375 201.800781 Z M 161.359375 204.0625 \"/>\n",
       "<path style=\"fill-rule:nonzero;fill:rgb(93.333333%,50.980392%,93.333333%);fill-opacity:1;stroke-width:0.75;stroke-linecap:round;stroke-linejoin:round;stroke:rgb(100%,100%,100%);stroke-opacity:1;stroke-miterlimit:10;\" d=\"M 161.359375 201.800781 L 183.414062 201.800781 L 183.414062 199.539062 L 161.359375 199.539062 Z M 161.359375 201.800781 \"/>\n",
       "<path style=\"fill-rule:nonzero;fill:rgb(67.843137%,84.705882%,90.196078%);fill-opacity:1;stroke-width:0.75;stroke-linecap:round;stroke-linejoin:round;stroke:rgb(100%,100%,100%);stroke-opacity:1;stroke-miterlimit:10;\" d=\"M 161.359375 199.535156 L 200.421875 199.535156 L 200.421875 197.273438 L 161.359375 197.273438 Z M 161.359375 199.535156 \"/>\n",
       "<path style=\"fill-rule:nonzero;fill:rgb(93.333333%,50.980392%,93.333333%);fill-opacity:1;stroke-width:0.75;stroke-linecap:round;stroke-linejoin:round;stroke:rgb(100%,100%,100%);stroke-opacity:1;stroke-miterlimit:10;\" d=\"M 161.359375 197.273438 L 222.359375 197.273438 L 222.359375 195.011719 L 161.359375 195.011719 Z M 161.359375 197.273438 \"/>\n",
       "<path style=\"fill-rule:nonzero;fill:rgb(67.843137%,84.705882%,90.196078%);fill-opacity:1;stroke-width:0.75;stroke-linecap:round;stroke-linejoin:round;stroke:rgb(100%,100%,100%);stroke-opacity:1;stroke-miterlimit:10;\" d=\"M 161.359375 195.011719 L 232.367188 195.011719 L 232.367188 192.75 L 161.359375 192.75 Z M 161.359375 195.011719 \"/>\n",
       "<path style=\"fill-rule:nonzero;fill:rgb(93.333333%,50.980392%,93.333333%);fill-opacity:1;stroke-width:0.75;stroke-linecap:round;stroke-linejoin:round;stroke:rgb(100%,100%,100%);stroke-opacity:1;stroke-miterlimit:10;\" d=\"M 161.359375 192.746094 L 233.589844 192.746094 L 233.589844 190.484375 L 161.359375 190.484375 Z M 161.359375 192.746094 \"/>\n",
       "<path style=\"fill-rule:nonzero;fill:rgb(67.843137%,84.705882%,90.196078%);fill-opacity:1;stroke-width:0.75;stroke-linecap:round;stroke-linejoin:round;stroke:rgb(100%,100%,100%);stroke-opacity:1;stroke-miterlimit:10;\" d=\"M 161.359375 190.484375 L 243.53125 190.484375 L 243.53125 188.222656 L 161.359375 188.222656 Z M 161.359375 190.484375 \"/>\n",
       "<path style=\"fill-rule:nonzero;fill:rgb(93.333333%,50.980392%,93.333333%);fill-opacity:1;stroke-width:0.75;stroke-linecap:round;stroke-linejoin:round;stroke:rgb(100%,100%,100%);stroke-opacity:1;stroke-miterlimit:10;\" d=\"M 161.359375 188.222656 L 255.09375 188.222656 L 255.09375 185.960938 L 161.359375 185.960938 Z M 161.359375 188.222656 \"/>\n",
       "<path style=\"fill-rule:nonzero;fill:rgb(67.843137%,84.705882%,90.196078%);fill-opacity:1;stroke-width:0.75;stroke-linecap:round;stroke-linejoin:round;stroke:rgb(100%,100%,100%);stroke-opacity:1;stroke-miterlimit:10;\" d=\"M 161.359375 185.957031 L 262.855469 185.957031 L 262.855469 183.695312 L 161.359375 183.695312 Z M 161.359375 185.957031 \"/>\n",
       "<path style=\"fill-rule:nonzero;fill:rgb(93.333333%,50.980392%,93.333333%);fill-opacity:1;stroke-width:0.75;stroke-linecap:round;stroke-linejoin:round;stroke:rgb(100%,100%,100%);stroke-opacity:1;stroke-miterlimit:10;\" d=\"M 161.359375 183.695312 L 272.449219 183.695312 L 272.449219 181.433594 L 161.359375 181.433594 Z M 161.359375 183.695312 \"/>\n",
       "<path style=\"fill-rule:nonzero;fill:rgb(67.843137%,84.705882%,90.196078%);fill-opacity:1;stroke-width:0.75;stroke-linecap:round;stroke-linejoin:round;stroke:rgb(100%,100%,100%);stroke-opacity:1;stroke-miterlimit:10;\" d=\"M 161.359375 181.429688 L 284.148438 181.429688 L 284.148438 179.167969 L 161.359375 179.167969 Z M 161.359375 181.429688 \"/>\n",
       "<path style=\"fill-rule:nonzero;fill:rgb(93.333333%,50.980392%,93.333333%);fill-opacity:1;stroke-width:0.75;stroke-linecap:round;stroke-linejoin:round;stroke:rgb(100%,100%,100%);stroke-opacity:1;stroke-miterlimit:10;\" d=\"M 161.359375 179.167969 L 284.792969 179.167969 L 284.792969 176.90625 L 161.359375 176.90625 Z M 161.359375 179.167969 \"/>\n",
       "<path style=\"fill-rule:nonzero;fill:rgb(67.843137%,84.705882%,90.196078%);fill-opacity:1;stroke-width:0.75;stroke-linecap:round;stroke-linejoin:round;stroke:rgb(100%,100%,100%);stroke-opacity:1;stroke-miterlimit:10;\" d=\"M 161.359375 176.90625 L 285.097656 176.90625 L 285.097656 174.644531 L 161.359375 174.644531 Z M 161.359375 176.90625 \"/>\n",
       "<path style=\"fill-rule:nonzero;fill:rgb(93.333333%,50.980392%,93.333333%);fill-opacity:1;stroke-width:0.75;stroke-linecap:round;stroke-linejoin:round;stroke:rgb(100%,100%,100%);stroke-opacity:1;stroke-miterlimit:10;\" d=\"M 161.359375 174.640625 L 294.679688 174.640625 L 294.679688 172.378906 L 161.359375 172.378906 Z M 161.359375 174.640625 \"/>\n",
       "<path style=\"fill-rule:nonzero;fill:rgb(67.843137%,84.705882%,90.196078%);fill-opacity:1;stroke-width:0.75;stroke-linecap:round;stroke-linejoin:round;stroke:rgb(100%,100%,100%);stroke-opacity:1;stroke-miterlimit:10;\" d=\"M 161.359375 172.378906 L 317.660156 172.378906 L 317.660156 170.117188 L 161.359375 170.117188 Z M 161.359375 172.378906 \"/>\n",
       "<path style=\"fill-rule:nonzero;fill:rgb(93.333333%,50.980392%,93.333333%);fill-opacity:1;stroke-width:0.75;stroke-linecap:round;stroke-linejoin:round;stroke:rgb(100%,100%,100%);stroke-opacity:1;stroke-miterlimit:10;\" d=\"M 161.359375 170.117188 L 319.726562 170.117188 L 319.726562 167.855469 L 161.359375 167.855469 Z M 161.359375 170.117188 \"/>\n",
       "<path style=\"fill-rule:nonzero;fill:rgb(67.843137%,84.705882%,90.196078%);fill-opacity:1;stroke-width:0.75;stroke-linecap:round;stroke-linejoin:round;stroke:rgb(100%,100%,100%);stroke-opacity:1;stroke-miterlimit:10;\" d=\"M 161.359375 167.851562 L 321.589844 167.851562 L 321.589844 165.589844 L 161.359375 165.589844 Z M 161.359375 167.851562 \"/>\n",
       "<path style=\"fill-rule:nonzero;fill:rgb(93.333333%,50.980392%,93.333333%);fill-opacity:1;stroke-width:0.75;stroke-linecap:round;stroke-linejoin:round;stroke:rgb(100%,100%,100%);stroke-opacity:1;stroke-miterlimit:10;\" d=\"M 161.359375 165.589844 L 322.269531 165.589844 L 322.269531 163.328125 L 161.359375 163.328125 Z M 161.359375 165.589844 \"/>\n",
       "<path style=\"fill-rule:nonzero;fill:rgb(67.843137%,84.705882%,90.196078%);fill-opacity:1;stroke-width:0.75;stroke-linecap:round;stroke-linejoin:round;stroke:rgb(100%,100%,100%);stroke-opacity:1;stroke-miterlimit:10;\" d=\"M 161.359375 163.328125 L 328.835938 163.328125 L 328.835938 161.066406 L 161.359375 161.066406 Z M 161.359375 163.328125 \"/>\n",
       "<path style=\"fill-rule:nonzero;fill:rgb(93.333333%,50.980392%,93.333333%);fill-opacity:1;stroke-width:0.75;stroke-linecap:round;stroke-linejoin:round;stroke:rgb(100%,100%,100%);stroke-opacity:1;stroke-miterlimit:10;\" d=\"M 161.359375 161.0625 L 330.664062 161.0625 L 330.664062 158.800781 L 161.359375 158.800781 Z M 161.359375 161.0625 \"/>\n",
       "<path style=\"fill-rule:nonzero;fill:rgb(67.843137%,84.705882%,90.196078%);fill-opacity:1;stroke-width:0.75;stroke-linecap:round;stroke-linejoin:round;stroke:rgb(100%,100%,100%);stroke-opacity:1;stroke-miterlimit:10;\" d=\"M 161.359375 158.800781 L 335.824219 158.800781 L 335.824219 156.539062 L 161.359375 156.539062 Z M 161.359375 158.800781 \"/>\n",
       "<path style=\"fill-rule:nonzero;fill:rgb(93.333333%,50.980392%,93.333333%);fill-opacity:1;stroke-width:0.75;stroke-linecap:round;stroke-linejoin:round;stroke:rgb(100%,100%,100%);stroke-opacity:1;stroke-miterlimit:10;\" d=\"M 161.359375 156.535156 L 338.203125 156.535156 L 338.203125 154.273438 L 161.359375 154.273438 Z M 161.359375 156.535156 \"/>\n",
       "<path style=\"fill-rule:nonzero;fill:rgb(67.843137%,84.705882%,90.196078%);fill-opacity:1;stroke-width:0.75;stroke-linecap:round;stroke-linejoin:round;stroke:rgb(100%,100%,100%);stroke-opacity:1;stroke-miterlimit:10;\" d=\"M 161.359375 154.273438 L 338.640625 154.273438 L 338.640625 152.011719 L 161.359375 152.011719 Z M 161.359375 154.273438 \"/>\n",
       "<path style=\"fill-rule:nonzero;fill:rgb(93.333333%,50.980392%,93.333333%);fill-opacity:1;stroke-width:0.75;stroke-linecap:round;stroke-linejoin:round;stroke:rgb(100%,100%,100%);stroke-opacity:1;stroke-miterlimit:10;\" d=\"M 161.359375 152.011719 L 343.039062 152.011719 L 343.039062 149.75 L 161.359375 149.75 Z M 161.359375 152.011719 \"/>\n",
       "<path style=\"fill-rule:nonzero;fill:rgb(67.843137%,84.705882%,90.196078%);fill-opacity:1;stroke-width:0.75;stroke-linecap:round;stroke-linejoin:round;stroke:rgb(100%,100%,100%);stroke-opacity:1;stroke-miterlimit:10;\" d=\"M 161.359375 149.746094 L 345.121094 149.746094 L 345.121094 147.484375 L 161.359375 147.484375 Z M 161.359375 149.746094 \"/>\n",
       "<path style=\"fill-rule:nonzero;fill:rgb(93.333333%,50.980392%,93.333333%);fill-opacity:1;stroke-width:0.75;stroke-linecap:round;stroke-linejoin:round;stroke:rgb(100%,100%,100%);stroke-opacity:1;stroke-miterlimit:10;\" d=\"M 161.359375 147.484375 L 347.117188 147.484375 L 347.117188 145.222656 L 161.359375 145.222656 Z M 161.359375 147.484375 \"/>\n",
       "<path style=\"fill-rule:nonzero;fill:rgb(67.843137%,84.705882%,90.196078%);fill-opacity:1;stroke-width:0.75;stroke-linecap:round;stroke-linejoin:round;stroke:rgb(100%,100%,100%);stroke-opacity:1;stroke-miterlimit:10;\" d=\"M 161.359375 145.222656 L 348.09375 145.222656 L 348.09375 142.960938 L 161.359375 142.960938 Z M 161.359375 145.222656 \"/>\n",
       "<path style=\"fill-rule:nonzero;fill:rgb(93.333333%,50.980392%,93.333333%);fill-opacity:1;stroke-width:0.75;stroke-linecap:round;stroke-linejoin:round;stroke:rgb(100%,100%,100%);stroke-opacity:1;stroke-miterlimit:10;\" d=\"M 161.359375 142.957031 L 349.566406 142.957031 L 349.566406 140.695312 L 161.359375 140.695312 Z M 161.359375 142.957031 \"/>\n",
       "<path style=\"fill-rule:nonzero;fill:rgb(67.843137%,84.705882%,90.196078%);fill-opacity:1;stroke-width:0.75;stroke-linecap:round;stroke-linejoin:round;stroke:rgb(100%,100%,100%);stroke-opacity:1;stroke-miterlimit:10;\" d=\"M 161.359375 140.695312 L 351.328125 140.695312 L 351.328125 138.433594 L 161.359375 138.433594 Z M 161.359375 140.695312 \"/>\n",
       "<path style=\"fill-rule:nonzero;fill:rgb(93.333333%,50.980392%,93.333333%);fill-opacity:1;stroke-width:0.75;stroke-linecap:round;stroke-linejoin:round;stroke:rgb(100%,100%,100%);stroke-opacity:1;stroke-miterlimit:10;\" d=\"M 161.359375 138.429688 L 352.757812 138.429688 L 352.757812 136.167969 L 161.359375 136.167969 Z M 161.359375 138.429688 \"/>\n",
       "<path style=\"fill-rule:nonzero;fill:rgb(67.843137%,84.705882%,90.196078%);fill-opacity:1;stroke-width:0.75;stroke-linecap:round;stroke-linejoin:round;stroke:rgb(100%,100%,100%);stroke-opacity:1;stroke-miterlimit:10;\" d=\"M 161.359375 136.167969 L 352.789062 136.167969 L 352.789062 133.90625 L 161.359375 133.90625 Z M 161.359375 136.167969 \"/>\n",
       "<path style=\"fill-rule:nonzero;fill:rgb(93.333333%,50.980392%,93.333333%);fill-opacity:1;stroke-width:0.75;stroke-linecap:round;stroke-linejoin:round;stroke:rgb(100%,100%,100%);stroke-opacity:1;stroke-miterlimit:10;\" d=\"M 161.359375 133.90625 L 353.433594 133.90625 L 353.433594 131.644531 L 161.359375 131.644531 Z M 161.359375 133.90625 \"/>\n",
       "<path style=\"fill-rule:nonzero;fill:rgb(67.843137%,84.705882%,90.196078%);fill-opacity:1;stroke-width:0.75;stroke-linecap:round;stroke-linejoin:round;stroke:rgb(100%,100%,100%);stroke-opacity:1;stroke-miterlimit:10;\" d=\"M 161.359375 131.640625 L 353.488281 131.640625 L 353.488281 129.378906 L 161.359375 129.378906 Z M 161.359375 131.640625 \"/>\n",
       "<path style=\"fill-rule:nonzero;fill:rgb(93.333333%,50.980392%,93.333333%);fill-opacity:1;stroke-width:0.75;stroke-linecap:round;stroke-linejoin:round;stroke:rgb(100%,100%,100%);stroke-opacity:1;stroke-miterlimit:10;\" d=\"M 161.359375 129.378906 L 354.277344 129.378906 L 354.277344 127.117188 L 161.359375 127.117188 Z M 161.359375 129.378906 \"/>\n",
       "<path style=\"fill-rule:nonzero;fill:rgb(67.843137%,84.705882%,90.196078%);fill-opacity:1;stroke-width:0.75;stroke-linecap:round;stroke-linejoin:round;stroke:rgb(100%,100%,100%);stroke-opacity:1;stroke-miterlimit:10;\" d=\"M 161.359375 127.117188 L 354.882812 127.117188 L 354.882812 124.855469 L 161.359375 124.855469 Z M 161.359375 127.117188 \"/>\n",
       "<path style=\"fill-rule:nonzero;fill:rgb(93.333333%,50.980392%,93.333333%);fill-opacity:1;stroke-width:0.75;stroke-linecap:round;stroke-linejoin:round;stroke:rgb(100%,100%,100%);stroke-opacity:1;stroke-miterlimit:10;\" d=\"M 161.359375 124.851562 L 354.882812 124.851562 L 354.882812 122.589844 L 161.359375 122.589844 Z M 161.359375 124.851562 \"/>\n",
       "<path style=\"fill-rule:nonzero;fill:rgb(67.843137%,84.705882%,90.196078%);fill-opacity:1;stroke-width:0.75;stroke-linecap:round;stroke-linejoin:round;stroke:rgb(100%,100%,100%);stroke-opacity:1;stroke-miterlimit:10;\" d=\"M 161.359375 122.589844 L 355.050781 122.589844 L 355.050781 120.328125 L 161.359375 120.328125 Z M 161.359375 122.589844 \"/>\n",
       "<path style=\"fill-rule:nonzero;fill:rgb(93.333333%,50.980392%,93.333333%);fill-opacity:1;stroke-width:0.75;stroke-linecap:round;stroke-linejoin:round;stroke:rgb(100%,100%,100%);stroke-opacity:1;stroke-miterlimit:10;\" d=\"M 161.359375 120.328125 L 355.117188 120.328125 L 355.117188 118.066406 L 161.359375 118.066406 Z M 161.359375 120.328125 \"/>\n",
       "<path style=\"fill-rule:nonzero;fill:rgb(67.843137%,84.705882%,90.196078%);fill-opacity:1;stroke-width:0.75;stroke-linecap:round;stroke-linejoin:round;stroke:rgb(100%,100%,100%);stroke-opacity:1;stroke-miterlimit:10;\" d=\"M 161.359375 118.0625 L 355.839844 118.0625 L 355.839844 115.800781 L 161.359375 115.800781 Z M 161.359375 118.0625 \"/>\n",
       "<path style=\"fill-rule:nonzero;fill:rgb(93.333333%,50.980392%,93.333333%);fill-opacity:1;stroke-width:0.75;stroke-linecap:round;stroke-linejoin:round;stroke:rgb(100%,100%,100%);stroke-opacity:1;stroke-miterlimit:10;\" d=\"M 161.359375 115.800781 L 356.511719 115.800781 L 356.511719 113.539062 L 161.359375 113.539062 Z M 161.359375 115.800781 \"/>\n",
       "<path style=\"fill-rule:nonzero;fill:rgb(67.843137%,84.705882%,90.196078%);fill-opacity:1;stroke-width:0.75;stroke-linecap:round;stroke-linejoin:round;stroke:rgb(100%,100%,100%);stroke-opacity:1;stroke-miterlimit:10;\" d=\"M 161.359375 113.535156 L 357.101562 113.535156 L 357.101562 111.273438 L 161.359375 111.273438 Z M 161.359375 113.535156 \"/>\n",
       "<path style=\"fill-rule:nonzero;fill:rgb(93.333333%,50.980392%,93.333333%);fill-opacity:1;stroke-width:0.75;stroke-linecap:round;stroke-linejoin:round;stroke:rgb(100%,100%,100%);stroke-opacity:1;stroke-miterlimit:10;\" d=\"M 161.359375 111.273438 L 357.5 111.273438 L 357.5 109.011719 L 161.359375 109.011719 Z M 161.359375 111.273438 \"/>\n",
       "<path style=\"fill-rule:nonzero;fill:rgb(67.843137%,84.705882%,90.196078%);fill-opacity:1;stroke-width:0.75;stroke-linecap:round;stroke-linejoin:round;stroke:rgb(100%,100%,100%);stroke-opacity:1;stroke-miterlimit:10;\" d=\"M 161.359375 109.011719 L 358.226562 109.011719 L 358.226562 106.75 L 161.359375 106.75 Z M 161.359375 109.011719 \"/>\n",
       "<path style=\"fill-rule:nonzero;fill:rgb(93.333333%,50.980392%,93.333333%);fill-opacity:1;stroke-width:0.75;stroke-linecap:round;stroke-linejoin:round;stroke:rgb(100%,100%,100%);stroke-opacity:1;stroke-miterlimit:10;\" d=\"M 161.359375 106.746094 L 358.511719 106.746094 L 358.511719 104.484375 L 161.359375 104.484375 Z M 161.359375 106.746094 \"/>\n",
       "<path style=\"fill-rule:nonzero;fill:rgb(67.843137%,84.705882%,90.196078%);fill-opacity:1;stroke-width:0.75;stroke-linecap:round;stroke-linejoin:round;stroke:rgb(100%,100%,100%);stroke-opacity:1;stroke-miterlimit:10;\" d=\"M 161.359375 104.484375 L 358.625 104.484375 L 358.625 102.222656 L 161.359375 102.222656 Z M 161.359375 104.484375 \"/>\n",
       "<path style=\"fill-rule:nonzero;fill:rgb(93.333333%,50.980392%,93.333333%);fill-opacity:1;stroke-width:0.75;stroke-linecap:round;stroke-linejoin:round;stroke:rgb(100%,100%,100%);stroke-opacity:1;stroke-miterlimit:10;\" d=\"M 161.359375 102.222656 L 358.628906 102.222656 L 358.628906 99.960938 L 161.359375 99.960938 Z M 161.359375 102.222656 \"/>\n",
       "<path style=\"fill-rule:nonzero;fill:rgb(67.843137%,84.705882%,90.196078%);fill-opacity:1;stroke-width:0.75;stroke-linecap:round;stroke-linejoin:round;stroke:rgb(100%,100%,100%);stroke-opacity:1;stroke-miterlimit:10;\" d=\"M 161.359375 99.957031 L 358.988281 99.957031 L 358.988281 97.695312 L 161.359375 97.695312 Z M 161.359375 99.957031 \"/>\n",
       "<path style=\"fill-rule:nonzero;fill:rgb(93.333333%,50.980392%,93.333333%);fill-opacity:1;stroke-width:0.75;stroke-linecap:round;stroke-linejoin:round;stroke:rgb(100%,100%,100%);stroke-opacity:1;stroke-miterlimit:10;\" d=\"M 161.359375 97.695312 L 360.640625 97.695312 L 360.640625 95.433594 L 161.359375 95.433594 Z M 161.359375 97.695312 \"/>\n",
       "<path style=\"fill-rule:nonzero;fill:rgb(67.843137%,84.705882%,90.196078%);fill-opacity:1;stroke-width:0.75;stroke-linecap:round;stroke-linejoin:round;stroke:rgb(100%,100%,100%);stroke-opacity:1;stroke-miterlimit:10;\" d=\"M 161.359375 95.429688 L 361.230469 95.429688 L 361.230469 93.167969 L 161.359375 93.167969 Z M 161.359375 95.429688 \"/>\n",
       "<path style=\"fill-rule:nonzero;fill:rgb(93.333333%,50.980392%,93.333333%);fill-opacity:1;stroke-width:0.75;stroke-linecap:round;stroke-linejoin:round;stroke:rgb(100%,100%,100%);stroke-opacity:1;stroke-miterlimit:10;\" d=\"M 161.359375 93.167969 L 361.457031 93.167969 L 361.457031 90.90625 L 161.359375 90.90625 Z M 161.359375 93.167969 \"/>\n",
       "<path style=\"fill-rule:nonzero;fill:rgb(67.843137%,84.705882%,90.196078%);fill-opacity:1;stroke-width:0.75;stroke-linecap:round;stroke-linejoin:round;stroke:rgb(100%,100%,100%);stroke-opacity:1;stroke-miterlimit:10;\" d=\"M 161.359375 90.90625 L 361.5625 90.90625 L 361.5625 88.644531 L 161.359375 88.644531 Z M 161.359375 90.90625 \"/>\n",
       "<path style=\"fill-rule:nonzero;fill:rgb(93.333333%,50.980392%,93.333333%);fill-opacity:1;stroke-width:0.75;stroke-linecap:round;stroke-linejoin:round;stroke:rgb(100%,100%,100%);stroke-opacity:1;stroke-miterlimit:10;\" d=\"M 161.359375 88.640625 L 361.574219 88.640625 L 361.574219 86.378906 L 161.359375 86.378906 Z M 161.359375 88.640625 \"/>\n",
       "<path style=\"fill-rule:nonzero;fill:rgb(67.843137%,84.705882%,90.196078%);fill-opacity:1;stroke-width:0.75;stroke-linecap:round;stroke-linejoin:round;stroke:rgb(100%,100%,100%);stroke-opacity:1;stroke-miterlimit:10;\" d=\"M 161.359375 86.378906 L 361.835938 86.378906 L 361.835938 84.117188 L 161.359375 84.117188 Z M 161.359375 86.378906 \"/>\n",
       "<path style=\"fill-rule:nonzero;fill:rgb(93.333333%,50.980392%,93.333333%);fill-opacity:1;stroke-width:0.75;stroke-linecap:round;stroke-linejoin:round;stroke:rgb(100%,100%,100%);stroke-opacity:1;stroke-miterlimit:10;\" d=\"M 161.359375 84.117188 L 362.957031 84.117188 L 362.957031 81.855469 L 161.359375 81.855469 Z M 161.359375 84.117188 \"/>\n",
       "<path style=\"fill-rule:nonzero;fill:rgb(67.843137%,84.705882%,90.196078%);fill-opacity:1;stroke-width:0.75;stroke-linecap:round;stroke-linejoin:round;stroke:rgb(100%,100%,100%);stroke-opacity:1;stroke-miterlimit:10;\" d=\"M 161.359375 81.851562 L 363.460938 81.851562 L 363.460938 79.589844 L 161.359375 79.589844 Z M 161.359375 81.851562 \"/>\n",
       "<path style=\"fill-rule:nonzero;fill:rgb(93.333333%,50.980392%,93.333333%);fill-opacity:1;stroke-width:0.75;stroke-linecap:round;stroke-linejoin:round;stroke:rgb(100%,100%,100%);stroke-opacity:1;stroke-miterlimit:10;\" d=\"M 161.359375 79.589844 L 363.726562 79.589844 L 363.726562 77.328125 L 161.359375 77.328125 Z M 161.359375 79.589844 \"/>\n",
       "<path style=\"fill-rule:nonzero;fill:rgb(67.843137%,84.705882%,90.196078%);fill-opacity:1;stroke-width:0.75;stroke-linecap:round;stroke-linejoin:round;stroke:rgb(100%,100%,100%);stroke-opacity:1;stroke-miterlimit:10;\" d=\"M 161.359375 77.328125 L 363.875 77.328125 L 363.875 75.066406 L 161.359375 75.066406 Z M 161.359375 77.328125 \"/>\n",
       "<path style=\"fill-rule:nonzero;fill:rgb(93.333333%,50.980392%,93.333333%);fill-opacity:1;stroke-width:0.75;stroke-linecap:round;stroke-linejoin:round;stroke:rgb(100%,100%,100%);stroke-opacity:1;stroke-miterlimit:10;\" d=\"M 161.359375 75.0625 L 364.898438 75.0625 L 364.898438 72.800781 L 161.359375 72.800781 Z M 161.359375 75.0625 \"/>\n",
       "<g style=\"fill:rgb(0%,0%,0%);fill-opacity:1;\">\n",
       "  <use xlink:href=\"#glyph0-1\" x=\"218.398438\" y=\"475.405273\"/>\n",
       "  <use xlink:href=\"#glyph0-2\" x=\"226.402344\" y=\"475.405273\"/>\n",
       "  <use xlink:href=\"#glyph0-3\" x=\"229.066406\" y=\"475.405273\"/>\n",
       "  <use xlink:href=\"#glyph0-4\" x=\"231.730469\" y=\"475.405273\"/>\n",
       "  <use xlink:href=\"#glyph0-5\" x=\"238.402344\" y=\"475.405273\"/>\n",
       "  <use xlink:href=\"#glyph0-6\" x=\"245.074219\" y=\"475.405273\"/>\n",
       "  <use xlink:href=\"#glyph0-7\" x=\"251.746094\" y=\"475.405273\"/>\n",
       "  <use xlink:href=\"#glyph0-8\" x=\"258.298828\" y=\"475.405273\"/>\n",
       "  <use xlink:href=\"#glyph0-8\" x=\"261.634766\" y=\"475.405273\"/>\n",
       "  <use xlink:href=\"#glyph0-7\" x=\"264.791016\" y=\"475.405273\"/>\n",
       "  <use xlink:href=\"#glyph0-9\" x=\"271.462891\" y=\"475.405273\"/>\n",
       "  <use xlink:href=\"#glyph0-10\" x=\"274.798828\" y=\"475.405273\"/>\n",
       "  <use xlink:href=\"#glyph0-2\" x=\"283.462891\" y=\"475.405273\"/>\n",
       "  <use xlink:href=\"#glyph0-11\" x=\"286.126953\" y=\"475.405273\"/>\n",
       "  <use xlink:href=\"#glyph0-8\" x=\"292.798828\" y=\"475.405273\"/>\n",
       "  <use xlink:href=\"#glyph0-4\" x=\"296.075195\" y=\"475.405273\"/>\n",
       "  <use xlink:href=\"#glyph0-9\" x=\"302.74707\" y=\"475.405273\"/>\n",
       "</g>\n",
       "<g style=\"fill:rgb(0%,0%,0%);fill-opacity:1;\">\n",
       "  <use xlink:href=\"#glyph0-12\" x=\"306.398438\" y=\"475.405273\"/>\n",
       "</g>\n",
       "<g style=\"fill:rgb(0%,0%,0%);fill-opacity:1;\">\n",
       "  <use xlink:href=\"#glyph1-1\" x=\"312.398438\" y=\"477.720703\"/>\n",
       "</g>\n",
       "<path style=\"fill:none;stroke-width:0.75;stroke-linecap:round;stroke-linejoin:round;stroke:rgb(0%,0%,0%);stroke-opacity:1;stroke-miterlimit:10;\" d=\"M 98.878906 430.558594 L 473.761719 430.558594 \"/>\n",
       "<path style=\"fill:none;stroke-width:0.75;stroke-linecap:round;stroke-linejoin:round;stroke:rgb(0%,0%,0%);stroke-opacity:1;stroke-miterlimit:10;\" d=\"M 98.878906 430.558594 L 98.878906 437.761719 \"/>\n",
       "<path style=\"fill:none;stroke-width:0.75;stroke-linecap:round;stroke-linejoin:round;stroke:rgb(0%,0%,0%);stroke-opacity:1;stroke-miterlimit:10;\" d=\"M 161.359375 430.558594 L 161.359375 437.761719 \"/>\n",
       "<path style=\"fill:none;stroke-width:0.75;stroke-linecap:round;stroke-linejoin:round;stroke:rgb(0%,0%,0%);stroke-opacity:1;stroke-miterlimit:10;\" d=\"M 223.839844 430.558594 L 223.839844 437.761719 \"/>\n",
       "<path style=\"fill:none;stroke-width:0.75;stroke-linecap:round;stroke-linejoin:round;stroke:rgb(0%,0%,0%);stroke-opacity:1;stroke-miterlimit:10;\" d=\"M 286.320312 430.558594 L 286.320312 437.761719 \"/>\n",
       "<path style=\"fill:none;stroke-width:0.75;stroke-linecap:round;stroke-linejoin:round;stroke:rgb(0%,0%,0%);stroke-opacity:1;stroke-miterlimit:10;\" d=\"M 348.800781 430.558594 L 348.800781 437.761719 \"/>\n",
       "<path style=\"fill:none;stroke-width:0.75;stroke-linecap:round;stroke-linejoin:round;stroke:rgb(0%,0%,0%);stroke-opacity:1;stroke-miterlimit:10;\" d=\"M 411.28125 430.558594 L 411.28125 437.761719 \"/>\n",
       "<path style=\"fill:none;stroke-width:0.75;stroke-linecap:round;stroke-linejoin:round;stroke:rgb(0%,0%,0%);stroke-opacity:1;stroke-miterlimit:10;\" d=\"M 473.761719 430.558594 L 473.761719 437.761719 \"/>\n",
       "<g style=\"fill:rgb(0%,0%,0%);fill-opacity:1;\">\n",
       "  <use xlink:href=\"#glyph0-13\" x=\"88.378906\" y=\"456.256836\"/>\n",
       "  <use xlink:href=\"#glyph0-14\" x=\"92.375\" y=\"456.256836\"/>\n",
       "  <use xlink:href=\"#glyph0-15\" x=\"99.046875\" y=\"456.256836\"/>\n",
       "  <use xlink:href=\"#glyph0-16\" x=\"102.382812\" y=\"456.256836\"/>\n",
       "</g>\n",
       "<g style=\"fill:rgb(0%,0%,0%);fill-opacity:1;\">\n",
       "  <use xlink:href=\"#glyph0-14\" x=\"152.859375\" y=\"456.256836\"/>\n",
       "  <use xlink:href=\"#glyph0-15\" x=\"159.53125\" y=\"456.256836\"/>\n",
       "  <use xlink:href=\"#glyph0-14\" x=\"162.867188\" y=\"456.256836\"/>\n",
       "</g>\n",
       "<g style=\"fill:rgb(0%,0%,0%);fill-opacity:1;\">\n",
       "  <use xlink:href=\"#glyph0-14\" x=\"215.339844\" y=\"456.256836\"/>\n",
       "  <use xlink:href=\"#glyph0-15\" x=\"222.011719\" y=\"456.256836\"/>\n",
       "  <use xlink:href=\"#glyph0-16\" x=\"225.347656\" y=\"456.256836\"/>\n",
       "</g>\n",
       "<g style=\"fill:rgb(0%,0%,0%);fill-opacity:1;\">\n",
       "  <use xlink:href=\"#glyph0-14\" x=\"277.820312\" y=\"456.256836\"/>\n",
       "  <use xlink:href=\"#glyph0-15\" x=\"284.492188\" y=\"456.256836\"/>\n",
       "  <use xlink:href=\"#glyph0-17\" x=\"287.828125\" y=\"456.256836\"/>\n",
       "</g>\n",
       "<g style=\"fill:rgb(0%,0%,0%);fill-opacity:1;\">\n",
       "  <use xlink:href=\"#glyph0-14\" x=\"340.300781\" y=\"456.256836\"/>\n",
       "  <use xlink:href=\"#glyph0-15\" x=\"346.972656\" y=\"456.256836\"/>\n",
       "  <use xlink:href=\"#glyph0-18\" x=\"350.308594\" y=\"456.256836\"/>\n",
       "</g>\n",
       "<g style=\"fill:rgb(0%,0%,0%);fill-opacity:1;\">\n",
       "  <use xlink:href=\"#glyph0-14\" x=\"402.78125\" y=\"456.256836\"/>\n",
       "  <use xlink:href=\"#glyph0-15\" x=\"409.453125\" y=\"456.256836\"/>\n",
       "  <use xlink:href=\"#glyph0-19\" x=\"412.789062\" y=\"456.256836\"/>\n",
       "</g>\n",
       "<g style=\"fill:rgb(0%,0%,0%);fill-opacity:1;\">\n",
       "  <use xlink:href=\"#glyph0-20\" x=\"465.261719\" y=\"456.256836\"/>\n",
       "  <use xlink:href=\"#glyph0-15\" x=\"471.933594\" y=\"456.256836\"/>\n",
       "  <use xlink:href=\"#glyph0-14\" x=\"475.269531\" y=\"456.256836\"/>\n",
       "</g>\n",
       "<g style=\"fill:rgb(0%,0%,0%);fill-opacity:1;\">\n",
       "  <use xlink:href=\"#glyph2-1\" x=\"59.039062\" y=\"25.578125\"/>\n",
       "  <use xlink:href=\"#glyph2-2\" x=\"68.648438\" y=\"25.578125\"/>\n",
       "  <use xlink:href=\"#glyph2-3\" x=\"72.65332\" y=\"25.578125\"/>\n",
       "  <use xlink:href=\"#glyph2-4\" x=\"76.658203\" y=\"25.578125\"/>\n",
       "  <use xlink:href=\"#glyph2-5\" x=\"85.459961\" y=\"25.578125\"/>\n",
       "  <use xlink:href=\"#glyph2-6\" x=\"94.261719\" y=\"25.578125\"/>\n",
       "  <use xlink:href=\"#glyph2-7\" x=\"103.063477\" y=\"25.578125\"/>\n",
       "  <use xlink:href=\"#glyph2-8\" x=\"111.001953\" y=\"25.578125\"/>\n",
       "  <use xlink:href=\"#glyph2-8\" x=\"115.798828\" y=\"25.578125\"/>\n",
       "  <use xlink:href=\"#glyph2-7\" x=\"120.524414\" y=\"25.578125\"/>\n",
       "  <use xlink:href=\"#glyph2-9\" x=\"128.53418\" y=\"25.578125\"/>\n",
       "  <use xlink:href=\"#glyph2-10\" x=\"132.539062\" y=\"25.578125\"/>\n",
       "  <use xlink:href=\"#glyph2-3\" x=\"141.34082\" y=\"25.578125\"/>\n",
       "  <use xlink:href=\"#glyph2-5\" x=\"145.345703\" y=\"25.578125\"/>\n",
       "  <use xlink:href=\"#glyph2-8\" x=\"154.003906\" y=\"25.578125\"/>\n",
       "  <use xlink:href=\"#glyph2-9\" x=\"158.800781\" y=\"25.578125\"/>\n",
       "  <use xlink:href=\"#glyph2-11\" x=\"162.805664\" y=\"25.578125\"/>\n",
       "  <use xlink:href=\"#glyph2-5\" x=\"167.458984\" y=\"25.578125\"/>\n",
       "  <use xlink:href=\"#glyph2-12\" x=\"176.260742\" y=\"25.578125\"/>\n",
       "  <use xlink:href=\"#glyph2-9\" x=\"181.865234\" y=\"25.578125\"/>\n",
       "  <use xlink:href=\"#glyph2-13\" x=\"185.870117\" y=\"25.578125\"/>\n",
       "  <use xlink:href=\"#glyph2-14\" x=\"193.879883\" y=\"25.578125\"/>\n",
       "  <use xlink:href=\"#glyph2-9\" x=\"202.292969\" y=\"25.578125\"/>\n",
       "  <use xlink:href=\"#glyph2-15\" x=\"206.297852\" y=\"25.578125\"/>\n",
       "  <use xlink:href=\"#glyph2-9\" x=\"214.307617\" y=\"25.578125\"/>\n",
       "  <use xlink:href=\"#glyph2-16\" x=\"218.3125\" y=\"25.578125\"/>\n",
       "  <use xlink:href=\"#glyph2-3\" x=\"226.322266\" y=\"25.578125\"/>\n",
       "  <use xlink:href=\"#glyph2-6\" x=\"230.327148\" y=\"25.578125\"/>\n",
       "  <use xlink:href=\"#glyph2-17\" x=\"239.128906\" y=\"25.578125\"/>\n",
       "  <use xlink:href=\"#glyph2-8\" x=\"247.138672\" y=\"25.578125\"/>\n",
       "  <use xlink:href=\"#glyph2-7\" x=\"251.864258\" y=\"25.578125\"/>\n",
       "  <use xlink:href=\"#glyph2-12\" x=\"259.874023\" y=\"25.578125\"/>\n",
       "  <use xlink:href=\"#glyph2-17\" x=\"265.549805\" y=\"25.578125\"/>\n",
       "</g>\n",
       "<g style=\"fill:rgb(0%,0%,0%);fill-opacity:1;\">\n",
       "  <use xlink:href=\"#glyph2-9\" x=\"59.039062\" y=\"42.859375\"/>\n",
       "  <use xlink:href=\"#glyph2-18\" x=\"63.043945\" y=\"42.859375\"/>\n",
       "  <use xlink:href=\"#glyph2-19\" x=\"71.845703\" y=\"42.859375\"/>\n",
       "  <use xlink:href=\"#glyph2-17\" x=\"79.855469\" y=\"42.859375\"/>\n",
       "  <use xlink:href=\"#glyph2-7\" x=\"87.865234\" y=\"42.859375\"/>\n",
       "  <use xlink:href=\"#glyph2-20\" x=\"95.875\" y=\"42.859375\"/>\n",
       "  <use xlink:href=\"#glyph2-9\" x=\"104.676758\" y=\"42.859375\"/>\n",
       "  <use xlink:href=\"#glyph2-5\" x=\"108.681641\" y=\"42.859375\"/>\n",
       "  <use xlink:href=\"#glyph2-21\" x=\"117.483398\" y=\"42.859375\"/>\n",
       "  <use xlink:href=\"#glyph2-9\" x=\"126.285156\" y=\"42.859375\"/>\n",
       "  <use xlink:href=\"#glyph2-22\" x=\"130.290039\" y=\"42.859375\"/>\n",
       "  <use xlink:href=\"#glyph2-23\" x=\"138.299805\" y=\"42.859375\"/>\n",
       "  <use xlink:href=\"#glyph2-9\" x=\"146.30957\" y=\"42.859375\"/>\n",
       "  <use xlink:href=\"#glyph2-8\" x=\"150.314453\" y=\"42.859375\"/>\n",
       "  <use xlink:href=\"#glyph2-5\" x=\"154.967773\" y=\"42.859375\"/>\n",
       "  <use xlink:href=\"#glyph2-10\" x=\"163.769531\" y=\"42.859375\"/>\n",
       "  <use xlink:href=\"#glyph2-9\" x=\"172.571289\" y=\"42.859375\"/>\n",
       "  <use xlink:href=\"#glyph2-24\" x=\"176.576172\" y=\"42.859375\"/>\n",
       "  <use xlink:href=\"#glyph2-7\" x=\"185.521484\" y=\"42.859375\"/>\n",
       "  <use xlink:href=\"#glyph2-21\" x=\"193.53125\" y=\"42.859375\"/>\n",
       "  <use xlink:href=\"#glyph2-7\" x=\"202.333008\" y=\"42.859375\"/>\n",
       "  <use xlink:href=\"#glyph2-17\" x=\"210.342773\" y=\"42.859375\"/>\n",
       "</g>\n",
       "<g style=\"fill:rgb(0%,0%,0%);fill-opacity:1;\">\n",
       "  <use xlink:href=\"#glyph0-21\" x=\"59.039062\" y=\"499.456055\"/>\n",
       "  <use xlink:href=\"#glyph0-22\" x=\"66.683594\" y=\"499.456055\"/>\n",
       "  <use xlink:href=\"#glyph0-7\" x=\"72.444336\" y=\"499.456055\"/>\n",
       "  <use xlink:href=\"#glyph0-23\" x=\"79.116211\" y=\"499.456055\"/>\n",
       "  <use xlink:href=\"#glyph0-24\" x=\"83.052734\" y=\"499.456055\"/>\n",
       "  <use xlink:href=\"#glyph0-25\" x=\"89.724609\" y=\"499.456055\"/>\n",
       "  <use xlink:href=\"#glyph0-7\" x=\"96.396484\" y=\"499.456055\"/>\n",
       "  <use xlink:href=\"#glyph0-9\" x=\"103.068359\" y=\"499.456055\"/>\n",
       "  <use xlink:href=\"#glyph0-12\" x=\"106.404297\" y=\"499.456055\"/>\n",
       "  <use xlink:href=\"#glyph0-2\" x=\"112.404297\" y=\"499.456055\"/>\n",
       "  <use xlink:href=\"#glyph0-3\" x=\"115.068359\" y=\"499.456055\"/>\n",
       "  <use xlink:href=\"#glyph0-4\" x=\"117.732422\" y=\"499.456055\"/>\n",
       "  <use xlink:href=\"#glyph0-5\" x=\"124.404297\" y=\"499.456055\"/>\n",
       "  <use xlink:href=\"#glyph0-6\" x=\"131.076172\" y=\"499.456055\"/>\n",
       "  <use xlink:href=\"#glyph0-7\" x=\"137.748047\" y=\"499.456055\"/>\n",
       "  <use xlink:href=\"#glyph0-8\" x=\"144.300781\" y=\"499.456055\"/>\n",
       "  <use xlink:href=\"#glyph0-8\" x=\"147.636719\" y=\"499.456055\"/>\n",
       "  <use xlink:href=\"#glyph0-7\" x=\"150.792969\" y=\"499.456055\"/>\n",
       "  <use xlink:href=\"#glyph0-9\" x=\"157.464844\" y=\"499.456055\"/>\n",
       "  <use xlink:href=\"#glyph0-10\" x=\"160.800781\" y=\"499.456055\"/>\n",
       "  <use xlink:href=\"#glyph0-2\" x=\"169.464844\" y=\"499.456055\"/>\n",
       "  <use xlink:href=\"#glyph0-11\" x=\"172.128906\" y=\"499.456055\"/>\n",
       "  <use xlink:href=\"#glyph0-8\" x=\"178.800781\" y=\"499.456055\"/>\n",
       "  <use xlink:href=\"#glyph0-4\" x=\"182.077148\" y=\"499.456055\"/>\n",
       "  <use xlink:href=\"#glyph0-9\" x=\"188.749023\" y=\"499.456055\"/>\n",
       "  <use xlink:href=\"#glyph0-26\" x=\"192.084961\" y=\"499.456055\"/>\n",
       "  <use xlink:href=\"#glyph0-9\" x=\"195.420898\" y=\"499.456055\"/>\n",
       "  <use xlink:href=\"#glyph0-9\" x=\"198.756836\" y=\"499.456055\"/>\n",
       "  <use xlink:href=\"#glyph0-14\" x=\"202.092773\" y=\"499.456055\"/>\n",
       "  <use xlink:href=\"#glyph0-15\" x=\"208.764648\" y=\"499.456055\"/>\n",
       "  <use xlink:href=\"#glyph0-27\" x=\"212.100586\" y=\"499.456055\"/>\n",
       "</g>\n",
       "<g style=\"fill:rgb(0%,0%,0%);fill-opacity:1;\">\n",
       "  <use xlink:href=\"#glyph0-28\" x=\"59.039062\" y=\"55.936523\"/>\n",
       "  <use xlink:href=\"#glyph0-9\" x=\"65.710938\" y=\"55.936523\"/>\n",
       "  <use xlink:href=\"#glyph0-29\" x=\"69.046875\" y=\"55.936523\"/>\n",
       "  <use xlink:href=\"#glyph0-9\" x=\"76.054688\" y=\"55.936523\"/>\n",
       "  <use xlink:href=\"#glyph0-20\" x=\"79.390625\" y=\"55.936523\"/>\n",
       "  <use xlink:href=\"#glyph0-30\" x=\"86.0625\" y=\"55.936523\"/>\n",
       "  <use xlink:href=\"#glyph0-20\" x=\"92.734375\" y=\"55.936523\"/>\n",
       "</g>\n",
       "<g style=\"fill:rgb(0%,0%,0%);fill-opacity:1;\">\n",
       "  <use xlink:href=\"#glyph0-27\" x=\"401.761719\" y=\"51.487305\"/>\n",
       "</g>\n",
       "<g style=\"fill:rgb(0%,0%,0%);fill-opacity:1;\">\n",
       "  <use xlink:href=\"#glyph3-1\" x=\"408.761719\" y=\"50.831055\"/>\n",
       "</g>\n",
       "<g style=\"fill:rgb(0%,0%,0%);fill-opacity:1;\">\n",
       "  <use xlink:href=\"#glyph3-1\" x=\"411.761719\" y=\"50.831055\"/>\n",
       "</g>\n",
       "<g style=\"fill:rgb(0%,0%,0%);fill-opacity:1;\">\n",
       "  <use xlink:href=\"#glyph0-31\" x=\"414.761719\" y=\"51.487305\"/>\n",
       "  <use xlink:href=\"#glyph0-3\" x=\"420.761719\" y=\"51.487305\"/>\n",
       "  <use xlink:href=\"#glyph0-6\" x=\"423.425781\" y=\"51.487305\"/>\n",
       "  <use xlink:href=\"#glyph0-12\" x=\"430.097656\" y=\"51.487305\"/>\n",
       "  <use xlink:href=\"#glyph0-8\" x=\"436.038086\" y=\"51.487305\"/>\n",
       "  <use xlink:href=\"#glyph0-7\" x=\"439.194336\" y=\"51.487305\"/>\n",
       "  <use xlink:href=\"#glyph0-23\" x=\"445.866211\" y=\"51.487305\"/>\n",
       "  <use xlink:href=\"#glyph0-12\" x=\"449.921875\" y=\"51.487305\"/>\n",
       "</g>\n",
       "<g style=\"fill:rgb(0%,0%,0%);fill-opacity:1;\">\n",
       "  <use xlink:href=\"#glyph3-1\" x=\"456.761719\" y=\"50.831055\"/>\n",
       "</g>\n",
       "<g style=\"fill:rgb(0%,0%,0%);fill-opacity:1;\">\n",
       "  <use xlink:href=\"#glyph3-1\" x=\"459.761719\" y=\"50.831055\"/>\n",
       "</g>\n",
       "<g style=\"fill:rgb(0%,0%,0%);fill-opacity:1;\">\n",
       "  <use xlink:href=\"#glyph0-32\" x=\"462.761719\" y=\"51.487305\"/>\n",
       "</g>\n",
       "<g style=\"fill:rgb(0%,0%,0%);fill-opacity:1;\">\n",
       "  <use xlink:href=\"#glyph1-2\" x=\"471.761719\" y=\"53.802734\"/>\n",
       "</g>\n",
       "<g style=\"fill:rgb(0%,0%,0%);fill-opacity:1;\">\n",
       "  <use xlink:href=\"#glyph0-33\" x=\"399.867188\" y=\"68.764648\"/>\n",
       "</g>\n",
       "<g style=\"fill:rgb(0%,0%,0%);fill-opacity:1;\">\n",
       "  <use xlink:href=\"#glyph0-9\" x=\"402.867188\" y=\"68.764648\"/>\n",
       "  <use xlink:href=\"#glyph0-26\" x=\"406.203125\" y=\"68.764648\"/>\n",
       "  <use xlink:href=\"#glyph0-9\" x=\"409.539062\" y=\"68.764648\"/>\n",
       "  <use xlink:href=\"#glyph0-9\" x=\"412.875\" y=\"68.764648\"/>\n",
       "</g>\n",
       "<g style=\"fill:rgb(0%,0%,0%);fill-opacity:1;\">\n",
       "  <use xlink:href=\"#glyph0-28\" x=\"416.867188\" y=\"68.764648\"/>\n",
       "</g>\n",
       "<g style=\"fill:rgb(0%,0%,0%);fill-opacity:1;\">\n",
       "  <use xlink:href=\"#glyph1-2\" x=\"423.867188\" y=\"71.083984\"/>\n",
       "</g>\n",
       "<g style=\"fill:rgb(0%,0%,0%);fill-opacity:1;\">\n",
       "  <use xlink:href=\"#glyph0-9\" x=\"425.867188\" y=\"68.764648\"/>\n",
       "  <use xlink:href=\"#glyph0-34\" x=\"429.203125\" y=\"68.764648\"/>\n",
       "  <use xlink:href=\"#glyph0-9\" x=\"432.323242\" y=\"68.764648\"/>\n",
       "</g>\n",
       "<g style=\"fill:rgb(0%,0%,0%);fill-opacity:1;\">\n",
       "  <use xlink:href=\"#glyph0-24\" x=\"435.867188\" y=\"68.764648\"/>\n",
       "</g>\n",
       "<g style=\"fill:rgb(0%,0%,0%);fill-opacity:1;\">\n",
       "  <use xlink:href=\"#glyph0-22\" x=\"442.867188\" y=\"68.764648\"/>\n",
       "</g>\n",
       "<g style=\"fill:rgb(0%,0%,0%);fill-opacity:1;\">\n",
       "  <use xlink:href=\"#glyph0-7\" x=\"448.867188\" y=\"68.764648\"/>\n",
       "</g>\n",
       "<g style=\"fill:rgb(0%,0%,0%);fill-opacity:1;\">\n",
       "  <use xlink:href=\"#glyph1-1\" x=\"455.867188\" y=\"71.083984\"/>\n",
       "</g>\n",
       "<g style=\"fill:rgb(0%,0%,0%);fill-opacity:1;\">\n",
       "  <use xlink:href=\"#glyph4-1\" x=\"457.867188\" y=\"70.924805\"/>\n",
       "</g>\n",
       "<g style=\"fill:rgb(0%,0%,0%);fill-opacity:1;\">\n",
       "  <use xlink:href=\"#glyph1-3\" x=\"463.867188\" y=\"71.083984\"/>\n",
       "</g>\n",
       "<g style=\"fill:rgb(0%,0%,0%);fill-opacity:1;\">\n",
       "  <use xlink:href=\"#glyph1-2\" x=\"470.867188\" y=\"71.083984\"/>\n",
       "</g>\n",
       "<g style=\"fill:rgb(0%,0%,0%);fill-opacity:1;\">\n",
       "  <use xlink:href=\"#glyph3-1\" x=\"472.867188\" y=\"68.108398\"/>\n",
       "</g>\n",
       "<g style=\"fill:rgb(0%,0%,0%);fill-opacity:1;\">\n",
       "  <use xlink:href=\"#glyph3-1\" x=\"475.867188\" y=\"68.108398\"/>\n",
       "</g>\n",
       "<g style=\"fill:rgb(0%,0%,0%);fill-opacity:1;\">\n",
       "  <use xlink:href=\"#glyph0-12\" x=\"478.867188\" y=\"68.764648\"/>\n",
       "</g>\n",
       "<g style=\"fill:rgb(0%,0%,0%);fill-opacity:1;\">\n",
       "  <use xlink:href=\"#glyph1-1\" x=\"484.867188\" y=\"71.083984\"/>\n",
       "</g>\n",
       "<g style=\"fill:rgb(0%,0%,0%);fill-opacity:1;\">\n",
       "  <use xlink:href=\"#glyph0-20\" x=\"412.160156\" y=\"152.522461\"/>\n",
       "  <use xlink:href=\"#glyph0-9\" x=\"418.832031\" y=\"152.522461\"/>\n",
       "  <use xlink:href=\"#glyph0-26\" x=\"422.167969\" y=\"152.522461\"/>\n",
       "  <use xlink:href=\"#glyph0-9\" x=\"425.503906\" y=\"152.522461\"/>\n",
       "  <use xlink:href=\"#glyph0-9\" x=\"428.839844\" y=\"152.522461\"/>\n",
       "  <use xlink:href=\"#glyph0-9\" x=\"432.175781\" y=\"152.522461\"/>\n",
       "  <use xlink:href=\"#glyph0-18\" x=\"435.511719\" y=\"152.522461\"/>\n",
       "  <use xlink:href=\"#glyph0-19\" x=\"442.183594\" y=\"152.522461\"/>\n",
       "  <use xlink:href=\"#glyph0-9\" x=\"448.855469\" y=\"152.522461\"/>\n",
       "  <use xlink:href=\"#glyph0-9\" x=\"452.191406\" y=\"152.522461\"/>\n",
       "  <use xlink:href=\"#glyph0-34\" x=\"455.527344\" y=\"152.522461\"/>\n",
       "  <use xlink:href=\"#glyph0-9\" x=\"458.647461\" y=\"152.522461\"/>\n",
       "  <use xlink:href=\"#glyph0-9\" x=\"461.983398\" y=\"152.522461\"/>\n",
       "  <use xlink:href=\"#glyph0-14\" x=\"465.319336\" y=\"152.522461\"/>\n",
       "  <use xlink:href=\"#glyph0-15\" x=\"471.991211\" y=\"152.522461\"/>\n",
       "  <use xlink:href=\"#glyph0-17\" x=\"475.327148\" y=\"152.522461\"/>\n",
       "  <use xlink:href=\"#glyph0-27\" x=\"481.999023\" y=\"152.522461\"/>\n",
       "</g>\n",
       "<g style=\"fill:rgb(0%,0%,0%);fill-opacity:1;\">\n",
       "  <use xlink:href=\"#glyph0-16\" x=\"412.160156\" y=\"293.97168\"/>\n",
       "  <use xlink:href=\"#glyph0-9\" x=\"418.832031\" y=\"293.97168\"/>\n",
       "  <use xlink:href=\"#glyph0-26\" x=\"422.167969\" y=\"293.97168\"/>\n",
       "  <use xlink:href=\"#glyph0-9\" x=\"425.503906\" y=\"293.97168\"/>\n",
       "  <use xlink:href=\"#glyph0-9\" x=\"428.839844\" y=\"293.97168\"/>\n",
       "  <use xlink:href=\"#glyph0-9\" x=\"432.175781\" y=\"293.97168\"/>\n",
       "  <use xlink:href=\"#glyph0-30\" x=\"435.511719\" y=\"293.97168\"/>\n",
       "  <use xlink:href=\"#glyph0-18\" x=\"442.183594\" y=\"293.97168\"/>\n",
       "  <use xlink:href=\"#glyph0-9\" x=\"448.855469\" y=\"293.97168\"/>\n",
       "  <use xlink:href=\"#glyph0-9\" x=\"452.191406\" y=\"293.97168\"/>\n",
       "  <use xlink:href=\"#glyph0-34\" x=\"455.527344\" y=\"293.97168\"/>\n",
       "  <use xlink:href=\"#glyph0-9\" x=\"458.647461\" y=\"293.97168\"/>\n",
       "  <use xlink:href=\"#glyph0-9\" x=\"461.983398\" y=\"293.97168\"/>\n",
       "  <use xlink:href=\"#glyph0-14\" x=\"465.319336\" y=\"293.97168\"/>\n",
       "  <use xlink:href=\"#glyph0-15\" x=\"471.991211\" y=\"293.97168\"/>\n",
       "  <use xlink:href=\"#glyph0-14\" x=\"475.327148\" y=\"293.97168\"/>\n",
       "  <use xlink:href=\"#glyph0-35\" x=\"481.999023\" y=\"293.97168\"/>\n",
       "</g>\n",
       "<g style=\"fill:rgb(0%,0%,0%);fill-opacity:1;\">\n",
       "  <use xlink:href=\"#glyph0-27\" x=\"412.160156\" y=\"389.022461\"/>\n",
       "  <use xlink:href=\"#glyph0-9\" x=\"418.832031\" y=\"389.022461\"/>\n",
       "  <use xlink:href=\"#glyph0-26\" x=\"422.167969\" y=\"389.022461\"/>\n",
       "  <use xlink:href=\"#glyph0-9\" x=\"425.503906\" y=\"389.022461\"/>\n",
       "  <use xlink:href=\"#glyph0-9\" x=\"428.839844\" y=\"389.022461\"/>\n",
       "  <use xlink:href=\"#glyph0-9\" x=\"432.175781\" y=\"389.022461\"/>\n",
       "  <use xlink:href=\"#glyph0-16\" x=\"435.511719\" y=\"389.022461\"/>\n",
       "  <use xlink:href=\"#glyph0-36\" x=\"442.183594\" y=\"389.022461\"/>\n",
       "  <use xlink:href=\"#glyph0-9\" x=\"448.855469\" y=\"389.022461\"/>\n",
       "  <use xlink:href=\"#glyph0-9\" x=\"452.191406\" y=\"389.022461\"/>\n",
       "  <use xlink:href=\"#glyph0-34\" x=\"455.527344\" y=\"389.022461\"/>\n",
       "  <use xlink:href=\"#glyph0-9\" x=\"458.647461\" y=\"389.022461\"/>\n",
       "  <use xlink:href=\"#glyph0-9\" x=\"461.983398\" y=\"389.022461\"/>\n",
       "  <use xlink:href=\"#glyph0-14\" x=\"465.319336\" y=\"389.022461\"/>\n",
       "  <use xlink:href=\"#glyph0-15\" x=\"471.991211\" y=\"389.022461\"/>\n",
       "  <use xlink:href=\"#glyph0-27\" x=\"475.327148\" y=\"389.022461\"/>\n",
       "  <use xlink:href=\"#glyph0-35\" x=\"481.999023\" y=\"389.022461\"/>\n",
       "</g>\n",
       "</g>\n",
       "</svg>\n"
      ],
      "text/plain": [
       "Plot with title “Silhouette plot for k= 3 clusters\n",
       " based on 50 top genes”"
      ]
     },
     "metadata": {
      "image/svg+xml": {
       "isolated": true
      }
     },
     "output_type": "display_data"
    }
   ],
   "source": [
    "load.sources()\n",
    "silhouette.for.hmplot(res$hmplot,50,3,col=c(\"violet\",\"lightblue\"))#,\"green\"))\n",
    "                    #sub=paste(\"ConvTCC, N.total =\",\n",
    "                    #          NCOL(as.matrix(tail(iterationLoopOnlyCTCCCPAM,1)[[1]]$hmplot[[1000]]$pi.dist))\n",
    "                    #          ))\n",
    "dev.off()"
   ]
  },
  {
   "cell_type": "code",
   "execution_count": 56,
   "metadata": {
    "collapsed": true
   },
   "outputs": [],
   "source": [
    "load.sources()\n",
    "\n",
    "#itstate<-last(iterationLoop1000abscoef)\n",
    "itstate<-last(iterationLoopALLabscoef)\n",
    "#itstate<-iteration.states[[1]]\n",
    "#itstate<-tail(iterationLoop1000fstat,1)[[1]]\n",
    "\n",
    "sample.labels<-orig.sample.labels\n",
    "#sample.labels<-itstate$sample.labels\n",
    "\n",
    "#N<-1000\n",
    "N<-300\n",
    "#N<-Inf\n",
    "\n",
    "#k<-4\n",
    "k<-length(levels(factor(sample.labels)))\n",
    "\n",
    "ext<-\"png\"\n",
    "#hclustfun=function(x)hclust(dist(coefs[,2]),method=\"ward\"),\n",
    "#pname<-plotName(paste(\"heatmap_top20_from_top\",N,\"_k\",k,\"_minpval0.001.png\",sep=\"\"))\n",
    "pname<-plotName(paste(\"heatmap_top\",N,\"_k\",k,\".\",ext,sep=\"\"))\n",
    "\n",
    "ttab<-itstate$ttab"
   ]
  },
  {
   "cell_type": "code",
   "execution_count": 60,
   "metadata": {
    "collapsed": false,
    "scrolled": true
   },
   "outputs": [
    {
     "name": "stdout",
     "output_type": "stream",
     "text": [
      "[1] \"rpca converged: TRUE in:\"\n",
      "   user  system elapsed \n",
      "  14.97    1.31   12.32 \n",
      "            robust.rank rank.used.in.clustering \n",
      "                     86                      59 \n"
     ]
    },
    {
     "name": "stderr",
     "output_type": "stream",
     "text": [
      "Warning message:\n",
      "In acos(corgi): NaNs producedWarning message:\n",
      "In acos(corpi): NaNs produced"
     ]
    },
    {
     "name": "stdout",
     "output_type": "stream",
     "text": [
      "[1] 151  59 300  59\n"
     ]
    },
    {
     "data": {
      "text/html": [
       "'plots/R_supervised_analysis_MP_cTCC_Project_heatmap_top300_k2.png'"
      ],
      "text/latex": [
       "'plots/R\\_supervised\\_analysis\\_MP\\_cTCC\\_Project\\_heatmap\\_top300\\_k2.png'"
      ],
      "text/markdown": [
       "'plots/R_supervised_analysis_MP_cTCC_Project_heatmap_top300_k2.png'"
      ],
      "text/plain": [
       "[1] \"plots/R_supervised_analysis_MP_cTCC_Project_heatmap_top300_k2.png\""
      ]
     },
     "metadata": {},
     "output_type": "display_data"
    }
   ],
   "source": [
    "#As above but plot only raw data column\n",
    "load.sources()\n",
    "\n",
    "#ext<-\"eps\"\n",
    "ext<-\"png\"\n",
    "pname<-paste(\"plots/\",plotName(paste(\"heatmap_top\",N,\"_k\",k,\".\",ext,sep=\"\")),sep=\"\")\n",
    "\n",
    "\n",
    "res<-with(ttab[1:min(N,NROW(ttab)),],{     \n",
    "     genedata<-selDataMatrix[ID,]\n",
    "\n",
    "     htclust<-heatmap.clust(pname,genedata,geneSymbol,\n",
    "                   pca.type=\"robust.pca\",#pca.type=\"svd\",                   \n",
    "                   plot.only.raw=TRUE,\n",
    "                   dend.both=TRUE,\n",
    "                   #nv=length,\n",
    "                   nv=function(d){d2<-d^2\n",
    "                                  cs<-cumsum(d2/sum(d2))\n",
    "                                  head(which(cs>=0.999),1)\n",
    "                                  },\n",
    "                   main.title=\"log(FoldChange) relative to median gene expression\",\n",
    "                   sample.labels=c(\"violet\",\"lightblue\",\"green\",\"purple\")[sample.labels],\n",
    "                   sample.labels.marks=orig.sample.labels==\"Micropap\",\n",
    "                   #sample.labels=c(\"violet\",\"lightblue\")[orig.sample.labels],\n",
    "                   #sample.labels.marks=suspicious.samples,#sample.labels==1,\n",
    "                   gene.colors=get.color.for.gene(geneSymbol),\n",
    "                   centralize=TRUE,        \n",
    "                   normalize=FALSE,\n",
    "                   normalize.for.plot=FALSE,                   \n",
    "                   do.plot=TRUE,                   \n",
    "                   absolute.gene.clustering=FALSE,\n",
    "                   #rect.column=3,\n",
    "                   #rect.row=2,\n",
    "                   sample.method=\"ward\",\n",
    "                   genes.method=\"ward\",\n",
    "                   create.device=ext,\n",
    "                   col.order=-as.integer(sample.labels)\n",
    "                   #hm.width=2000,\n",
    "                   #hm.height=1200,\n",
    "                   #hm.hprop=c(2,1,10)\n",
    "                  )\n",
    "    \n",
    "#     df<-genes.cluster.table.save(paste(pname,\".xls\",sep=\"\"),\n",
    "#                             itsate,#last(iterationLoopALLabscoef),\n",
    "#                             N=NROW(ttab),k.genes=8,\n",
    "#                             ttab=ttab,hmplot=htclust$hmplot)\n",
    "\n",
    "     htclust\n",
    "})\n",
    "pname"
   ]
  },
  {
   "cell_type": "markdown",
   "metadata": {
    "collapsed": true
   },
   "source": [
    "<img src='plots/R_supervised_analysis_MP_cTCC_Project_heatmap_top300_k2.png'>"
   ]
  },
  {
   "cell_type": "code",
   "execution_count": null,
   "metadata": {
    "collapsed": true
   },
   "outputs": [],
   "source": []
  },
  {
   "cell_type": "code",
   "execution_count": null,
   "metadata": {
    "collapsed": true
   },
   "outputs": [],
   "source": []
  }
 ],
 "metadata": {
  "kernelspec": {
   "display_name": "R",
   "language": "R",
   "name": "ir"
  },
  "language_info": {
   "codemirror_mode": "r",
   "file_extension": ".r",
   "mimetype": "text/x-r-source",
   "name": "R",
   "pygments_lexer": "r",
   "version": "3.2.0"
  }
 },
 "nbformat": 4,
 "nbformat_minor": 0
}
