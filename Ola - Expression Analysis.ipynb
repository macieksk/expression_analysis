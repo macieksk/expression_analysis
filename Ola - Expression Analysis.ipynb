{
 "cells": [
  {
   "cell_type": "code",
   "execution_count": 1,
   "metadata": {
    "collapsed": false
   },
   "outputs": [
    {
     "data": {
      "text/html": [
       "'R version 3.2.0 (2015-04-16)'"
      ],
      "text/latex": [
       "'R version 3.2.0 (2015-04-16)'"
      ],
      "text/markdown": [
       "'R version 3.2.0 (2015-04-16)'"
      ],
      "text/plain": [
       "[1] \"R version 3.2.0 (2015-04-16)\""
      ]
     },
     "metadata": {},
     "output_type": "display_data"
    },
    {
     "name": "stdout",
     "output_type": "stream",
     "text": [
      "[1] \"email: 'Maciek Sykulski'<macieksk@gmail.com>\"\n"
     ]
    },
    {
     "data": {
      "text/html": [
       "0"
      ],
      "text/latex": [
       "0"
      ],
      "text/markdown": [
       "0"
      ],
      "text/plain": [
       "[1] 0"
      ]
     },
     "metadata": {},
     "output_type": "display_data"
    }
   ],
   "source": [
    "R.version.string\n",
    "print(\"email: 'Maciek Sykulski'<macieksk@gmail.com>\")\n",
    "length(ls())"
   ]
  },
  {
   "cell_type": "code",
   "execution_count": 10,
   "metadata": {
    "collapsed": true
   },
   "outputs": [],
   "source": [
    "#install.packages(\"https://cran.r-project.org/src/contrib/rpca_0.2.3.tar.gz\")"
   ]
  },
  {
   "cell_type": "code",
   "execution_count": 12,
   "metadata": {
    "collapsed": false
   },
   "outputs": [],
   "source": [
    "projDir<-\"./\"\n",
    "projectPrefix<-\"R_supervised_analysis_MP_cTCC_Project\"\n",
    "\n",
    "#\n",
    "load.sources<-function(){\n",
    "    for (f in  c(\"utils.R\", #Contains inpar, save_new_image, etc\n",
    "                 \"heatmap.clust.R\",\n",
    "                 \"Choi.et.al.genes.R\",\n",
    "                 \"iterative.unsup.sup.R\",\n",
    "                 \"clustcompare.R\"\n",
    "                 #\"circos.R\"\n",
    "                 #...  \n",
    "                 ) \n",
    "        ){\n",
    "    source(paste(projDir,\"/src/\",f,sep=\"\"))\n",
    "   }\n",
    "}\n",
    "load.sources()"
   ]
  },
  {
   "cell_type": "code",
   "execution_count": 9,
   "metadata": {
    "collapsed": false
   },
   "outputs": [],
   "source": []
  },
  {
   "cell_type": "code",
   "execution_count": 13,
   "metadata": {
    "collapsed": false
   },
   "outputs": [
    {
     "data": {
      "text/plain": [
       "   user  system elapsed \n",
       "105.000   2.020 107.148 "
      ]
     },
     "metadata": {},
     "output_type": "display_data"
    },
    {
     "name": "stderr",
     "output_type": "stream",
     "text": [
      "Loading required package: lumi\n",
      "Loading required package: Biobase\n",
      "Loading required package: BiocGenerics\n",
      "\n",
      "Attaching package: ‘BiocGenerics’\n",
      "\n",
      "The following object is masked _by_ ‘.GlobalEnv’:\n",
      "\n",
      "    match\n",
      "\n",
      "The following object is masked from ‘package:limma’:\n",
      "\n",
      "    plotMA\n",
      "\n",
      "The following objects are masked from ‘package:parallel’:\n",
      "\n",
      "    clusterApply, clusterApplyLB, clusterCall, clusterEvalQ,\n",
      "    clusterExport, clusterMap, parApply, parCapply, parLapply,\n",
      "    parLapplyLB, parRapply, parSapply, parSapplyLB\n",
      "\n",
      "The following object is masked from ‘package:stats’:\n",
      "\n",
      "    xtabs\n",
      "\n",
      "The following objects are masked from ‘package:base’:\n",
      "\n",
      "    Filter, Find, Map, Position, Reduce, anyDuplicated, append,\n",
      "    as.data.frame, as.vector, cbind, colnames, do.call, duplicated,\n",
      "    eval, evalq, get, intersect, is.unsorted, lapply, mapply, match,\n",
      "    mget, order, paste, pmax, pmax.int, pmin, pmin.int, rank, rbind,\n",
      "    rep.int, rownames, sapply, setdiff, sort, table, tapply, union,\n",
      "    unique, unlist\n",
      "\n",
      "Welcome to Bioconductor\n",
      "\n",
      "    Vignettes contain introductory material; view with\n",
      "    'browseVignettes()'. To cite Bioconductor, see\n",
      "    'citation(\"Biobase\")', and for packages 'citation(\"pkgname\")'.\n",
      "\n",
      "Warning message:\n",
      ": replacing previous import by ‘graphics::image’ when loading ‘methylumi’Loading required package: GOstats\n",
      "Loading required package: Category\n",
      "Loading required package: AnnotationDbi\n",
      "Loading required package: GenomeInfoDb\n",
      "\n",
      "Attaching package: ‘AnnotationDbi’\n",
      "\n",
      "The following object is masked from ‘package:hash’:\n",
      "\n",
      "    keys\n",
      "\n",
      "Loading required package: Matrix\n",
      "Loading required package: GO.db\n",
      "\n",
      "Loading required package: graph\n",
      "\n",
      "Attaching package: ‘GOstats’\n",
      "\n",
      "The following object is masked from ‘package:AnnotationDbi’:\n",
      "\n",
      "    makeGOGraph\n",
      "\n",
      "Loading required package: ROCR\n"
     ]
    },
    {
     "data": {
      "text/html": [
       "<table>\n",
       "<thead><tr><th></th><th scope=col>Type</th><th scope=col>Size</th><th scope=col>Rows</th><th scope=col>Columns</th></tr></thead>\n",
       "<tbody>\n",
       "\t<tr><th scope=row>iterationLoop1000coeffstat300</th><td>list      </td><td>1155935224</td><td>32        </td><td>NA        </td></tr>\n",
       "\t<tr><th scope=row>abscoef2iterations</th><td>list     </td><td>792769040</td><td>3        </td><td>NA       </td></tr>\n",
       "\t<tr><th scope=row>iterationLoopOnlyCTCCPAM</th><td>list     </td><td>759964408</td><td>19       </td><td>NA       </td></tr>\n",
       "\t<tr><th scope=row>ima</th><td>array    </td><td>712800208</td><td>6600     </td><td>4500     </td></tr>\n",
       "\t<tr><th scope=row>iterationLoopOnlyCTCCCPAM</th><td>list     </td><td>640275456</td><td>16       </td><td>NA       </td></tr>\n",
       "\t<tr><th scope=row>iteration.states300</th><td>list     </td><td>493176712</td><td>12       </td><td>NA       </td></tr>\n",
       "\t<tr><th scope=row>iterationLoop1000fstat</th><td>list     </td><td>400588056</td><td>11       </td><td>NA       </td></tr>\n",
       "\t<tr><th scope=row>iterationLoop1000pamlike</th><td>list     </td><td>325487736</td><td>9        </td><td>NA       </td></tr>\n",
       "\t<tr><th scope=row>iterationLoop1000abscoef</th><td>list     </td><td>284998808</td><td>8        </td><td>NA       </td></tr>\n",
       "\t<tr><th scope=row>iteration.states_k2</th><td>list     </td><td>237683040</td><td>6        </td><td>NA       </td></tr>\n",
       "\t<tr><th scope=row>iterationLoopALLabscoef</th><td>list     </td><td>205482632</td><td>2        </td><td>NA       </td></tr>\n",
       "\t<tr><th scope=row>heatmap.clust.all</th><td>list     </td><td>172423424</td><td>4        </td><td>NA       </td></tr>\n",
       "\t<tr><th scope=row>iterationLoopOnlyMicroCPAM</th><td>list     </td><td>157275216</td><td>4        </td><td>NA       </td></tr>\n",
       "\t<tr><th scope=row>iterationLoopOnlyMicroPAM</th><td>list     </td><td>157200424</td><td>4        </td><td>NA       </td></tr>\n",
       "\t<tr><th scope=row>all.hg.600</th><td>list    </td><td>95215712</td><td>3       </td><td>NA      </td></tr>\n",
       "\t<tr><th scope=row>all.hg.down.gt1</th><td>list    </td><td>94611192</td><td>3       </td><td>NA      </td></tr>\n",
       "\t<tr><th scope=row>all.hg.450</th><td>list    </td><td>92859528</td><td>3       </td><td>NA      </td></tr>\n",
       "\t<tr><th scope=row>all.hg.300</th><td>list    </td><td>90227160</td><td>3       </td><td>NA      </td></tr>\n",
       "\t<tr><th scope=row>all.hg.up.gt1</th><td>list    </td><td>87020304</td><td>3       </td><td>NA      </td></tr>\n",
       "\t<tr><th scope=row>all.hg.200</th><td>list    </td><td>86961568</td><td>3       </td><td>NA      </td></tr>\n",
       "\t<tr><th scope=row>iterationLoopOnlyCTCC</th><td>list    </td><td>83820656</td><td>3       </td><td>NA      </td></tr>\n",
       "\t<tr><th scope=row>iterationLoopOnlyMicro</th><td>list    </td><td>78327632</td><td>3       </td><td>NA      </td></tr>\n",
       "\t<tr><th scope=row>all.hg</th><td>list    </td><td>77989360</td><td>3       </td><td>NA      </td></tr>\n",
       "\t<tr><th scope=row>all.hg.up.100</th><td>list    </td><td>77989360</td><td>3       </td><td>NA      </td></tr>\n",
       "\t<tr><th scope=row>all.lumi.vst.norm</th><td>LumiBatch</td><td>57260624 </td><td>1        </td><td>NA       </td></tr>\n",
       "\t<tr><th scope=row>dataMatrix</th><td>matrix  </td><td>42314208</td><td>29377   </td><td>170     </td></tr>\n",
       "\t<tr><th scope=row>it</th><td>list    </td><td>36439976</td><td>10      </td><td>NA      </td></tr>\n",
       "\t<tr><th scope=row>itstate</th><td>list    </td><td>35742496</td><td>10      </td><td>NA      </td></tr>\n",
       "\t<tr><th scope=row>selDataMatrix</th><td>matrix  </td><td>35617264</td><td>27645   </td><td>151     </td></tr>\n",
       "\t<tr><th scope=row>iteration.states</th><td>list    </td><td>26598736</td><td>1       </td><td>NA      </td></tr>\n",
       "</tbody>\n",
       "</table>\n"
      ],
      "text/latex": [
       "\\begin{tabular}{r|llll}\n",
       "  & Type & Size & Rows & Columns\\\\\n",
       "\\hline\n",
       "\titerationLoop1000coeffstat300 & list       & 1155935224 & 32         & NA        \\\\\n",
       "\tabscoef2iterations & list      & 792769040 & 3         & NA       \\\\\n",
       "\titerationLoopOnlyCTCCPAM & list      & 759964408 & 19        & NA       \\\\\n",
       "\tima & array     & 712800208 & 6600      & 4500     \\\\\n",
       "\titerationLoopOnlyCTCCCPAM & list      & 640275456 & 16        & NA       \\\\\n",
       "\titeration.states300 & list      & 493176712 & 12        & NA       \\\\\n",
       "\titerationLoop1000fstat & list      & 400588056 & 11        & NA       \\\\\n",
       "\titerationLoop1000pamlike & list      & 325487736 & 9         & NA       \\\\\n",
       "\titerationLoop1000abscoef & list      & 284998808 & 8         & NA       \\\\\n",
       "\titeration.states\\_k2 & list      & 237683040 & 6         & NA       \\\\\n",
       "\titerationLoopALLabscoef & list      & 205482632 & 2         & NA       \\\\\n",
       "\theatmap.clust.all & list      & 172423424 & 4         & NA       \\\\\n",
       "\titerationLoopOnlyMicroCPAM & list      & 157275216 & 4         & NA       \\\\\n",
       "\titerationLoopOnlyMicroPAM & list      & 157200424 & 4         & NA       \\\\\n",
       "\tall.hg.600 & list     & 95215712 & 3        & NA      \\\\\n",
       "\tall.hg.down.gt1 & list     & 94611192 & 3        & NA      \\\\\n",
       "\tall.hg.450 & list     & 92859528 & 3        & NA      \\\\\n",
       "\tall.hg.300 & list     & 90227160 & 3        & NA      \\\\\n",
       "\tall.hg.up.gt1 & list     & 87020304 & 3        & NA      \\\\\n",
       "\tall.hg.200 & list     & 86961568 & 3        & NA      \\\\\n",
       "\titerationLoopOnlyCTCC & list     & 83820656 & 3        & NA      \\\\\n",
       "\titerationLoopOnlyMicro & list     & 78327632 & 3        & NA      \\\\\n",
       "\tall.hg & list     & 77989360 & 3        & NA      \\\\\n",
       "\tall.hg.up.100 & list     & 77989360 & 3        & NA      \\\\\n",
       "\tall.lumi.vst.norm & LumiBatch & 57260624  & 1         & NA       \\\\\n",
       "\tdataMatrix & matrix   & 42314208 & 29377    & 170     \\\\\n",
       "\tit & list     & 36439976 & 10       & NA      \\\\\n",
       "\titstate & list     & 35742496 & 10       & NA      \\\\\n",
       "\tselDataMatrix & matrix   & 35617264 & 27645    & 151     \\\\\n",
       "\titeration.states & list     & 26598736 & 1        & NA      \\\\\n",
       "\\end{tabular}\n"
      ],
      "text/plain": [
       "                                   Type       Size  Rows Columns\n",
       "iterationLoop1000coeffstat300      list 1155935224    32      NA\n",
       "abscoef2iterations                 list  792769040     3      NA\n",
       "iterationLoopOnlyCTCCPAM           list  759964408    19      NA\n",
       "ima                               array  712800208  6600    4500\n",
       "iterationLoopOnlyCTCCCPAM          list  640275456    16      NA\n",
       "iteration.states300                list  493176712    12      NA\n",
       "iterationLoop1000fstat             list  400588056    11      NA\n",
       "iterationLoop1000pamlike           list  325487736     9      NA\n",
       "iterationLoop1000abscoef           list  284998808     8      NA\n",
       "iteration.states_k2                list  237683040     6      NA\n",
       "iterationLoopALLabscoef            list  205482632     2      NA\n",
       "heatmap.clust.all                  list  172423424     4      NA\n",
       "iterationLoopOnlyMicroCPAM         list  157275216     4      NA\n",
       "iterationLoopOnlyMicroPAM          list  157200424     4      NA\n",
       "all.hg.600                         list   95215712     3      NA\n",
       "all.hg.down.gt1                    list   94611192     3      NA\n",
       "all.hg.450                         list   92859528     3      NA\n",
       "all.hg.300                         list   90227160     3      NA\n",
       "all.hg.up.gt1                      list   87020304     3      NA\n",
       "all.hg.200                         list   86961568     3      NA\n",
       "iterationLoopOnlyCTCC              list   83820656     3      NA\n",
       "iterationLoopOnlyMicro             list   78327632     3      NA\n",
       "all.hg                             list   77989360     3      NA\n",
       "all.hg.up.100                      list   77989360     3      NA\n",
       "all.lumi.vst.norm             LumiBatch   57260624     1      NA\n",
       "dataMatrix                       matrix   42314208 29377     170\n",
       "it                                 list   36439976    10      NA\n",
       "itstate                            list   35742496    10      NA\n",
       "selDataMatrix                    matrix   35617264 27645     151\n",
       "iteration.states                   list   26598736     1      NA"
      ]
     },
     "metadata": {},
     "output_type": "display_data"
    },
    {
     "data": {
      "text/html": [
       "<table>\n",
       "<thead><tr><th></th><th scope=col>used</th><th scope=col>(Mb)</th><th scope=col>gc trigger</th><th scope=col>(Mb)</th><th scope=col>max used</th><th scope=col>(Mb)</th></tr></thead>\n",
       "<tbody>\n",
       "\t<tr><th scope=row>Ncells</th><td>15769403.0</td><td>     842.2</td><td>25102783.0</td><td>    1340.7</td><td>20885653.0</td><td>    1115.5</td></tr>\n",
       "\t<tr><th scope=row>Vcells</th><td>600883661.0</td><td>     4584.4</td><td>956472485.0</td><td>     7297.4</td><td>664086691.0</td><td>     5066.6</td></tr>\n",
       "</tbody>\n",
       "</table>\n"
      ],
      "text/latex": [
       "\\begin{tabular}{r|llllll}\n",
       "  & used & (Mb) & gc trigger & (Mb) & max used & (Mb)\\\\\n",
       "\\hline\n",
       "\tNcells & 15769403.0 &      842.2 & 25102783.0 &     1340.7 & 20885653.0 &     1115.5\\\\\n",
       "\tVcells & 600883661.0 &      4584.4 & 956472485.0 &      7297.4 & 664086691.0 &      5066.6\\\\\n",
       "\\end{tabular}\n"
      ],
      "text/markdown": [
       "1. 15769403\n",
       "2. 600883661\n",
       "3. 842.2\n",
       "4. 4584.4\n",
       "5. 25102783\n",
       "6. 956472485\n",
       "7. 1340.7\n",
       "8. 7297.4\n",
       "9. 20885653\n",
       "10. 664086691\n",
       "11. 1115.5\n",
       "12. 5066.6\n",
       "\n",
       "\n"
      ],
      "text/plain": [
       "            used   (Mb) gc trigger   (Mb)  max used   (Mb)\n",
       "Ncells  15769403  842.2   25102783 1340.7  20885653 1115.5\n",
       "Vcells 600883661 4584.4  956472485 7297.4 664086691 5066.6"
      ]
     },
     "metadata": {},
     "output_type": "display_data"
    }
   ],
   "source": [
    "#Load project from .Rdata\n",
    "system.time(load(paste(projDir,\"/r_saved_images/\",projectPrefix,\".Rdata\",sep=\"\")))\n",
    "lsos(n=30)\n",
    "gc()"
   ]
  },
  {
   "cell_type": "code",
   "execution_count": 7,
   "metadata": {
    "collapsed": false
   },
   "outputs": [
    {
     "data": {
      "text/html": [
       "<table>\n",
       "<thead><tr><th></th><th scope=col>used</th><th scope=col>(Mb)</th><th scope=col>gc trigger</th><th scope=col>(Mb)</th><th scope=col>max used</th><th scope=col>(Mb)</th></tr></thead>\n",
       "<tbody>\n",
       "\t<tr><th scope=row>Ncells</th><td>329183.0</td><td>    17.6</td><td>592000.0</td><td>    31.7</td><td>550603.0</td><td>    29.5</td></tr>\n",
       "\t<tr><th scope=row>Vcells</th><td> 544411.0</td><td>      4.2</td><td>1023718.0</td><td>      7.9</td><td> 785564.0</td><td>      6.0</td></tr>\n",
       "</tbody>\n",
       "</table>\n"
      ],
      "text/latex": [
       "\\begin{tabular}{r|llllll}\n",
       "  & used & (Mb) & gc trigger & (Mb) & max used & (Mb)\\\\\n",
       "\\hline\n",
       "\tNcells & 329183.0 &     17.6 & 592000.0 &     31.7 & 550603.0 &     29.5\\\\\n",
       "\tVcells &  544411.0 &       4.2 & 1023718.0 &       7.9 &  785564.0 &       6.0\\\\\n",
       "\\end{tabular}\n"
      ],
      "text/markdown": [
       "1. 329183\n",
       "2. 544411\n",
       "3. 17.6\n",
       "4. 4.2\n",
       "5. 592000\n",
       "6. 1023718\n",
       "7. 31.7\n",
       "8. 7.9\n",
       "9. 550603\n",
       "10. 785564\n",
       "11. 29.5\n",
       "12. 6\n",
       "\n",
       "\n"
      ],
      "text/plain": [
       "         used (Mb) gc trigger (Mb) max used (Mb)\n",
       "Ncells 329183 17.6     592000 31.7   550603 29.5\n",
       "Vcells 544411  4.2    1023718  7.9   785564  6.0"
      ]
     },
     "execution_count": 7,
     "metadata": {},
     "output_type": "execute_result"
    }
   ],
   "source": [
    "#Save project .Rdata\n",
    "gc()\n",
    "#system.time(save_new_image())"
   ]
  },
  {
   "cell_type": "code",
   "execution_count": 14,
   "metadata": {
    "collapsed": false
   },
   "outputs": [
    {
     "name": "stderr",
     "output_type": "stream",
     "text": [
      "\n",
      "Attaching package: ‘MASS’\n",
      "\n",
      "The following object is masked from ‘package:AnnotationDbi’:\n",
      "\n",
      "    select\n",
      "\n",
      "Loading required package: survival\n",
      "Loading required package: lattice\n",
      "Loading required package: igraph\n",
      "\n",
      "Attaching package: ‘igraph’\n",
      "\n",
      "The following objects are masked from ‘package:graph’:\n",
      "\n",
      "    degree, edges, intersection, union\n",
      "\n",
      "The following objects are masked from ‘package:BiocGenerics’:\n",
      "\n",
      "    normalize, union\n",
      "\n",
      "The following objects are masked from ‘package:stats’:\n",
      "\n",
      "    decompose, spectrum\n",
      "\n",
      "The following object is masked from ‘package:base’:\n",
      "\n",
      "    union\n",
      "\n",
      "\n",
      "Attaching package: ‘multtest’\n",
      "\n",
      "The following object is masked from ‘package:gplots’:\n",
      "\n",
      "    wapply\n",
      "\n",
      "matrixStats v0.14.2 (2015-06-23) successfully loaded. See ?matrixStats for help.\n",
      "\n",
      "Attaching package: ‘matrixStats’\n",
      "\n",
      "The following objects are masked from ‘package:Biobase’:\n",
      "\n",
      "    anyMissing, rowMedians\n",
      "\n",
      "Registering fonts with R\n",
      "\n",
      "Attaching package: ‘enrichvs’\n",
      "\n",
      "The following object is masked _by_ ‘.GlobalEnv’:\n",
      "\n",
      "    matplot_enrichment_curve\n",
      "\n"
     ]
    },
    {
     "name": "stdout",
     "output_type": "stream",
     "text": [
      "Note: no visible global function definition for 'gpuSvd' \n",
      "Note: no visible global function definition for 'gpuMatMult' \n"
     ]
    },
    {
     "name": "stderr",
     "output_type": "stream",
     "text": [
      "Loading required package: GenomicRanges\n",
      "Loading required package: IRanges\n",
      "\n",
      "Attaching package: ‘IRanges’\n",
      "\n",
      "The following object is masked _by_ ‘.GlobalEnv’:\n",
      "\n",
      "    trim\n",
      "\n",
      "The following objects are masked from ‘package:igraph’:\n",
      "\n",
      "    compare, simplify\n",
      "\n",
      "The following object is masked from ‘package:Matrix’:\n",
      "\n",
      "    expand\n",
      "\n",
      "The following object is masked from ‘package:gplots’:\n",
      "\n",
      "    space\n",
      "\n",
      "The following objects are masked from ‘package:hash’:\n",
      "\n",
      "    values, values<-\n",
      "\n",
      "\n",
      "Attaching package: ‘OmicCircos’\n",
      "\n",
      "The following object is masked _by_ ‘.GlobalEnv’:\n",
      "\n",
      "    circos\n",
      "\n"
     ]
    },
    {
     "data": {
      "text/plain": [
       "R version 3.2.0 (2015-04-16)\n",
       "Platform: x86_64-unknown-linux-gnu (64-bit)\n",
       "Running under: Debian GNU/Linux 8 (jessie)\n",
       "\n",
       "locale:\n",
       " [1] LC_CTYPE=en_US.UTF-8 LC_NUMERIC=C         LC_TIME=C           \n",
       " [4] LC_COLLATE=C         LC_MONETARY=C        LC_MESSAGES=C       \n",
       " [7] LC_PAPER=C           LC_NAME=C            LC_ADDRESS=C        \n",
       "[10] LC_TELEPHONE=C       LC_MEASUREMENT=C     LC_IDENTIFICATION=C \n",
       "\n",
       "attached base packages:\n",
       "[1] compiler  parallel  stats     graphics  grDevices utils     datasets \n",
       "[8] methods   base     \n",
       "\n",
       "other attached packages:\n",
       " [1] OmicCircos_1.2.0     GenomicRanges_1.16.4 IRanges_1.22.10     \n",
       " [4] enrichvs_0.0.5       extrafont_0.17       matrixStats_0.14.2  \n",
       " [7] multtest_2.20.0      flare_1.5.0          igraph_1.0.0        \n",
       "[10] lattice_0.20-31      pamr_1.55            survival_2.38-1     \n",
       "[13] annotate_1.42.1      png_0.1-7            MASS_7.3-40         \n",
       "[16] ROCR_1.0-7           GOstats_2.30.0       graph_1.42.0        \n",
       "[19] Category_2.30.0      GO.db_2.14.0         Matrix_1.2-0        \n",
       "[22] AnnotationDbi_1.26.1 GenomeInfoDb_1.0.2   lumi_2.16.0         \n",
       "[25] Biobase_2.24.0       BiocGenerics_0.10.0  cluster_2.0.1       \n",
       "[28] limma_3.20.9         statmod_1.4.21       gplots_2.17.0       \n",
       "[31] rpca_0.2.3           sqldf_0.4-10         RSQLite_1.0.0       \n",
       "[34] DBI_0.3.1            gsubfn_0.6-6         proto_0.3-10        \n",
       "[37] fastmatch_1.0-4      hash_2.2.6          \n",
       "\n",
       "loaded via a namespace (and not attached):\n",
       " [1] colorspace_1.2-6        siggenes_1.38.0         mclust_5.0.1           \n",
       " [4] IRdisplay_0.3.0.9000    XVector_0.4.0           base64enc_0.1-3        \n",
       " [7] base64_1.1              affyio_1.32.0           codetools_0.2-11       \n",
       "[10] splines_3.2.0           fail_1.2                methylumi_2.10.0       \n",
       "[13] IRkernel_0.6            jsonlite_0.9.22         pROC_1.8               \n",
       "[16] Rsamtools_1.16.1        Rttf2pt1_1.3.3          tools_3.2.0            \n",
       "[19] affy_1.42.3             doRNG_1.6               Rcpp_0.11.6            \n",
       "[22] bumphunter_1.4.2        Biostrings_2.32.1       gdata_2.16.1           \n",
       "[25] preprocessCore_1.26.1   nlme_3.1-120            rtracklayer_1.24.2     \n",
       "[28] extrafontdb_1.0         iterators_1.0.7         stringr_1.0.0          \n",
       "[31] rngtools_1.2.4          gtools_3.5.0            XML_3.98-1.2           \n",
       "[34] beanplot_1.2            nleqslv_2.8             zlibbioc_1.10.0        \n",
       "[37] BSgenome_1.32.0         BiocInstaller_1.14.3    RBGL_1.40.1            \n",
       "[40] minfi_1.10.2            RColorBrewer_1.1-2      BBmisc_1.9             \n",
       "[43] pkgmaker_0.22           biomaRt_2.20.0          reshape_0.8.5          \n",
       "[46] stringi_1.1.1           genefilter_1.46.1       foreach_1.4.2          \n",
       "[49] checkmate_1.6.0         GenomicFeatures_1.16.3  caTools_1.17.1         \n",
       "[52] BiocParallel_0.6.1      chron_2.3-47            repr_0.7               \n",
       "[55] BatchJobs_1.6           bitops_1.0-6            nor1mix_1.2-0          \n",
       "[58] evaluate_0.9            GenomicAlignments_1.0.6 GSEABase_1.26.0        \n",
       "[61] AnnotationForge_1.6.1   plyr_1.8.3              magrittr_1.5           \n",
       "[64] sendmailR_1.2-1         R6_2.1.2                pbdZMQ_0.2-3           \n",
       "[67] mgcv_1.8-6              RCurl_1.95-4.6          uuid_0.1-2             \n",
       "[70] KernSmooth_2.23-14      locfit_1.5-9.1          grid_3.2.0             \n",
       "[73] digest_0.6.9            xtable_1.7-4            brew_1.0-6             \n",
       "[76] illuminaio_0.6.1        stats4_3.2.0            registry_0.2           \n",
       "[79] tcltk_3.2.0            "
      ]
     },
     "metadata": {},
     "output_type": "display_data"
    }
   ],
   "source": [
    "library(cluster)\n",
    "library(MASS)\n",
    "\n",
    "#library(lumi)\n",
    "#library(lumiHumanIDMapping)\n",
    "#library(lumiHumanAll.db)\n",
    "\n",
    "#install.packages(\"./src/mylimma_3.18.13.tar.gz\")\n",
    "# Modyfikowałem pakiet limma, bo był w nim bug, którego zgłosiłem.\n",
    "# Może już jest poprawiony w nowej wersji?\n",
    "library(limma)\n",
    "\n",
    "library(rpca)\n",
    "\n",
    "library(gplots)\n",
    "library(png)\n",
    "\n",
    "#library(multicore)\n",
    "library(annotate)\n",
    "library(GOstats)\n",
    "\n",
    "library(pamr)\n",
    "library(flare)\n",
    "\n",
    "library(lattice)\n",
    "library(multtest)\n",
    "library(matrixStats)\n",
    "library(extrafont)\n",
    "library(enrichvs)\n",
    "library(statmod)\n",
    "\n",
    "load.sources()\n",
    "\n",
    "sessionInfo()"
   ]
  },
  {
   "cell_type": "code",
   "execution_count": null,
   "metadata": {
    "collapsed": true
   },
   "outputs": [],
   "source": []
  },
  {
   "cell_type": "code",
   "execution_count": null,
   "metadata": {
    "collapsed": true
   },
   "outputs": [],
   "source": []
  },
  {
   "cell_type": "code",
   "execution_count": null,
   "metadata": {
    "collapsed": true
   },
   "outputs": [],
   "source": []
  },
  {
   "cell_type": "code",
   "execution_count": null,
   "metadata": {
    "collapsed": true
   },
   "outputs": [],
   "source": []
  },
  {
   "cell_type": "code",
   "execution_count": null,
   "metadata": {
    "collapsed": true
   },
   "outputs": [],
   "source": []
  },
  {
   "cell_type": "code",
   "execution_count": null,
   "metadata": {
    "collapsed": true
   },
   "outputs": [],
   "source": []
  },
  {
   "cell_type": "code",
   "execution_count": null,
   "metadata": {
    "collapsed": true
   },
   "outputs": [],
   "source": []
  },
  {
   "cell_type": "code",
   "execution_count": null,
   "metadata": {
    "collapsed": true
   },
   "outputs": [],
   "source": []
  },
  {
   "cell_type": "code",
   "execution_count": null,
   "metadata": {
    "collapsed": true
   },
   "outputs": [],
   "source": []
  },
  {
   "cell_type": "code",
   "execution_count": null,
   "metadata": {
    "collapsed": true
   },
   "outputs": [],
   "source": []
  },
  {
   "cell_type": "code",
   "execution_count": null,
   "metadata": {
    "collapsed": true
   },
   "outputs": [],
   "source": []
  },
  {
   "cell_type": "code",
   "execution_count": null,
   "metadata": {
    "collapsed": true
   },
   "outputs": [],
   "source": []
  }
 ],
 "metadata": {
  "kernelspec": {
   "display_name": "R",
   "language": "R",
   "name": "ir"
  },
  "language_info": {
   "codemirror_mode": "r",
   "file_extension": ".r",
   "mimetype": "text/x-r-source",
   "name": "R",
   "pygments_lexer": "r",
   "version": "3.2.0"
  }
 },
 "nbformat": 4,
 "nbformat_minor": 0
}
