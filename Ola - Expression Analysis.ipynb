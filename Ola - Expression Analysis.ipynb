{
 "cells": [
  {
   "cell_type": "code",
   "execution_count": 4,
   "metadata": {
    "collapsed": false
   },
   "outputs": [
    {
     "data": {
      "text/html": [
       "'R version 3.2.0 (2015-04-16)'"
      ],
      "text/latex": [
       "'R version 3.2.0 (2015-04-16)'"
      ],
      "text/markdown": [
       "'R version 3.2.0 (2015-04-16)'"
      ],
      "text/plain": [
       "[1] \"R version 3.2.0 (2015-04-16)\""
      ]
     },
     "metadata": {},
     "output_type": "display_data"
    },
    {
     "name": "stdout",
     "output_type": "stream",
     "text": [
      "[1] \"email: 'Maciek Sykulski'<macieksk@gmail.com>\"\n"
     ]
    },
    {
     "data": {
      "text/html": [
       "0"
      ],
      "text/latex": [
       "0"
      ],
      "text/markdown": [
       "0"
      ],
      "text/plain": [
       "[1] 0"
      ]
     },
     "metadata": {},
     "output_type": "display_data"
    }
   ],
   "source": [
    "R.version.string\n",
    "print(\"email: 'Maciek Sykulski'<macieksk@gmail.com>\")\n",
    "length(ls())"
   ]
  },
  {
   "cell_type": "code",
   "execution_count": null,
   "metadata": {
    "collapsed": true
   },
   "outputs": [],
   "source": [
    "#install.packages(\"https://cran.r-project.org/src/contrib/rpca_0.2.3.tar.gz\")"
   ]
  },
  {
   "cell_type": "code",
   "execution_count": 5,
   "metadata": {
    "collapsed": false
   },
   "outputs": [
    {
     "name": "stderr",
     "output_type": "stream",
     "text": [
      "hash-2.2.6 provided by Decision Patterns\n",
      "\n",
      "Loading required package: gsubfn\n",
      "Loading required package: proto\n",
      "Warning message:\n",
      "In fun(libname, pkgname): no DISPLAY variable so Tk is not availableLoading required package: RSQLite\n",
      "Loading required package: DBI\n",
      "Loading required package: gplots\n",
      "\n",
      "Attaching package: ‘gplots’\n",
      "\n",
      "The following object is masked from ‘package:stats’:\n",
      "\n",
      "    lowess\n",
      "\n"
     ]
    }
   ],
   "source": [
    "projDir<-\"./\"\n",
    "projectPrefix<-\"R_supervised_analysis_MP_cTCC_Project\"\n",
    "\n",
    "#\n",
    "load.sources<-function(){\n",
    "    for (f in  c(\"utils.R\", #Contains inpar, save_new_image, etc\n",
    "                 \"heatmap.clust.R\",\n",
    "                 \"Choi.et.al.genes.R\",\n",
    "                 \"iterative.unsup.sup.R\",\n",
    "                 \"clustcompare.R\"\n",
    "                 #\"circos.R\"\n",
    "                 #...  \n",
    "                 ) \n",
    "        ){\n",
    "    source(paste(projDir,\"/src/\",f,sep=\"\"))\n",
    "   }\n",
    "}\n",
    "load.sources()"
   ]
  },
  {
   "cell_type": "code",
   "execution_count": 9,
   "metadata": {
    "collapsed": false
   },
   "outputs": [],
   "source": []
  },
  {
   "cell_type": "code",
   "execution_count": 6,
   "metadata": {
    "collapsed": false
   },
   "outputs": [
    {
     "data": {
      "text/plain": [
       "   user  system elapsed \n",
       " 91.370   1.840  93.331 "
      ]
     },
     "metadata": {},
     "output_type": "display_data"
    },
    {
     "name": "stderr",
     "output_type": "stream",
     "text": [
      "Loading required package: lumi\n",
      "Loading required package: Biobase\n",
      "Loading required package: BiocGenerics\n",
      "\n",
      "Attaching package: ‘BiocGenerics’\n",
      "\n",
      "The following object is masked _by_ ‘.GlobalEnv’:\n",
      "\n",
      "    match\n",
      "\n",
      "The following object is masked from ‘package:limma’:\n",
      "\n",
      "    plotMA\n",
      "\n",
      "The following objects are masked from ‘package:parallel’:\n",
      "\n",
      "    clusterApply, clusterApplyLB, clusterCall, clusterEvalQ,\n",
      "    clusterExport, clusterMap, parApply, parCapply, parLapply,\n",
      "    parLapplyLB, parRapply, parSapply, parSapplyLB\n",
      "\n",
      "The following object is masked from ‘package:stats’:\n",
      "\n",
      "    xtabs\n",
      "\n",
      "The following objects are masked from ‘package:base’:\n",
      "\n",
      "    Filter, Find, Map, Position, Reduce, anyDuplicated, append,\n",
      "    as.data.frame, as.vector, cbind, colnames, do.call, duplicated,\n",
      "    eval, evalq, get, intersect, is.unsorted, lapply, mapply, match,\n",
      "    mget, order, paste, pmax, pmax.int, pmin, pmin.int, rank, rbind,\n",
      "    rep.int, rownames, sapply, setdiff, sort, table, tapply, union,\n",
      "    unique, unlist\n",
      "\n",
      "Welcome to Bioconductor\n",
      "\n",
      "    Vignettes contain introductory material; view with\n",
      "    'browseVignettes()'. To cite Bioconductor, see\n",
      "    'citation(\"Biobase\")', and for packages 'citation(\"pkgname\")'.\n",
      "\n",
      "Warning message:\n",
      ": replacing previous import by ‘graphics::image’ when loading ‘methylumi’Loading required package: GOstats\n",
      "Loading required package: Category\n",
      "Loading required package: AnnotationDbi\n",
      "Loading required package: GenomeInfoDb\n",
      "\n",
      "Attaching package: ‘AnnotationDbi’\n",
      "\n",
      "The following object is masked from ‘package:hash’:\n",
      "\n",
      "    keys\n",
      "\n",
      "Loading required package: Matrix\n",
      "Loading required package: GO.db\n",
      "\n",
      "Loading required package: graph\n",
      "\n",
      "Attaching package: ‘GOstats’\n",
      "\n",
      "The following object is masked from ‘package:AnnotationDbi’:\n",
      "\n",
      "    makeGOGraph\n",
      "\n",
      "Loading required package: ROCR\n"
     ]
    },
    {
     "data": {
      "text/html": [
       "<table>\n",
       "<thead><tr><th></th><th scope=col>Type</th><th scope=col>Size</th><th scope=col>Rows</th><th scope=col>Columns</th></tr></thead>\n",
       "<tbody>\n",
       "\t<tr><th scope=row>iterationLoop1000coeffstat300</th><td>list      </td><td>1155935224</td><td>32        </td><td>NA        </td></tr>\n",
       "\t<tr><th scope=row>abscoef2iterations</th><td>list     </td><td>792769040</td><td>3        </td><td>NA       </td></tr>\n",
       "\t<tr><th scope=row>iterationLoopOnlyCTCCPAM</th><td>list     </td><td>759964408</td><td>19       </td><td>NA       </td></tr>\n",
       "\t<tr><th scope=row>ima</th><td>array    </td><td>712800208</td><td>6600     </td><td>4500     </td></tr>\n",
       "\t<tr><th scope=row>iterationLoopOnlyCTCCCPAM</th><td>list     </td><td>640275456</td><td>16       </td><td>NA       </td></tr>\n",
       "\t<tr><th scope=row>iteration.states300</th><td>list     </td><td>493176712</td><td>12       </td><td>NA       </td></tr>\n",
       "\t<tr><th scope=row>iterationLoop1000fstat</th><td>list     </td><td>400588056</td><td>11       </td><td>NA       </td></tr>\n",
       "\t<tr><th scope=row>iterationLoop1000pamlike</th><td>list     </td><td>325487736</td><td>9        </td><td>NA       </td></tr>\n",
       "\t<tr><th scope=row>iterationLoop1000abscoef</th><td>list     </td><td>284998808</td><td>8        </td><td>NA       </td></tr>\n",
       "\t<tr><th scope=row>iteration.states_k2</th><td>list     </td><td>237683040</td><td>6        </td><td>NA       </td></tr>\n",
       "\t<tr><th scope=row>iterationLoopALLabscoef</th><td>list     </td><td>205482632</td><td>2        </td><td>NA       </td></tr>\n",
       "\t<tr><th scope=row>heatmap.clust.all</th><td>list     </td><td>172423424</td><td>4        </td><td>NA       </td></tr>\n",
       "\t<tr><th scope=row>iterationLoopOnlyMicroCPAM</th><td>list     </td><td>157275216</td><td>4        </td><td>NA       </td></tr>\n",
       "\t<tr><th scope=row>iterationLoopOnlyMicroPAM</th><td>list     </td><td>157200424</td><td>4        </td><td>NA       </td></tr>\n",
       "\t<tr><th scope=row>all.hg.600</th><td>list    </td><td>95215712</td><td>3       </td><td>NA      </td></tr>\n",
       "\t<tr><th scope=row>all.hg.down.gt1</th><td>list    </td><td>94611192</td><td>3       </td><td>NA      </td></tr>\n",
       "\t<tr><th scope=row>all.hg.450</th><td>list    </td><td>92859528</td><td>3       </td><td>NA      </td></tr>\n",
       "\t<tr><th scope=row>all.hg.300</th><td>list    </td><td>90227160</td><td>3       </td><td>NA      </td></tr>\n",
       "\t<tr><th scope=row>all.hg.up.gt1</th><td>list    </td><td>87020304</td><td>3       </td><td>NA      </td></tr>\n",
       "\t<tr><th scope=row>all.hg.200</th><td>list    </td><td>86961568</td><td>3       </td><td>NA      </td></tr>\n",
       "\t<tr><th scope=row>iterationLoopOnlyCTCC</th><td>list    </td><td>83820656</td><td>3       </td><td>NA      </td></tr>\n",
       "\t<tr><th scope=row>iterationLoopOnlyMicro</th><td>list    </td><td>78327632</td><td>3       </td><td>NA      </td></tr>\n",
       "\t<tr><th scope=row>all.hg</th><td>list    </td><td>77989360</td><td>3       </td><td>NA      </td></tr>\n",
       "\t<tr><th scope=row>all.hg.up.100</th><td>list    </td><td>77989360</td><td>3       </td><td>NA      </td></tr>\n",
       "\t<tr><th scope=row>all.lumi.vst.norm</th><td>LumiBatch</td><td>57260624 </td><td>1        </td><td>NA       </td></tr>\n",
       "\t<tr><th scope=row>dataMatrix</th><td>matrix  </td><td>42314208</td><td>29377   </td><td>170     </td></tr>\n",
       "\t<tr><th scope=row>it</th><td>list    </td><td>36439976</td><td>10      </td><td>NA      </td></tr>\n",
       "\t<tr><th scope=row>itstate</th><td>list    </td><td>35742496</td><td>10      </td><td>NA      </td></tr>\n",
       "\t<tr><th scope=row>selDataMatrix</th><td>matrix  </td><td>35617264</td><td>27645   </td><td>151     </td></tr>\n",
       "\t<tr><th scope=row>iteration.states</th><td>list    </td><td>26598736</td><td>1       </td><td>NA      </td></tr>\n",
       "</tbody>\n",
       "</table>\n"
      ],
      "text/latex": [
       "\\begin{tabular}{r|llll}\n",
       "  & Type & Size & Rows & Columns\\\\\n",
       "\\hline\n",
       "\titerationLoop1000coeffstat300 & list       & 1155935224 & 32         & NA        \\\\\n",
       "\tabscoef2iterations & list      & 792769040 & 3         & NA       \\\\\n",
       "\titerationLoopOnlyCTCCPAM & list      & 759964408 & 19        & NA       \\\\\n",
       "\tima & array     & 712800208 & 6600      & 4500     \\\\\n",
       "\titerationLoopOnlyCTCCCPAM & list      & 640275456 & 16        & NA       \\\\\n",
       "\titeration.states300 & list      & 493176712 & 12        & NA       \\\\\n",
       "\titerationLoop1000fstat & list      & 400588056 & 11        & NA       \\\\\n",
       "\titerationLoop1000pamlike & list      & 325487736 & 9         & NA       \\\\\n",
       "\titerationLoop1000abscoef & list      & 284998808 & 8         & NA       \\\\\n",
       "\titeration.states\\_k2 & list      & 237683040 & 6         & NA       \\\\\n",
       "\titerationLoopALLabscoef & list      & 205482632 & 2         & NA       \\\\\n",
       "\theatmap.clust.all & list      & 172423424 & 4         & NA       \\\\\n",
       "\titerationLoopOnlyMicroCPAM & list      & 157275216 & 4         & NA       \\\\\n",
       "\titerationLoopOnlyMicroPAM & list      & 157200424 & 4         & NA       \\\\\n",
       "\tall.hg.600 & list     & 95215712 & 3        & NA      \\\\\n",
       "\tall.hg.down.gt1 & list     & 94611192 & 3        & NA      \\\\\n",
       "\tall.hg.450 & list     & 92859528 & 3        & NA      \\\\\n",
       "\tall.hg.300 & list     & 90227160 & 3        & NA      \\\\\n",
       "\tall.hg.up.gt1 & list     & 87020304 & 3        & NA      \\\\\n",
       "\tall.hg.200 & list     & 86961568 & 3        & NA      \\\\\n",
       "\titerationLoopOnlyCTCC & list     & 83820656 & 3        & NA      \\\\\n",
       "\titerationLoopOnlyMicro & list     & 78327632 & 3        & NA      \\\\\n",
       "\tall.hg & list     & 77989360 & 3        & NA      \\\\\n",
       "\tall.hg.up.100 & list     & 77989360 & 3        & NA      \\\\\n",
       "\tall.lumi.vst.norm & LumiBatch & 57260624  & 1         & NA       \\\\\n",
       "\tdataMatrix & matrix   & 42314208 & 29377    & 170     \\\\\n",
       "\tit & list     & 36439976 & 10       & NA      \\\\\n",
       "\titstate & list     & 35742496 & 10       & NA      \\\\\n",
       "\tselDataMatrix & matrix   & 35617264 & 27645    & 151     \\\\\n",
       "\titeration.states & list     & 26598736 & 1        & NA      \\\\\n",
       "\\end{tabular}\n"
      ],
      "text/plain": [
       "                                   Type       Size  Rows Columns\n",
       "iterationLoop1000coeffstat300      list 1155935224    32      NA\n",
       "abscoef2iterations                 list  792769040     3      NA\n",
       "iterationLoopOnlyCTCCPAM           list  759964408    19      NA\n",
       "ima                               array  712800208  6600    4500\n",
       "iterationLoopOnlyCTCCCPAM          list  640275456    16      NA\n",
       "iteration.states300                list  493176712    12      NA\n",
       "iterationLoop1000fstat             list  400588056    11      NA\n",
       "iterationLoop1000pamlike           list  325487736     9      NA\n",
       "iterationLoop1000abscoef           list  284998808     8      NA\n",
       "iteration.states_k2                list  237683040     6      NA\n",
       "iterationLoopALLabscoef            list  205482632     2      NA\n",
       "heatmap.clust.all                  list  172423424     4      NA\n",
       "iterationLoopOnlyMicroCPAM         list  157275216     4      NA\n",
       "iterationLoopOnlyMicroPAM          list  157200424     4      NA\n",
       "all.hg.600                         list   95215712     3      NA\n",
       "all.hg.down.gt1                    list   94611192     3      NA\n",
       "all.hg.450                         list   92859528     3      NA\n",
       "all.hg.300                         list   90227160     3      NA\n",
       "all.hg.up.gt1                      list   87020304     3      NA\n",
       "all.hg.200                         list   86961568     3      NA\n",
       "iterationLoopOnlyCTCC              list   83820656     3      NA\n",
       "iterationLoopOnlyMicro             list   78327632     3      NA\n",
       "all.hg                             list   77989360     3      NA\n",
       "all.hg.up.100                      list   77989360     3      NA\n",
       "all.lumi.vst.norm             LumiBatch   57260624     1      NA\n",
       "dataMatrix                       matrix   42314208 29377     170\n",
       "it                                 list   36439976    10      NA\n",
       "itstate                            list   35742496    10      NA\n",
       "selDataMatrix                    matrix   35617264 27645     151\n",
       "iteration.states                   list   26598736     1      NA"
      ]
     },
     "metadata": {},
     "output_type": "display_data"
    },
    {
     "data": {
      "text/html": [
       "<table>\n",
       "<thead><tr><th></th><th scope=col>used</th><th scope=col>(Mb)</th><th scope=col>gc trigger</th><th scope=col>(Mb)</th><th scope=col>max used</th><th scope=col>(Mb)</th></tr></thead>\n",
       "<tbody>\n",
       "\t<tr><th scope=row>Ncells</th><td>15756974.0</td><td>     841.6</td><td>25102783.0</td><td>    1340.7</td><td>20885653.0</td><td>    1115.5</td></tr>\n",
       "\t<tr><th scope=row>Vcells</th><td>600859144.0</td><td>     4584.2</td><td>956279554.0</td><td>     7295.9</td><td>663960278.0</td><td>     5065.7</td></tr>\n",
       "</tbody>\n",
       "</table>\n"
      ],
      "text/latex": [
       "\\begin{tabular}{r|llllll}\n",
       "  & used & (Mb) & gc trigger & (Mb) & max used & (Mb)\\\\\n",
       "\\hline\n",
       "\tNcells & 15756974.0 &      841.6 & 25102783.0 &     1340.7 & 20885653.0 &     1115.5\\\\\n",
       "\tVcells & 600859144.0 &      4584.2 & 956279554.0 &      7295.9 & 663960278.0 &      5065.7\\\\\n",
       "\\end{tabular}\n"
      ],
      "text/markdown": [
       "1. 15756974\n",
       "2. 600859144\n",
       "3. 841.6\n",
       "4. 4584.2\n",
       "5. 25102783\n",
       "6. 956279554\n",
       "7. 1340.7\n",
       "8. 7295.9\n",
       "9. 20885653\n",
       "10. 663960278\n",
       "11. 1115.5\n",
       "12. 5065.7\n",
       "\n",
       "\n"
      ],
      "text/plain": [
       "            used   (Mb) gc trigger   (Mb)  max used   (Mb)\n",
       "Ncells  15756974  841.6   25102783 1340.7  20885653 1115.5\n",
       "Vcells 600859144 4584.2  956279554 7295.9 663960278 5065.7"
      ]
     },
     "metadata": {},
     "output_type": "display_data"
    }
   ],
   "source": [
    "#Load project from .Rdata\n",
    "system.time(load(paste(projDir,\"/r_saved_images/\",projectPrefix,\".Rdata\",sep=\"\")))\n",
    "lsos(n=30)\n",
    "gc()"
   ]
  },
  {
   "cell_type": "code",
   "execution_count": 7,
   "metadata": {
    "collapsed": false
   },
   "outputs": [
    {
     "data": {
      "text/html": [
       "<table>\n",
       "<thead><tr><th></th><th scope=col>used</th><th scope=col>(Mb)</th><th scope=col>gc trigger</th><th scope=col>(Mb)</th><th scope=col>max used</th><th scope=col>(Mb)</th></tr></thead>\n",
       "<tbody>\n",
       "\t<tr><th scope=row>Ncells</th><td>329183.0</td><td>    17.6</td><td>592000.0</td><td>    31.7</td><td>550603.0</td><td>    29.5</td></tr>\n",
       "\t<tr><th scope=row>Vcells</th><td> 544411.0</td><td>      4.2</td><td>1023718.0</td><td>      7.9</td><td> 785564.0</td><td>      6.0</td></tr>\n",
       "</tbody>\n",
       "</table>\n"
      ],
      "text/latex": [
       "\\begin{tabular}{r|llllll}\n",
       "  & used & (Mb) & gc trigger & (Mb) & max used & (Mb)\\\\\n",
       "\\hline\n",
       "\tNcells & 329183.0 &     17.6 & 592000.0 &     31.7 & 550603.0 &     29.5\\\\\n",
       "\tVcells &  544411.0 &       4.2 & 1023718.0 &       7.9 &  785564.0 &       6.0\\\\\n",
       "\\end{tabular}\n"
      ],
      "text/markdown": [
       "1. 329183\n",
       "2. 544411\n",
       "3. 17.6\n",
       "4. 4.2\n",
       "5. 592000\n",
       "6. 1023718\n",
       "7. 31.7\n",
       "8. 7.9\n",
       "9. 550603\n",
       "10. 785564\n",
       "11. 29.5\n",
       "12. 6\n",
       "\n",
       "\n"
      ],
      "text/plain": [
       "         used (Mb) gc trigger (Mb) max used (Mb)\n",
       "Ncells 329183 17.6     592000 31.7   550603 29.5\n",
       "Vcells 544411  4.2    1023718  7.9   785564  6.0"
      ]
     },
     "execution_count": 7,
     "metadata": {},
     "output_type": "execute_result"
    }
   ],
   "source": [
    "#Save project .Rdata\n",
    "gc()\n",
    "#system.time(save_new_image())"
   ]
  },
  {
   "cell_type": "code",
   "execution_count": 8,
   "metadata": {
    "collapsed": false
   },
   "outputs": [
    {
     "name": "stdout",
     "output_type": "stream",
     "text": [
      "Note: no visible global function definition for 'gpuSvd' \n",
      "Note: no visible global function definition for 'gpuMatMult' \n"
     ]
    }
   ],
   "source": [
    "library(cluster)\n",
    "library(MASS)\n",
    "\n",
    "library(lumi)\n",
    "library(lumiHumanIDMapping)\n",
    "library(lumiHumanAll.db)\n",
    "\n",
    "#install.packages(\"./src/mylimma_3.18.13.tar.gz\")\n",
    "# Modyfikowałem pakiet limma, bo był w nim bug, którego zgłosiłem.\n",
    "# Może już jest poprawiony w nowej wersji?\n",
    "library(limma)\n",
    "\n",
    "library(rpca)\n",
    "\n",
    "library(gplots)\n",
    "library(png)\n",
    "\n",
    "#library(multicore)\n",
    "library(annotate)\n",
    "library(GOstats)\n",
    "\n",
    "library(pamr)\n",
    "library(flare)\n",
    "\n",
    "library(lattice)\n",
    "library(multtest)\n",
    "library(matrixStats)\n",
    "library(extrafont)\n",
    "library(enrichvs)\n",
    "library(statmod)\n",
    "\n",
    "load.sources()\n",
    "\n",
    "#sessionInfo()"
   ]
  },
  {
   "cell_type": "markdown",
   "metadata": {},
   "source": [
    "# Macierz ekspresji\n",
    "Okej, w naszym projekcie dane o ekspresji pochodziły z mikromacierzy ekspresji i były wczytane pakietem lumi, a następnie znormalizowane przy użyciu odpowiedniej https://en.wikipedia.org/wiki/Variance-stabilizing_transformation VST (intensywności świecenia sond zostały przetransformowane czymś w rodzaju log2, ktory trochę inaczej traktuje małe wartości). \n",
    "\n",
    "● Variance Stabilization Transformation (VST): was performed by R &quot;lumi&quot; package\n",
    "according to Lin, Simon M., et al. &quot;Model-based variance-stabilizing transformation for\n",
    "Illumina microarray data.&quot; Nucleic acids research 36.2 (2008)\n",
    "\n",
    "● This step is performed to remove undesirable dependency of intensity variance,\n",
    "v, on the signal mean, and has similarities with log2 transform.\n",
    "\n",
    "● Normalization: Robust Spline Normalization (RSN) was performed by R &quot;lumi&quot;\n",
    "package. This step normalizes data between microarrays to have similar variance, and\n",
    "the method is a hybrid approach between quantile and loess normalization.\n",
    "\n",
    "Wynik tych operacji po wyrzuceniu niektórych próbek ze względu na quality control (o quality control jest w dokumentach i prezentacji, ktore Ci wyślę) jest w zmiennej `selDataMatrix`.\n",
    "\n",
    "Podobną macierz pewnie stworzysz z danych RNA-seq, tylko, że będą w niej liczby odczytów, które trzeba jakoś znormalizować. Praca z danymi RNA-seq i pakietem `limma` jest opisana tutaj w rozdziale 15: https://www.bioconductor.org/packages/devel/bioc/vignettes/limma/inst/doc/usersguide.pdf i są tam podane przykłady transformacji normalizujących. Wydaje mi się, że po takiej normalizacji Twoja macierz będzie mogła zostać analizowana w ten sam sposób jak `selDataMatrix`, co przedstawię poniżej.\n"
   ]
  },
  {
   "cell_type": "code",
   "execution_count": 16,
   "metadata": {
    "collapsed": false
   },
   "outputs": [
    {
     "data": {
      "text/html": [
       "<ol class=list-inline>\n",
       "\t<li>27645</li>\n",
       "\t<li>151</li>\n",
       "</ol>\n"
      ],
      "text/latex": [
       "\\begin{enumerate*}\n",
       "\\item 27645\n",
       "\\item 151\n",
       "\\end{enumerate*}\n"
      ],
      "text/markdown": [
       "1. 27645\n",
       "2. 151\n",
       "\n",
       "\n"
      ],
      "text/plain": [
       "[1] 27645   151"
      ]
     },
     "metadata": {},
     "output_type": "display_data"
    },
    {
     "data": {
      "text/html": [
       "<table>\n",
       "<thead><tr><th></th><th scope=col>7656774068_A</th><th scope=col>7656774068_B</th><th scope=col>7656774068_C</th><th scope=col>7656774068_D</th><th scope=col>7656774068_E</th></tr></thead>\n",
       "<tbody>\n",
       "\t<tr><th scope=row>Ku8QhfS0n_hIOABXuE</th><td> 9.277933</td><td>10.807275</td><td>10.281965</td><td> 8.637120</td><td> 9.066208</td></tr>\n",
       "\t<tr><th scope=row>fqPEquJRRlSVSfL.8A</th><td>8.235855</td><td>8.254479</td><td>8.191368</td><td>8.521740</td><td>8.467335</td></tr>\n",
       "</tbody>\n",
       "</table>\n"
      ],
      "text/latex": [
       "\\begin{tabular}{r|lllll}\n",
       "  & 7656774068\\_A & 7656774068\\_B & 7656774068\\_C & 7656774068\\_D & 7656774068\\_E\\\\\n",
       "\\hline\n",
       "\tKu8QhfS0n\\_hIOABXuE &  9.277933 & 10.807275 & 10.281965 &  8.637120 &  9.066208\\\\\n",
       "\tfqPEquJRRlSVSfL.8A & 8.235855 & 8.254479 & 8.191368 & 8.521740 & 8.467335\\\\\n",
       "\\end{tabular}\n"
      ],
      "text/markdown": [
       "1. 9.27793286613843\n",
       "2. 8.23585517004509\n",
       "3. 10.8072754922905\n",
       "4. 8.25447921096768\n",
       "5. 10.2819647633807\n",
       "6. 8.19136803897451\n",
       "7. 8.63712027643085\n",
       "8. 8.5217403627215\n",
       "9. 9.06620818803617\n",
       "10. 8.46733545294519\n",
       "\n",
       "\n"
      ],
      "text/plain": [
       "                   7656774068_A 7656774068_B 7656774068_C 7656774068_D\n",
       "Ku8QhfS0n_hIOABXuE     9.277933    10.807275    10.281965      8.63712\n",
       "fqPEquJRRlSVSfL.8A     8.235855     8.254479     8.191368      8.52174\n",
       "                   7656774068_E\n",
       "Ku8QhfS0n_hIOABXuE     9.066208\n",
       "fqPEquJRRlSVSfL.8A     8.467335"
      ]
     },
     "metadata": {},
     "output_type": "display_data"
    }
   ],
   "source": [
    "dim(selDataMatrix)\n",
    "selDataMatrix[1:2,1:5]"
   ]
  },
  {
   "cell_type": "markdown",
   "metadata": {},
   "source": [
    "W `selDataMatrix` kolumny to próbki, a wiersze to sondy odpowiadające genom, zdażają się geny do których jest przypisane więcej niż jedna sonda/wiersz. Nazwy wierszy to nazwy sond, z których można w następujący sposób odczytać m.in. nazwy genów `geneSymbol`. U Ciebie nie będzie nazw sond, więc będziesz musiała sama dostarczyć te nazwy, bo są one używane przez niektóre funkcje.\n",
    "\n",
    "Jednak dla działania limmy chyba dość istotne jest to, by nazwy wierszy w `selDataMatrix` były unikalne. Nazwy genów powinny być dostarczane przez funkcję mapującą ID wiersza na nazwę."
   ]
  },
  {
   "cell_type": "code",
   "execution_count": 21,
   "metadata": {
    "collapsed": false
   },
   "outputs": [
    {
     "data": {
      "text/html": [
       "<table>\n",
       "<thead><tr><th></th><th scope=col>geneSymbol</th><th scope=col>probe.to.gene.count</th></tr></thead>\n",
       "<tbody>\n",
       "\t<tr><th scope=row>Ku8QhfS0n_hIOABXuE</th><td>MACC1</td><td>2    </td></tr>\n",
       "\t<tr><th scope=row>fqPEquJRRlSVSfL.8A</th><td>A1BG</td><td>1   </td></tr>\n",
       "\t<tr><th scope=row>x57Vw5B5Fbt5JUnQkI</th><td>A1CF</td><td>3   </td></tr>\n",
       "\t<tr><th scope=row>ritxUH.kuHlYqjozpE</th><td>A1CF</td><td>3   </td></tr>\n",
       "\t<tr><th scope=row>QpE5UiUgmJOJEkPXpc</th><td>A1CF</td><td>3   </td></tr>\n",
       "\t<tr><th scope=row>ZtOcIegchMOATSJScI</th><td>POTEH</td><td>2    </td></tr>\n",
       "</tbody>\n",
       "</table>\n"
      ],
      "text/latex": [
       "\\begin{tabular}{r|ll}\n",
       "  & geneSymbol & probe.to.gene.count\\\\\n",
       "\\hline\n",
       "\tKu8QhfS0n\\_hIOABXuE & MACC1 & 2    \\\\\n",
       "\tfqPEquJRRlSVSfL.8A & A1BG & 1   \\\\\n",
       "\tx57Vw5B5Fbt5JUnQkI & A1CF & 3   \\\\\n",
       "\tritxUH.kuHlYqjozpE & A1CF & 3   \\\\\n",
       "\tQpE5UiUgmJOJEkPXpc & A1CF & 3   \\\\\n",
       "\tZtOcIegchMOATSJScI & POTEH & 2    \\\\\n",
       "\\end{tabular}\n"
      ],
      "text/plain": [
       "                   geneSymbol probe.to.gene.count\n",
       "Ku8QhfS0n_hIOABXuE      MACC1                   2\n",
       "fqPEquJRRlSVSfL.8A       A1BG                   1\n",
       "x57Vw5B5Fbt5JUnQkI       A1CF                   3\n",
       "ritxUH.kuHlYqjozpE       A1CF                   3\n",
       "QpE5UiUgmJOJEkPXpc       A1CF                   3\n",
       "ZtOcIegchMOATSJScI      POTEH                   2"
      ]
     },
     "metadata": {},
     "output_type": "display_data"
    },
    {
     "data": {
      "text/plain": [
       "\n",
       "    1     2     3     4     5     6     7     8   Sum \n",
       "13793  7080  4644  1556   430    78    35    16 27632 "
      ]
     },
     "metadata": {},
     "output_type": "display_data"
    }
   ],
   "source": [
    "## Compute duplication number for genes\n",
    "probeList <- rownames(selDataMatrix)\n",
    "geneSymbol <- getSYMBOL(probeList, 'lumiHumanAll.db')\n",
    "#length(geneSymbol)\n",
    "cnts<-table(geneSymbol)\n",
    "geneSymbolCounts<-data.frame(geneSymbol,probe.to.gene.count=cnts[geneSymbol],stringsAsFactors=FALSE)\n",
    "head(geneSymbolCounts)\n",
    "addmargins(table(geneSymbolCounts$probe.to.gene.count))"
   ]
  },
  {
   "cell_type": "markdown",
   "metadata": {},
   "source": [
    "Tak jak widać powyżej, są i geny, do których pasuje nawet 8 wierszy.\n",
    "\n",
    "Poza tym próbki (kolumny) były podzielone na 2 grupy różniące się typem raka pęcherza w następujący sposób:"
   ]
  },
  {
   "cell_type": "code",
   "execution_count": 26,
   "metadata": {
    "collapsed": false
   },
   "outputs": [
    {
     "data": {
      "text/html": [
       "<dl class=dl-horizontal>\n",
       "\t<dt>Micropap</dt>\n",
       "\t\t<dd>41</dd>\n",
       "\t<dt>Conv.TCC</dt>\n",
       "\t\t<dd>110</dd>\n",
       "</dl>\n"
      ],
      "text/latex": [
       "\\begin{description*}\n",
       "\\item[Micropap] 41\n",
       "\\item[Conv.TCC] 110\n",
       "\\end{description*}\n"
      ],
      "text/markdown": [
       "Micropap\n",
       ":   41Conv.TCC\n",
       ":   110\n",
       "\n"
      ],
      "text/plain": [
       "Micropap Conv.TCC \n",
       "      41      110 "
      ]
     },
     "metadata": {},
     "output_type": "display_data"
    }
   ],
   "source": [
    "summary(orig.sample.labels)"
   ]
  },
  {
   "cell_type": "code",
   "execution_count": 23,
   "metadata": {
    "collapsed": false
   },
   "outputs": [
    {
     "data": {
      "text/plain": []
     },
     "metadata": {},
     "output_type": "display_data"
    },
    {
     "data": {
      "image/png": "[encoded data removed]"
     },
     "metadata": {},
     "output_type": "display_data"
    }
   ],
   "source": [
    "options(repr.plot.width=4, repr.plot.height=4)\n",
    "options(jupyter.plot_mimetypes = 'image/png')\n",
    "# Histogram znormalizowanych danych\n",
    "histogram(~as.vector(selDataMatrix))"
   ]
  },
  {
   "cell_type": "markdown",
   "metadata": {
    "collapsed": false
   },
   "source": [
    "# Podstawowa analiza limma\n",
    "\n",
    "Czyli wybór top N genów różnicujących przy danym klastrowaniu, tfu, przepraszam, grupowaniu próbek."
   ]
  },
  {
   "cell_type": "code",
   "execution_count": 43,
   "metadata": {
    "collapsed": false
   },
   "outputs": [
    {
     "data": {
      "text/html": [
       "151"
      ],
      "text/latex": [
       "151"
      ],
      "text/markdown": [
       "151"
      ],
      "text/plain": [
       "[1] 151"
      ]
     },
     "metadata": {},
     "output_type": "display_data"
    },
    {
     "data": {
      "text/html": [
       "<ol class=list-inline>\n",
       "\t<li>27645</li>\n",
       "\t<li>151</li>\n",
       "</ol>\n"
      ],
      "text/latex": [
       "\\begin{enumerate*}\n",
       "\\item 27645\n",
       "\\item 151\n",
       "\\end{enumerate*}\n"
      ],
      "text/markdown": [
       "1. 27645\n",
       "2. 151\n",
       "\n",
       "\n"
      ],
      "text/plain": [
       "[1] 27645   151"
      ]
     },
     "metadata": {},
     "output_type": "display_data"
    }
   ],
   "source": [
    "length(orig.sample.labels)\n",
    "dim(selDataMatrix)"
   ]
  },
  {
   "cell_type": "code",
   "execution_count": 9,
   "metadata": {
    "collapsed": false
   },
   "outputs": [
    {
     "data": {
      "text/html": [
       "<ol class=list-inline>\n",
       "\t<li>'(Intercept)'</li>\n",
       "\t<li>'sampleTypeConv.TCC'</li>\n",
       "</ol>\n"
      ],
      "text/latex": [
       "\\begin{enumerate*}\n",
       "\\item '(Intercept)'\n",
       "\\item 'sampleTypeConv.TCC'\n",
       "\\end{enumerate*}\n"
      ],
      "text/markdown": [
       "1. '(Intercept)'\n",
       "2. 'sampleTypeConv.TCC'\n",
       "\n",
       "\n"
      ],
      "text/plain": [
       "[1] \"(Intercept)\"        \"sampleTypeConv.TCC\""
      ]
     },
     "metadata": {},
     "output_type": "display_data"
    }
   ],
   "source": [
    "sampleType <- orig.sample.labels\n",
    "design <- model.matrix(~ sampleType)\n",
    "colnames(design)"
   ]
  },
  {
   "cell_type": "code",
   "execution_count": 10,
   "metadata": {
    "collapsed": false
   },
   "outputs": [],
   "source": [
    "#Tricky to get the right sample type: reverse the indicator column\n",
    "design[,2]<-1-design[,2]\n",
    "colnames(design)[2]<-\"Micropap\""
   ]
  },
  {
   "cell_type": "code",
   "execution_count": 11,
   "metadata": {
    "collapsed": false
   },
   "outputs": [
    {
     "data": {
      "text/html": [
       "<table>\n",
       "<thead><tr><th></th><th scope=col>(Intercept)</th><th scope=col>Micropap</th></tr></thead>\n",
       "<tbody>\n",
       "\t<tr><th scope=row>1</th><td>1</td><td>1</td></tr>\n",
       "\t<tr><th scope=row>2</th><td>1</td><td>1</td></tr>\n",
       "\t<tr><th scope=row>3</th><td>1</td><td>1</td></tr>\n",
       "\t<tr><th scope=row>4</th><td>1</td><td>1</td></tr>\n",
       "\t<tr><th scope=row>5</th><td>1</td><td>1</td></tr>\n",
       "\t<tr><th scope=row>6</th><td>1</td><td>1</td></tr>\n",
       "</tbody>\n",
       "</table>\n"
      ],
      "text/latex": [
       "\\begin{tabular}{r|ll}\n",
       "  & (Intercept) & Micropap\\\\\n",
       "\\hline\n",
       "\t1 & 1 & 1\\\\\n",
       "\t2 & 1 & 1\\\\\n",
       "\t3 & 1 & 1\\\\\n",
       "\t4 & 1 & 1\\\\\n",
       "\t5 & 1 & 1\\\\\n",
       "\t6 & 1 & 1\\\\\n",
       "\\end{tabular}\n"
      ],
      "text/markdown": [
       "1. 1\n",
       "2. 1\n",
       "3. 1\n",
       "4. 1\n",
       "5. 1\n",
       "6. 1\n",
       "7. 1\n",
       "8. 1\n",
       "9. 1\n",
       "10. 1\n",
       "11. 1\n",
       "12. 1\n",
       "\n",
       "\n"
      ],
      "text/plain": [
       "  (Intercept) Micropap\n",
       "1           1        1\n",
       "2           1        1\n",
       "3           1        1\n",
       "4           1        1\n",
       "5           1        1\n",
       "6           1        1"
      ]
     },
     "metadata": {},
     "output_type": "display_data"
    },
    {
     "data": {
      "text/plain": [
       "\n",
       "  1 \n",
       "151 "
      ]
     },
     "metadata": {},
     "output_type": "display_data"
    },
    {
     "data": {
      "text/plain": [
       "\n",
       "  0   1 \n",
       "110  41 "
      ]
     },
     "metadata": {},
     "output_type": "display_data"
    }
   ],
   "source": [
    "head(design)\n",
    "table(design[,1])\n",
    "table(design[,2])"
   ]
  },
  {
   "cell_type": "code",
   "execution_count": 96,
   "metadata": {
    "collapsed": true
   },
   "outputs": [],
   "source": [
    "#?rlm"
   ]
  },
  {
   "cell_type": "code",
   "execution_count": null,
   "metadata": {
    "collapsed": false
   },
   "outputs": [
    {
     "name": "stderr",
     "output_type": "stream",
     "text": [
      "Warning message:\n",
      "In rlm.default(x = X, y = y, weights = w, ...): 'rlm' failed to converge in 50 stepsWarning message:\n",
      "In rlm.default(x = X, y = y, weights = w, ...): 'rlm' failed to converge in 50 stepsWarning message:\n",
      "In rlm.default(x = X, y = y, weights = w, ...): 'rlm' failed to converge in 50 stepsWarning message:\n",
      "In rlm.default(x = X, y = y, weights = w, ...): 'rlm' failed to converge in 50 stepsWarning message:\n",
      "In rlm.default(x = X, y = y, weights = w, ...): 'rlm' failed to converge in 50 stepsWarning message:\n",
      "In rlm.default(x = X, y = y, weights = w, ...): 'rlm' failed to converge in 50 stepsWarning message:\n",
      "In rlm.default(x = X, y = y, weights = w, ...): 'rlm' failed to converge in 50 stepsWarning message:\n",
      "In rlm.default(x = X, y = y, weights = w, ...): 'rlm' failed to converge in 50 stepsWarning message:\n",
      "In rlm.default(x = X, y = y, weights = w, ...): 'rlm' failed to converge in 50 steps"
     ]
    }
   ],
   "source": [
    "system.time(fit <- lmFit(selDataMatrix, design,method=\"robust\", maxit = 50))\n",
    "system.time(fit <- eBayes(fit))"
   ]
  },
  {
   "cell_type": "code",
   "execution_count": null,
   "metadata": {
    "collapsed": false
   },
   "outputs": [],
   "source": [
    "class(fit)\n",
    "names(fit[1])"
   ]
  },
  {
   "cell_type": "code",
   "execution_count": null,
   "metadata": {
    "collapsed": false
   },
   "outputs": [],
   "source": [
    "names(fit)\n",
    "head(fit$coefficients)"
   ]
  },
  {
   "cell_type": "code",
   "execution_count": null,
   "metadata": {
    "collapsed": true
   },
   "outputs": [],
   "source": [
    "## Add gene symbols to gene properties\n",
    "geneSymbol <- getSYMBOL(probeList, 'lumiHumanAll.db')\n",
    "geneName <- sapply(lookUp(probeList, 'lumiHumanAll.db', 'GENENAME'), function(x) x[1])\n",
    "fit$genes <- data.frame(ID= probeList, geneSymbol=geneSymbol, geneName=geneName, stringsAsFactors=FALSE)"
   ]
  },
  {
   "cell_type": "code",
   "execution_count": null,
   "metadata": {
    "collapsed": true
   },
   "outputs": [],
   "source": [
    "#?topTable\n",
    "#\n",
    "#sort.by: character string specifying statistic to rank genes by.\n",
    "#          Possible values for ‘topTable’ and ‘toptable’ are ‘\"logFC\"’,\n",
    "#          ‘\"AveExpr\"’, ‘\"t\"’, ‘\"P\"’, ‘\"p\"’, ‘\"B\"’ or ‘\"none\"’.\n",
    "#          (Permitted synonyms are ‘\"M\"’ for ‘\"logFC\"’, ‘\"A\"’ or\n",
    "#          ‘\"Amean\"’ for ‘\"AveExpr\"’, ‘\"T\"’ for ‘\"t\"’ and ‘\"p\"’ for\n",
    "#          ‘\"P\"’.)  Possibilities for ‘topTableF’ are ‘\"F\"’ or ‘\"none\"’.\n",
    "#\n",
    "#The ‘sort.by’ argument specifies the criterion used to select the\n",
    "#     top genes. The choices are: ‘\"logFC\"’ to sort by the (absolute)\n",
    "#     coefficient representing the log-fold-change; ‘\"A\"’ to sort by\n",
    "#     average expression level (over all arrays) in descending order;\n",
    "#     ‘\"T\"’ or ‘\"t\"’ for absolute t-statistic; ‘\"P\"’ or ‘\"p\"’ for\n",
    "#     p-values; or ‘\"B\"’ for the ‘lods’ or B-statistic."
   ]
  },
  {
   "cell_type": "markdown",
   "metadata": {},
   "source": [
    "Wybór 1500 najważniejszych genów, sortowanych po współczynnikach z modeli liniowych odpowiadających log-FoldChange, \n",
    "czyli zmianie intensywności. Wyliczane jest False Discovery Rate adjusted p-value (czasem chyba zwane q-value)."
   ]
  },
  {
   "cell_type": "code",
   "execution_count": null,
   "metadata": {
    "collapsed": false
   },
   "outputs": [],
   "source": [
    "ttab<-topTable(fit, coef='Micropap', adjust='fdr', number=1500,sort.by=\"M\")\n",
    "\n",
    "ttab<-ttab[ttab$adj.P.Val<0.01,]  #Filter out based on weak FDR q-values\n",
    "NROW(ttab)\n",
    "#Since IDs are the same as rows, we add ENTREZ genes ids basing on them\n",
    "ttab<-cbind(ttab,entrezID=unlist(lookUp(ttab$ID,'lumiHumanAll.db','ENTREZID')))\n",
    "\n",
    "print(\"AbsLogFoldChange summary:\")\n",
    "summary(abs(ttab$logFC))\n",
    "print(\"Quantile \")\n",
    "quantile(abs(ttab$logFC),0.05)\n",
    "print(\"LogFoldChange summary:\")\n",
    "summary(ttab$logFC)\n",
    "print(\"log(Adj.PVal) summary:\")\n",
    "summary(log(ttab$adj.P.Val))\n",
    "print(\"Quantile \")\n",
    "quantile(log(ttab$adj.P.Val),0.95)"
   ]
  },
  {
   "cell_type": "code",
   "execution_count": 124,
   "metadata": {
    "collapsed": false
   },
   "outputs": [
    {
     "data": {
      "text/html": [
       "901"
      ],
      "text/latex": [
       "901"
      ],
      "text/markdown": [
       "901"
      ],
      "text/plain": [
       "[1] 901"
      ]
     },
     "metadata": {},
     "output_type": "display_data"
    },
    {
     "data": {
      "text/html": [
       "577"
      ],
      "text/latex": [
       "577"
      ],
      "text/markdown": [
       "577"
      ],
      "text/plain": [
       "[1] 577"
      ]
     },
     "metadata": {},
     "output_type": "display_data"
    },
    {
     "data": {
      "text/plain": [
       "    Min.  1st Qu.   Median     Mean  3rd Qu.     Max. \n",
       "-123.500  -37.710  -25.520  -28.770  -16.080   -4.866 "
      ]
     },
     "metadata": {},
     "output_type": "display_data"
    },
    {
     "data": {
      "text/plain": [
       "    Min.  1st Qu.   Median     Mean  3rd Qu.     Max. \n",
       "-135.600  -28.240  -19.160  -21.540  -13.300   -4.671 "
      ]
     },
     "metadata": {},
     "output_type": "display_data"
    },
    {
     "name": "stdout",
     "output_type": "stream",
     "text": [
      "[1] \"LogFoldChange summary:\"\n"
     ]
    },
    {
     "data": {
      "text/plain": [
       "   Min. 1st Qu.  Median    Mean 3rd Qu.    Max. \n",
       " 0.8238  0.9399  1.0970  1.1990  1.3360  3.3170 "
      ]
     },
     "metadata": {},
     "output_type": "display_data"
    },
    {
     "data": {
      "text/plain": [
       "   Min. 1st Qu.  Median    Mean 3rd Qu.    Max. \n",
       "-3.3570 -1.2120 -1.0140 -1.1010 -0.9104 -0.8235 "
      ]
     },
     "metadata": {},
     "output_type": "display_data"
    }
   ],
   "source": [
    "ttabUp<-ttab[ttab$logFC>0,]\n",
    "ttabDown<-ttab[ttab$logFC<0,]\n",
    "NROW(ttabUp)\n",
    "NROW(ttabDown)\n",
    "summary(log(ttabUp$adj.P.Val))\n",
    "summary(log(ttabDown$adj.P.Val))\n",
    "\n",
    "print(\"LogFoldChange summary:\")\n",
    "summary(ttabUp$logFC)\n",
    "summary(ttabDown$logFC)"
   ]
  },
  {
   "cell_type": "code",
   "execution_count": 125,
   "metadata": {
    "collapsed": false
   },
   "outputs": [
    {
     "data": {
      "text/html": [
       "587"
      ],
      "text/latex": [
       "587"
      ],
      "text/markdown": [
       "587"
      ],
      "text/plain": [
       "[1] 587"
      ]
     },
     "metadata": {},
     "output_type": "display_data"
    },
    {
     "data": {
      "text/html": [
       "309"
      ],
      "text/latex": [
       "309"
      ],
      "text/markdown": [
       "309"
      ],
      "text/plain": [
       "[1] 309"
      ]
     },
     "metadata": {},
     "output_type": "display_data"
    }
   ],
   "source": [
    "#Significant logFoldChanges\n",
    "sum(ttab$logFC>1)\n",
    "sum(ttab$logFC< (-1))"
   ]
  },
  {
   "cell_type": "code",
   "execution_count": 126,
   "metadata": {
    "collapsed": false
   },
   "outputs": [
    {
     "data": {
      "text/html": [
       "<ol class=list-inline>\n",
       "\t<li>'ID'</li>\n",
       "\t<li>'geneSymbol'</li>\n",
       "\t<li>'geneName'</li>\n",
       "\t<li>'logFC'</li>\n",
       "\t<li>'AveExpr'</li>\n",
       "\t<li>'t'</li>\n",
       "\t<li>'P.Value'</li>\n",
       "\t<li>'adj.P.Val'</li>\n",
       "\t<li>'B'</li>\n",
       "\t<li>'entrezID'</li>\n",
       "</ol>\n"
      ],
      "text/latex": [
       "\\begin{enumerate*}\n",
       "\\item 'ID'\n",
       "\\item 'geneSymbol'\n",
       "\\item 'geneName'\n",
       "\\item 'logFC'\n",
       "\\item 'AveExpr'\n",
       "\\item 't'\n",
       "\\item 'P.Value'\n",
       "\\item 'adj.P.Val'\n",
       "\\item 'B'\n",
       "\\item 'entrezID'\n",
       "\\end{enumerate*}\n"
      ],
      "text/markdown": [
       "1. 'ID'\n",
       "2. 'geneSymbol'\n",
       "3. 'geneName'\n",
       "4. 'logFC'\n",
       "5. 'AveExpr'\n",
       "6. 't'\n",
       "7. 'P.Value'\n",
       "8. 'adj.P.Val'\n",
       "9. 'B'\n",
       "10. 'entrezID'\n",
       "\n",
       "\n"
      ],
      "text/plain": [
       " [1] \"ID\"         \"geneSymbol\" \"geneName\"   \"logFC\"      \"AveExpr\"   \n",
       " [6] \"t\"          \"P.Value\"    \"adj.P.Val\"  \"B\"          \"entrezID\"  "
      ]
     },
     "metadata": {},
     "output_type": "display_data"
    }
   ],
   "source": [
    "names(ttab)"
   ]
  },
  {
   "cell_type": "code",
   "execution_count": 127,
   "metadata": {
    "collapsed": false
   },
   "outputs": [
    {
     "data": {
      "text/html": [
       "'R_supervised_analysis_MP_cTCC_Project_topGenes_FC_upreg_gt1_alpha.txt'"
      ],
      "text/latex": [
       "'R\\_supervised\\_analysis\\_MP\\_cTCC\\_Project\\_topGenes\\_FC\\_upreg\\_gt1\\_alpha.txt'"
      ],
      "text/markdown": [
       "'R_supervised_analysis_MP_cTCC_Project_topGenes_FC_upreg_gt1_alpha.txt'"
      ],
      "text/plain": [
       "[1] \"R_supervised_analysis_MP_cTCC_Project_topGenes_FC_upreg_gt1_alpha.txt\""
      ]
     },
     "metadata": {},
     "output_type": "display_data"
    }
   ],
   "source": [
    "with(ttabUp[ttabUp$logFC>1,],{\n",
    "#print(head(sort(geneSymbol)))\n",
    "write.table(sort(geneSymbol),file=plotName(\"topGenes_FC_upreg_gt1_alpha.txt\"),quote=FALSE,row.names=FALSE,col.names=FALSE)\n",
    "})\n",
    "plotName(\"topGenes_FC_upreg_gt1_alpha.txt\")"
   ]
  },
  {
   "cell_type": "code",
   "execution_count": 128,
   "metadata": {
    "collapsed": false
   },
   "outputs": [
    {
     "name": "stdout",
     "output_type": "stream",
     "text": [
      "     entrezID    logFC\n",
      "[1,]      525 3.316740\n",
      "[2,]      544 2.760992\n",
      "[3,]      164 2.709186\n",
      "[4,]      800 2.692823\n",
      "[5,]       12 2.679728\n",
      "[6,]     1025 2.542547\n"
     ]
    },
    {
     "data": {
      "text/html": [
       "'R_supervised_analysis_MP_cTCC_Project_topGenes_FC_upreg_gt1_FCsort.txt'"
      ],
      "text/latex": [
       "'R\\_supervised\\_analysis\\_MP\\_cTCC\\_Project\\_topGenes\\_FC\\_upreg\\_gt1\\_FCsort.txt'"
      ],
      "text/markdown": [
       "'R_supervised_analysis_MP_cTCC_Project_topGenes_FC_upreg_gt1_FCsort.txt'"
      ],
      "text/plain": [
       "[1] \"R_supervised_analysis_MP_cTCC_Project_topGenes_FC_upreg_gt1_FCsort.txt\""
      ]
     },
     "metadata": {},
     "output_type": "display_data"
    }
   ],
   "source": [
    "with(ttabUp[ttabUp$logFC>1,],{\n",
    "or<-order(-logFC)\n",
    "print(head(cbind(entrezID,logFC)[or,]))\n",
    "write.table(entrezID[or],file=plotName(\"topGenes_FC_upreg_gt1_FCsort.txt\"),quote=FALSE,row.names=FALSE,col.names=FALSE)\n",
    "})\n",
    "plotName(\"topGenes_FC_upreg_gt1_FCsort.txt\")"
   ]
  },
  {
   "cell_type": "code",
   "execution_count": 129,
   "metadata": {
    "collapsed": false
   },
   "outputs": [
    {
     "name": "stdout",
     "output_type": "stream",
     "text": [
      "[1] \"ABCA3\"  \"ABHD12\" \"ACACB\"  \"ACKR2\"  \"ACOT11\" \"ACP6\"  \n"
     ]
    },
    {
     "data": {
      "text/html": [
       "'R_supervised_analysis_MP_cTCC_Project_topGenes_FC_downreg_gt1_alpha.txt'"
      ],
      "text/latex": [
       "'R\\_supervised\\_analysis\\_MP\\_cTCC\\_Project\\_topGenes\\_FC\\_downreg\\_gt1\\_alpha.txt'"
      ],
      "text/markdown": [
       "'R_supervised_analysis_MP_cTCC_Project_topGenes_FC_downreg_gt1_alpha.txt'"
      ],
      "text/plain": [
       "[1] \"R_supervised_analysis_MP_cTCC_Project_topGenes_FC_downreg_gt1_alpha.txt\""
      ]
     },
     "metadata": {},
     "output_type": "display_data"
    }
   ],
   "source": [
    "with(ttabDown[ttabDown$logFC<(-1),],{\n",
    "print(head(sort(geneSymbol)))\n",
    "write.table(sort(geneSymbol),file=plotName(\"topGenes_FC_downreg_gt1_alpha.txt\"),quote=FALSE,row.names=FALSE,col.names=FALSE)\n",
    "})\n",
    "plotName(\"topGenes_FC_downreg_gt1_alpha.txt\")"
   ]
  },
  {
   "cell_type": "code",
   "execution_count": 130,
   "metadata": {
    "collapsed": false
   },
   "outputs": [
    {
     "name": "stdout",
     "output_type": "stream",
     "text": [
      "     geneSymbol logFC              \n",
      "[1,] \"PROM1\"    \"-3.35687081616985\"\n",
      "[2,] \"IGDCC3\"   \"-3.04184512900755\"\n",
      "[3,] \"TRPV6\"    \"-2.69033620295423\"\n",
      "[4,] \"MUC1\"     \"-2.33872541712067\"\n",
      "[5,] \"MESP1\"    \"-2.23612499010657\"\n",
      "[6,] \"CLDN3\"    \"-2.17693188842061\"\n"
     ]
    },
    {
     "data": {
      "text/html": [
       "'R_supervised_analysis_MP_cTCC_Project_topGenes_FC_downreg_gt1_FCsort.txt'"
      ],
      "text/latex": [
       "'R\\_supervised\\_analysis\\_MP\\_cTCC\\_Project\\_topGenes\\_FC\\_downreg\\_gt1\\_FCsort.txt'"
      ],
      "text/markdown": [
       "'R_supervised_analysis_MP_cTCC_Project_topGenes_FC_downreg_gt1_FCsort.txt'"
      ],
      "text/plain": [
       "[1] \"R_supervised_analysis_MP_cTCC_Project_topGenes_FC_downreg_gt1_FCsort.txt\""
      ]
     },
     "metadata": {},
     "output_type": "display_data"
    }
   ],
   "source": [
    "with(ttabDown[ttabDown$logFC<(-1),],{\n",
    "or<-order(logFC)\n",
    "print(head(cbind(geneSymbol,logFC)[or,]))\n",
    "write.table(geneSymbol[or],file=plotName(\"topGenes_FC_downreg_gt1_FCsort.txt\"),quote=FALSE,row.names=FALSE,col.names=FALSE)\n",
    "})\n",
    "plotName(\"topGenes_FC_downreg_gt1_FCsort.txt\")"
   ]
  },
  {
   "cell_type": "code",
   "execution_count": null,
   "metadata": {
    "collapsed": true
   },
   "outputs": [],
   "source": []
  },
  {
   "cell_type": "markdown",
   "metadata": {},
   "source": [
    "# GO ontology\n",
    "Mam też kod używający pakiety require(GOstats), który generował istotnie reprezentowane GO terms w zbiorze top genów. Powiedz, jeśli jesteś zainteresowana."
   ]
  },
  {
   "cell_type": "markdown",
   "metadata": {
    "collapsed": true
   },
   "source": [
    "#Podstawowe heatmapy\n",
    "\n",
    "Funkcja, która rysuje heatmapy wybranego podzbioru genów klastruje wiersze i kolumny macierzy. Klastrowanie można ew. wymusić na własne. Klastrowanie odbywa się, przy użyciu kilku(dziesięciu) największych wartości singularnych z rozkładu, który przypomina rozkład SVD, tylko, że odporny na outliery (RobustPCA - więcej o metodzie w prezentacji). Poza tym niektóre geny są zaznaczane na kolorowo, wg kodu kolorów (z pliku \"src/Choi.et.al.genes.R\"). Wykres można zrobić w 2 wersjach: jeden panel, tylko macierz ekspresji, lub 3 panele obrazujące rozkład RobustPCA.\n",
    "\n",
    "Gdybyś potrzebowała dopieścić obrazek, to pytaj, trzeba kombinować opcjami hm.hprop itp.\n"
   ]
  },
  {
   "cell_type": "code",
   "execution_count": 33,
   "metadata": {
    "collapsed": false
   },
   "outputs": [
    {
     "name": "stdout",
     "output_type": "stream",
     "text": [
      "Note: no visible global function definition for 'gpuSvd' \n",
      "Note: no visible global function definition for 'gpuMatMult' \n",
      "[1] \"rpca converged: TRUE in:\"\n",
      "   user  system elapsed \n",
      "  1.190   0.010   1.176 \n",
      "            robust.rank rank.used.in.clustering \n",
      "                     57                      41 \n"
     ]
    },
    {
     "name": "stderr",
     "output_type": "stream",
     "text": [
      "Warning message:\n",
      "In acos(corgi): NaNs producedWarning message:\n",
      "In acos(corpi): NaNs produced"
     ]
    },
    {
     "name": "stdout",
     "output_type": "stream",
     "text": [
      "[1] 151  41 100  41\n"
     ]
    },
    {
     "data": {
      "text/html": [
       "'plots/R_supervised_analysis_MP_cTCC_Project_heatmap_top100_example1.png'"
      ],
      "text/latex": [
       "'plots/R\\_supervised\\_analysis\\_MP\\_cTCC\\_Project\\_heatmap\\_top100\\_example1.png'"
      ],
      "text/markdown": [
       "'plots/R_supervised_analysis_MP_cTCC_Project_heatmap_top100_example1.png'"
      ],
      "text/plain": [
       "[1] \"plots/R_supervised_analysis_MP_cTCC_Project_heatmap_top100_example1.png\""
      ]
     },
     "metadata": {},
     "output_type": "display_data"
    }
   ],
   "source": [
    "load.sources()\n",
    "N<-100\n",
    "\n",
    "pname<-paste(\"plots/\",plotName(paste(\"heatmap_top\",N,\"_example1.png\",sep=\"\")),sep=\"\")\n",
    "\n",
    "res<-with(ttab[1:min(N,NROW(ttab)),],{\n",
    "     \n",
    "     genedata<-selDataMatrix[ID,]\n",
    "     \n",
    "     heatmap.clust(pname,genedata,geneSymbol,\n",
    "                   pca.type=\"robust.pca\",#pca.type=\"svd\",                   \n",
    "                   plot.only.raw=TRUE, # only 1 or 3 panels \n",
    "                   dend.both=TRUE, # dendrograms\n",
    "                   #nv=length, #select all singular values\n",
    "                   nv=function(d){d2<-d^2   # select as many singular values so their sum is over 0.XXX total sum\n",
    "                                  cs<-cumsum(d2/sum(d2))\n",
    "                                  head(which(cs>=0.999),1) \n",
    "                                  },\n",
    "                   main.title=\"log(FoldChange) relative to median gene expression\",\n",
    "                   #sample.labels=c(\"violet\",\"lightblue\",\"green\",\"purple\")[sample.labels],\n",
    "                   #sample.labels.marks=orig.sample.labels==\"Micropap\",\n",
    "                   sample.labels=c(\"violet\",\"lightblue\")[orig.sample.labels],\n",
    "                   sample.labels.marks=suspicious.samples,#sample.labels==1,\n",
    "                   gene.colors=get.color.for.gene(geneSymbol), # defined in \"src/Choi.et.al.genes.R\"\n",
    "                   centralize=TRUE, #Median centralize        \n",
    "                   normalize=FALSE, \n",
    "                   normalize.for.plot=FALSE, # for plot, but not for clustering\n",
    "                   do.plot=TRUE,\n",
    "                   clustering.distance=\"angular\",\n",
    "                   absolute.gene.clustering=FALSE,\n",
    "                   rect.column=3,\n",
    "                   rect.row=2,\n",
    "                   sample.method=\"ward\",\n",
    "                   genes.method=\"ward\",\n",
    "                   hm.width=2000,\n",
    "                   hm.height=1200,\n",
    "                   hm.hprop=c(2,1,10))\n",
    "})\n",
    "pname"
   ]
  },
  {
   "cell_type": "markdown",
   "metadata": {
    "collapsed": false
   },
   "source": [
    "<img src='plots/R_supervised_analysis_MP_cTCC_Project_heatmap_top100_example1.png'>"
   ]
  },
  {
   "cell_type": "code",
   "execution_count": 34,
   "metadata": {
    "collapsed": false
   },
   "outputs": [
    {
     "name": "stdout",
     "output_type": "stream",
     "text": [
      "Note: no visible global function definition for 'gpuSvd' \n",
      "Note: no visible global function definition for 'gpuMatMult' \n",
      "[1] \"rpca converged: TRUE in:\"\n",
      "   user  system elapsed \n",
      "  3.100   0.200   2.832 \n",
      "            robust.rank rank.used.in.clustering \n",
      "                     85                      61 \n"
     ]
    },
    {
     "name": "stderr",
     "output_type": "stream",
     "text": [
      "Warning message:\n",
      "In acos(corgi): NaNs producedWarning message:\n",
      "In acos(corpi): NaNs produced"
     ]
    },
    {
     "name": "stdout",
     "output_type": "stream",
     "text": [
      "[1] 151  61 200  61\n"
     ]
    },
    {
     "data": {
      "text/html": [
       "'plots/R_supervised_analysis_MP_cTCC_Project_heatmap_top200_example2_wide.png'"
      ],
      "text/latex": [
       "'plots/R\\_supervised\\_analysis\\_MP\\_cTCC\\_Project\\_heatmap\\_top200\\_example2\\_wide.png'"
      ],
      "text/markdown": [
       "'plots/R_supervised_analysis_MP_cTCC_Project_heatmap_top200_example2_wide.png'"
      ],
      "text/plain": [
       "[1] \"plots/R_supervised_analysis_MP_cTCC_Project_heatmap_top200_example2_wide.png\""
      ]
     },
     "metadata": {},
     "output_type": "display_data"
    }
   ],
   "source": [
    "load.sources()\n",
    "N<-200\n",
    "\n",
    "pname<-paste(\"plots/\",plotName(paste(\"heatmap_top\",N,\"_example2_wide.png\",sep=\"\")),sep=\"\")\n",
    "\n",
    "res<-with(ttab[1:min(N,NROW(ttab)),],{\n",
    "     \n",
    "     genedata<-selDataMatrix[ID,]\n",
    "     \n",
    "     heatmap.clust(pname,genedata,geneSymbol,\n",
    "                   pca.type=\"robust.pca\",#pca.type=\"svd\",                   \n",
    "                   plot.only.raw=FALSE, # only 1 or 3 panels \n",
    "                   dend.both=TRUE, # dendrograms\n",
    "                   #nv=length, #select all singular values\n",
    "                   nv=function(d){d2<-d^2   # select as many singular values so their sum is over 0.XXX total sum\n",
    "                                  cs<-cumsum(d2/sum(d2))\n",
    "                                  head(which(cs>=0.999),1) \n",
    "                                  },\n",
    "                   main.title=\"log(FoldChange) relative to median gene expression\",\n",
    "                   #sample.labels=c(\"violet\",\"lightblue\",\"green\",\"purple\")[sample.labels],\n",
    "                   #sample.labels.marks=orig.sample.labels==\"Micropap\",\n",
    "                   sample.labels=c(\"violet\",\"lightblue\")[orig.sample.labels],\n",
    "                   sample.labels.marks=suspicious.samples,#sample.labels==1,\n",
    "                   gene.colors=get.color.for.gene(geneSymbol), # defined in \"src/Choi.et.al.genes.R\"\n",
    "                   centralize=TRUE,        \n",
    "                   normalize=FALSE,\n",
    "                   normalize.for.plot=FALSE,                   \n",
    "                   do.plot=TRUE,\n",
    "                   clustering.distance=\"angular\",\n",
    "                   absolute.gene.clustering=FALSE,\n",
    "                   rect.column=3,\n",
    "                   rect.row=2,\n",
    "                   sample.method=\"ward\",\n",
    "                   genes.method=\"ward\",\n",
    "                   hm.width=4500,\n",
    "                   hm.height=2200,\n",
    "                   hm.hprop=c(2,1,20))\n",
    "})\n",
    "pname"
   ]
  },
  {
   "cell_type": "markdown",
   "metadata": {
    "collapsed": false
   },
   "source": [
    "A tak wygląda w szczegółach rozkład RobustPCA (kliknij prawym i otwórz w nowej zakładce)\n",
    "<img src='plots/R_supervised_analysis_MP_cTCC_Project_heatmap_top200_example2_wide.png'>"
   ]
  },
  {
   "cell_type": "markdown",
   "metadata": {
    "collapsed": false
   },
   "source": [
    "# Iteracyjne poprawianie klastrowania\n",
    "\n"
   ]
  },
  {
   "cell_type": "code",
   "execution_count": 33,
   "metadata": {
    "collapsed": false
   },
   "outputs": [
    {
     "ename": "ERROR",
     "evalue": "Error in parse(text = x, srcfile = src): <text>:1:1: unexpected input\n1: %time\n    ^\n",
     "output_type": "error",
     "traceback": [
      "Error in parse(text = x, srcfile = src): <text>:1:1: unexpected input\n1: %time\n    ^\nTraceback:\n"
     ]
    }
   ],
   "source": [
    "%time\n",
    "load.sources()\n",
    "inpar(iterationLoop1000abscoef,\n",
    "#iterationLoop1000rerun<-eval(\n",
    "expression({\n",
    "  #perform.iterative.clustering(iterationLoop1000coeffstat300,\n",
    "  iterative.clustering(\n",
    "    selDataMatrix,\n",
    "    sample.labels=orig.sample.labels,                      \n",
    "    N=1000, k=4, \n",
    "    gene.order=\"abscoef\",\n",
    "    p.abscoef=2,  \n",
    "    #coef.fstat.pvweight=300,\n",
    "    plotname.core=\"abscoefstart_lfc1.5\",#match.arg(gene.order),\n",
    "    maxit=32,\n",
    "    #startit=24,\n",
    "    avail.colors=c(\"violet\",\"lightblue\",\"green\",\"purple\",\"red\",\"yellow\"),\n",
    "    sample.labels.marks=orig.sample.labels==\"Micropap\",\n",
    "    pval.threshold=0.005,\n",
    "    lfc.threshold=log2(1.5),\n",
    "    explained.variance.for.clustering.thr=0.999,\n",
    "    obligatory.genes=obligatory.genes\n",
    "    )\n",
    "}))"
   ]
  },
  {
   "cell_type": "code",
   "execution_count": null,
   "metadata": {
    "collapsed": true
   },
   "outputs": [],
   "source": []
  },
  {
   "cell_type": "code",
   "execution_count": null,
   "metadata": {
    "collapsed": true
   },
   "outputs": [],
   "source": []
  },
  {
   "cell_type": "code",
   "execution_count": null,
   "metadata": {
    "collapsed": true
   },
   "outputs": [],
   "source": []
  },
  {
   "cell_type": "code",
   "execution_count": null,
   "metadata": {
    "collapsed": true
   },
   "outputs": [],
   "source": []
  },
  {
   "cell_type": "code",
   "execution_count": null,
   "metadata": {
    "collapsed": true
   },
   "outputs": [],
   "source": []
  },
  {
   "cell_type": "code",
   "execution_count": null,
   "metadata": {
    "collapsed": true
   },
   "outputs": [],
   "source": []
  },
  {
   "cell_type": "code",
   "execution_count": null,
   "metadata": {
    "collapsed": true
   },
   "outputs": [],
   "source": []
  }
 ],
 "metadata": {
  "kernelspec": {
   "display_name": "R",
   "language": "R",
   "name": "ir"
  },
  "language_info": {
   "codemirror_mode": "r",
   "file_extension": ".r",
   "mimetype": "text/x-r-source",
   "name": "R",
   "pygments_lexer": "r",
   "version": "3.2.0"
  }
 },
 "nbformat": 4,
 "nbformat_minor": 0
}
